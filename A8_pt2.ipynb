{
  "nbformat": 4,
  "nbformat_minor": 0,
  "metadata": {
    "colab": {
      "provenance": [],
      "collapsed_sections": [],
      "include_colab_link": true
    },
    "kernelspec": {
      "name": "python3",
      "display_name": "Python 3"
    },
    "language_info": {
      "name": "python"
    }
  },
  "cells": [
    {
      "cell_type": "markdown",
      "metadata": {
        "id": "view-in-github",
        "colab_type": "text"
      },
      "source": [
        "<a href=\"https://colab.research.google.com/github/gentryae/ML_classwork/blob/main/A8_pt2.ipynb\" target=\"_parent\"><img src=\"https://colab.research.google.com/assets/colab-badge.svg\" alt=\"Open In Colab\"/></a>"
      ]
    },
    {
      "cell_type": "markdown",
      "source": [
        "# Machine Learning: Deep Learning\n"
      ],
      "metadata": {
        "id": "X0dRo4YvVvAA"
      }
    },
    {
      "cell_type": "code",
      "source": [
        "#imports\n",
        "import pandas as pd\n",
        "import numpy as np\n",
        "import matplotlib.pyplot as plt\n"
      ],
      "metadata": {
        "id": "884P1DokV5V2"
      },
      "execution_count": 33,
      "outputs": []
    },
    {
      "cell_type": "markdown",
      "source": [
        "# Housing Market Model HW\n",
        "\n",
        "The data includes house size, number of bedrooms and house price. We are determining the output (house price) based on house size and number of bedrooms as inputs. "
      ],
      "metadata": {
        "id": "iWEF5AH6V7iJ"
      }
    },
    {
      "cell_type": "code",
      "source": [
        "# Create basic linear data from class slides\n",
        "data = np.genfromtxt(\"housing_price_data.txt\", delimiter=\",\")\n",
        "data"
      ],
      "metadata": {
        "id": "qXNIRbbuWIt2",
        "colab": {
          "base_uri": "https://localhost:8080/"
        },
        "outputId": "0b69e565-76cf-4a26-e62f-db5f95abf837"
      },
      "execution_count": 34,
      "outputs": [
        {
          "output_type": "execute_result",
          "data": {
            "text/plain": [
              "array([[2.10400e+03, 3.00000e+00, 3.99900e+05],\n",
              "       [1.60000e+03, 3.00000e+00, 3.29900e+05],\n",
              "       [2.40000e+03, 3.00000e+00, 3.69000e+05],\n",
              "       [1.41600e+03, 2.00000e+00, 2.32000e+05],\n",
              "       [3.00000e+03, 4.00000e+00, 5.39900e+05],\n",
              "       [1.98500e+03, 4.00000e+00, 2.99900e+05],\n",
              "       [1.53400e+03, 3.00000e+00, 3.14900e+05],\n",
              "       [1.42700e+03, 3.00000e+00, 1.98999e+05],\n",
              "       [1.38000e+03, 3.00000e+00, 2.12000e+05],\n",
              "       [1.49400e+03, 3.00000e+00, 2.42500e+05],\n",
              "       [1.94000e+03, 4.00000e+00, 2.39999e+05],\n",
              "       [2.00000e+03, 3.00000e+00, 3.47000e+05],\n",
              "       [1.89000e+03, 3.00000e+00, 3.29999e+05],\n",
              "       [4.47800e+03, 5.00000e+00, 6.99900e+05],\n",
              "       [1.26800e+03, 3.00000e+00, 2.59900e+05],\n",
              "       [2.30000e+03, 4.00000e+00, 4.49900e+05],\n",
              "       [1.32000e+03, 2.00000e+00, 2.99900e+05],\n",
              "       [1.23600e+03, 3.00000e+00, 1.99900e+05],\n",
              "       [2.60900e+03, 4.00000e+00, 4.99998e+05],\n",
              "       [3.03100e+03, 4.00000e+00, 5.99000e+05],\n",
              "       [1.76700e+03, 3.00000e+00, 2.52900e+05],\n",
              "       [1.88800e+03, 2.00000e+00, 2.55000e+05],\n",
              "       [1.60400e+03, 3.00000e+00, 2.42900e+05],\n",
              "       [1.96200e+03, 4.00000e+00, 2.59900e+05],\n",
              "       [3.89000e+03, 3.00000e+00, 5.73900e+05],\n",
              "       [1.10000e+03, 3.00000e+00, 2.49900e+05],\n",
              "       [1.45800e+03, 3.00000e+00, 4.64500e+05],\n",
              "       [2.52600e+03, 3.00000e+00, 4.69000e+05],\n",
              "       [2.20000e+03, 3.00000e+00, 4.75000e+05],\n",
              "       [2.63700e+03, 3.00000e+00, 2.99900e+05],\n",
              "       [1.83900e+03, 2.00000e+00, 3.49900e+05],\n",
              "       [1.00000e+03, 1.00000e+00, 1.69900e+05],\n",
              "       [2.04000e+03, 4.00000e+00, 3.14900e+05],\n",
              "       [3.13700e+03, 3.00000e+00, 5.79900e+05],\n",
              "       [1.81100e+03, 4.00000e+00, 2.85900e+05],\n",
              "       [1.43700e+03, 3.00000e+00, 2.49900e+05],\n",
              "       [1.23900e+03, 3.00000e+00, 2.29900e+05],\n",
              "       [2.13200e+03, 4.00000e+00, 3.45000e+05],\n",
              "       [4.21500e+03, 4.00000e+00, 5.49000e+05],\n",
              "       [2.16200e+03, 4.00000e+00, 2.87000e+05],\n",
              "       [1.66400e+03, 2.00000e+00, 3.68500e+05],\n",
              "       [2.23800e+03, 3.00000e+00, 3.29900e+05],\n",
              "       [2.56700e+03, 4.00000e+00, 3.14000e+05],\n",
              "       [1.20000e+03, 3.00000e+00, 2.99000e+05],\n",
              "       [8.52000e+02, 2.00000e+00, 1.79900e+05],\n",
              "       [1.85200e+03, 4.00000e+00, 2.99900e+05],\n",
              "       [1.20300e+03, 3.00000e+00, 2.39500e+05]])"
            ]
          },
          "metadata": {},
          "execution_count": 34
        }
      ]
    },
    {
      "cell_type": "markdown",
      "source": [
        "# Feature Scaling\n",
        "\n",
        "$$x_{new} = \\frac{x-x_{min}}{x_{max}-x_{min}}$$"
      ],
      "metadata": {
        "id": "Pcs3Ihh7UfCp"
      }
    },
    {
      "cell_type": "code",
      "source": [
        "size = data[:,0] # returns the first columm.\n",
        "num_rooms = data[:,1]\n",
        "\n",
        "x1_min = np.amin(size)\n",
        "x2_min = np.amin(num_rooms)\n",
        "# do this for y as well??? \n",
        "\n",
        "x1_max = np.amax(size)\n",
        "x2_max = np.amax(num_rooms)\n",
        "\n",
        "def scale(num, x1):\n",
        "  if x1:\n",
        "    new_num = (num-x1_min)/(x1_max-x1_min)\n",
        "  else:\n",
        "    new_num = (num-x2_min)/(x2_max-x2_min)\n",
        "  return new_num\n",
        "\n",
        "fs = np.vectorize(scale)\n",
        "new_x1 = fs(size,True)\n",
        "''' Do calculations for other columens, and then re-join them and rename data'''\n",
        "new_x1"
      ],
      "metadata": {
        "colab": {
          "base_uri": "https://localhost:8080/"
        },
        "id": "l0Bw8Y0rUjcE",
        "outputId": "53af10a2-f116-420a-c68f-0452f2a6a0e5"
      },
      "execution_count": 59,
      "outputs": [
        {
          "output_type": "execute_result",
          "data": {
            "text/plain": [
              "array([0.34528406, 0.20628792, 0.42691671, 0.1555433 , 0.59238831,\n",
              "       0.31246553, 0.18808605, 0.15857694, 0.145615  , 0.17705461,\n",
              "       0.30005516, 0.31660232, 0.28626586, 1.        , 0.11472697,\n",
              "       0.39933811, 0.12906784, 0.10590182, 0.48455598, 0.60093767,\n",
              "       0.25234418, 0.28571429, 0.20739106, 0.30612245, 0.83783784,\n",
              "       0.06839493, 0.16712631, 0.46166575, 0.37175951, 0.49227799,\n",
              "       0.27220077, 0.04081633, 0.32763376, 0.63017099, 0.26447876,\n",
              "       0.1613348 , 0.10672918, 0.35300607, 0.92746828, 0.36127965,\n",
              "       0.22393822, 0.38223938, 0.47297297, 0.09597352, 0.        ,\n",
              "       0.27578599, 0.09680088])"
            ]
          },
          "metadata": {},
          "execution_count": 59
        }
      ]
    },
    {
      "cell_type": "markdown",
      "source": [
        "## Calculate model output given parameters\n",
        "Calculate the output for a single training example. The formula for this for a single variable model is as follows:\n",
        "\n",
        "$$h_\\theta(x) = \\theta_0 + \\theta_1x_1$$\n",
        "\n",
        "or more specifically to our syntax here:\n",
        "\n",
        "$$\\hat{y}_\\theta(x) = \\theta_0 + \\theta_1x_1$$\n"
      ],
      "metadata": {
        "id": "zdZTxw6mXIOM"
      }
    },
    {
      "cell_type": "code",
      "source": [
        "# make up some initial thetas\n",
        "theta_0 = 0.2\n",
        "theta_1 = 0.8\n",
        "theta_2 = 0.5"
      ],
      "metadata": {
        "id": "kl7Xw-RCXXLG"
      },
      "execution_count": 35,
      "outputs": []
    },
    {
      "cell_type": "code",
      "source": [
        "# get example 0\n",
        "x1, x2, y = data[0]\n",
        "x1, x2, y"
      ],
      "metadata": {
        "id": "WXmI5tarXpB_",
        "colab": {
          "base_uri": "https://localhost:8080/"
        },
        "outputId": "f7a7e130-1dec-4a94-9df2-27e7298e51ef"
      },
      "execution_count": 36,
      "outputs": [
        {
          "output_type": "execute_result",
          "data": {
            "text/plain": [
              "(2104.0, 3.0, 399900.0)"
            ]
          },
          "metadata": {},
          "execution_count": 36
        }
      ]
    },
    {
      "cell_type": "code",
      "source": [
        "# use formula for linear regression to get output\n",
        "y_hat = theta_0 + theta_1 * x1 + theta_2 * x2\n",
        "y_hat"
      ],
      "metadata": {
        "id": "i6HNFHbEXT8P",
        "colab": {
          "base_uri": "https://localhost:8080/"
        },
        "outputId": "aaf1d20d-a12e-4981-e3c8-0ccbd729d8aa"
      },
      "execution_count": 37,
      "outputs": [
        {
          "output_type": "execute_result",
          "data": {
            "text/plain": [
              "1684.9"
            ]
          },
          "metadata": {},
          "execution_count": 37
        }
      ]
    },
    {
      "cell_type": "markdown",
      "source": [
        "## Error, cost, and loss\n",
        "Recall our overall cost (or loss) function: \n",
        "\n",
        "$$J(\\theta) = \\frac{1}{2m}\\sum\\limits_{i = 1}^{m}(h_\\theta(x^{(i)}) - y^{(i)})^2$$\n",
        "\n",
        "What is the error for this one training example given these model parameters?"
      ],
      "metadata": {
        "id": "VkZ4364xYRdj"
      }
    },
    {
      "cell_type": "code",
      "source": [
        "# calculate basic error\n",
        "error = y_hat - y\n",
        "error"
      ],
      "metadata": {
        "id": "5_9JnAbgYnVo",
        "colab": {
          "base_uri": "https://localhost:8080/"
        },
        "outputId": "91b8c483-ff9f-4527-a458-d8d2ab878e56"
      },
      "execution_count": 38,
      "outputs": [
        {
          "output_type": "execute_result",
          "data": {
            "text/plain": [
              "-398215.1"
            ]
          },
          "metadata": {},
          "execution_count": 38
        }
      ]
    },
    {
      "cell_type": "markdown",
      "source": [
        "What is the cost associated with this training example given these model parameters?"
      ],
      "metadata": {
        "id": "oJAywUkZYzRG"
      }
    },
    {
      "cell_type": "code",
      "source": [
        "# calculate cost\n",
        "cost = 0.5 * (error ** 2)\n",
        "cost"
      ],
      "metadata": {
        "id": "hgVTNHAPY2zz",
        "colab": {
          "base_uri": "https://localhost:8080/"
        },
        "outputId": "07b5dfa5-a2f7-4fff-ad87-d95715cc6ffb"
      },
      "execution_count": 39,
      "outputs": [
        {
          "output_type": "execute_result",
          "data": {
            "text/plain": [
              "79287632934.00499"
            ]
          },
          "metadata": {},
          "execution_count": 39
        }
      ]
    },
    {
      "cell_type": "markdown",
      "source": [
        "## Updating the model parameters based on gradient descent\n",
        "What would gradient descent look like for this example? Recall:\n",
        "\n",
        "\n",
        "$$\\theta_j := \\theta_j - \\alpha(h_\\theta(x^{(i)}) - y^{(i)}) x_j^{(i)}$$\n",
        "\n",
        "or more specifically to our syntax here:\n",
        "\n",
        "$$\\theta_j := \\theta_j - \\alpha (\\hat{y}_\\theta(x^{(i)}) - y^{(i)}) x_j^{(i)}$$\n",
        "\n",
        "Keeping in mind:  \n",
        "* _j_ denotes an individual parameter in a model. \n",
        "* _i_ denotes a particular training example"
      ],
      "metadata": {
        "id": "cdSMFORtYJii"
      }
    },
    {
      "cell_type": "code",
      "source": [
        "# new parameter - learning rate\n",
        "alpha = 5e-1\n",
        "alpha"
      ],
      "metadata": {
        "id": "xNYCuyqCboui",
        "colab": {
          "base_uri": "https://localhost:8080/"
        },
        "outputId": "a6152cfb-4c8f-4879-85fd-86a85a38e9c5"
      },
      "execution_count": 40,
      "outputs": [
        {
          "output_type": "execute_result",
          "data": {
            "text/plain": [
              "0.5"
            ]
          },
          "metadata": {},
          "execution_count": 40
        }
      ]
    },
    {
      "cell_type": "code",
      "source": [
        "# calculate update for theta 0\n",
        "theta_0_new = theta_0 - alpha * (error) * 1\n",
        "theta_0_new"
      ],
      "metadata": {
        "id": "MY2rYifZYMwJ",
        "colab": {
          "base_uri": "https://localhost:8080/"
        },
        "outputId": "463c50fb-b13e-4387-c3a4-0ce772e8dab7"
      },
      "execution_count": 41,
      "outputs": [
        {
          "output_type": "execute_result",
          "data": {
            "text/plain": [
              "199107.75"
            ]
          },
          "metadata": {},
          "execution_count": 41
        }
      ]
    },
    {
      "cell_type": "code",
      "source": [
        "# calculate update for theta 1\n",
        "theta_1_new = theta_1 - alpha * (error) * x1\n",
        "theta_1_new"
      ],
      "metadata": {
        "id": "pYU8vQnMb7NK",
        "colab": {
          "base_uri": "https://localhost:8080/"
        },
        "outputId": "98e8e605-99ca-498c-e1e8-a2199107ed5b"
      },
      "execution_count": 42,
      "outputs": [
        {
          "output_type": "execute_result",
          "data": {
            "text/plain": [
              "418922286.0"
            ]
          },
          "metadata": {},
          "execution_count": 42
        }
      ]
    },
    {
      "cell_type": "code",
      "source": [
        "# calculate update for theta 2\n",
        "theta_2_new = theta_2 - alpha * (error) * x2\n",
        "theta_2_new"
      ],
      "metadata": {
        "colab": {
          "base_uri": "https://localhost:8080/"
        },
        "id": "8x5uRcbFZkV0",
        "outputId": "c7856d6c-0212-491c-e118-2b52e4c3b2dc"
      },
      "execution_count": 43,
      "outputs": [
        {
          "output_type": "execute_result",
          "data": {
            "text/plain": [
              "597323.1499999999"
            ]
          },
          "metadata": {},
          "execution_count": 43
        }
      ]
    },
    {
      "cell_type": "code",
      "source": [
        "# do the update\n",
        "theta_0 = theta_0_new\n",
        "theta_1 = theta_1_new\n",
        "theta_2 = theta_2_new"
      ],
      "metadata": {
        "id": "NV9EFMeNcG5g"
      },
      "execution_count": 44,
      "outputs": []
    },
    {
      "cell_type": "markdown",
      "source": [
        "## Let's write some functions to help us out with training."
      ],
      "metadata": {
        "id": "f2WqvjQYcOwk"
      }
    },
    {
      "cell_type": "code",
      "source": [
        "def calculate_single_forward(thetas, train_ex):\n",
        "    '''\n",
        "        thetas: theta0, theta1, ..., thetaj\n",
        "        train_ex: (x, y)\n",
        "        \n",
        "        returns: gradients based on a single training example\n",
        "    '''\n",
        "\n",
        "    # parse model parameters\n",
        "    theta_0 = thetas[0]\n",
        "    theta_1 = thetas[1]\n",
        "    theta_2 = thetas[2]\n",
        "\n",
        "    # parse data inputs\n",
        "    x0 = 1 # @@ maybe this needs to change??\n",
        "    x1 = train_ex[0]\n",
        "    x2 = train_ex[1]\n",
        "    y = train_ex[2]\n",
        "\n",
        "    # do one forward pass with a single training example\n",
        "    # to calculate error and gradient\n",
        "    y_hat = theta_0 + theta_1 * x1 + theta_2 * x2\n",
        "    error = y_hat - y\n",
        "\n",
        "    # for each theta, we need the gradient for an update\n",
        "    gradients = np.array([error * x0, error * x1, error*x2])\n",
        "    cost = 0.5 * (error ** 2)\n",
        "    # Question: what would you do differently for GD or mini-batch GD?\n",
        "\n",
        "    return gradients, cost"
      ],
      "metadata": {
        "id": "mecUhzIycSUm"
      },
      "execution_count": 45,
      "outputs": []
    },
    {
      "cell_type": "markdown",
      "source": [
        "For the actual gradient descent, this is the update function:\n",
        "\n",
        "$$\\theta_j := \\theta_j - \\alpha \\sum\\limits_{i = 1}^{m}(h_\\theta(x^{(i)}) - y^{(i)})x_j^{(i)}$$\n"
      ],
      "metadata": {
        "id": "Bk_m-LVQ9PqV"
      }
    },
    {
      "cell_type": "code",
      "source": [
        "def gradient_descent(training_data, thetas, alpha=5e-3):\n",
        "    '''\n",
        "    training_data: training dataset\n",
        "    thetas: theta0, theta1, ..., thetaj\n",
        "    alpha: learning rate, default to 0.0005\n",
        "    \n",
        "    returns: \n",
        "            - thetas: the updated thetas\n",
        "            - total_error: total error (note, not loss) from this iteration\n",
        "    '''\n",
        "    \n",
        "    total_error = 0\n",
        "    total_cost = 0\n",
        "    overall_gradients = np.zeros(3) \n",
        "\n",
        "    # compute the summation of gradients across all training examples\n",
        "    for ex in training_data:\n",
        "        gradients, cost = calculate_single_forward(thetas, ex)\n",
        "\n",
        "        # gradients[0] is the error term (gradients[0] = error * x0 = error * 1)\n",
        "        total_cost += cost\n",
        "        total_error += gradients[0]\n",
        "        overall_gradients = overall_gradients + gradients\n",
        "\n",
        "    # update thetas\n",
        "    theta_0, theta_1, theta_2 = thetas\n",
        "    thetas[0] = theta_0 - alpha * overall_gradients[0]\n",
        "    thetas[1] = theta_1 - alpha * overall_gradients[1]\n",
        "    thetas[2] = theta_2 - alpha * overall_gradients[2]\n",
        "\n",
        "    return thetas, total_error, total_cost"
      ],
      "metadata": {
        "id": "1ZLo3oICgCg2"
      },
      "execution_count": 46,
      "outputs": []
    },
    {
      "cell_type": "markdown",
      "source": [
        "## Regression"
      ],
      "metadata": {
        "id": "rAgecJk8kfpe"
      }
    },
    {
      "cell_type": "code",
      "source": [
        "# set initial parameters\n",
        "thetas = [0.2, 0.8, 0.5]\n",
        "old_thetas = thetas.copy()\n",
        "alpha = 1e-4\n",
        "\n",
        "# prepare training\n",
        "total_epochs = 500\n",
        "error_traj = [0] * total_epochs\n",
        "cost_traj = [0] * total_epochs\n",
        "\n",
        "# perform training\n",
        "for epoch in range(total_epochs):\n",
        "    thetas, epoch_error, cost_error = gradient_descent(data, thetas, alpha)\n",
        "    # store a history of errors\n",
        "    error_traj[epoch] = epoch_error\n",
        "    cost_traj[epoch] = cost_error\n",
        "    "
      ],
      "metadata": {
        "id": "zTCiD-aQe3b5",
        "colab": {
          "base_uri": "https://localhost:8080/"
        },
        "outputId": "47829f62-4f7d-4449-af74-240252871074"
      },
      "execution_count": 47,
      "outputs": [
        {
          "output_type": "stream",
          "name": "stderr",
          "text": [
            "/usr/local/lib/python3.7/dist-packages/ipykernel_launcher.py:27: RuntimeWarning: overflow encountered in double_scalars\n",
            "/usr/local/lib/python3.7/dist-packages/ipykernel_launcher.py:23: RuntimeWarning: overflow encountered in add\n",
            "/usr/local/lib/python3.7/dist-packages/ipykernel_launcher.py:26: RuntimeWarning: overflow encountered in double_scalars\n",
            "/usr/local/lib/python3.7/dist-packages/ipykernel_launcher.py:28: RuntimeWarning: invalid value encountered in double_scalars\n"
          ]
        }
      ]
    },
    {
      "cell_type": "code",
      "source": [
        "thetas"
      ],
      "metadata": {
        "colab": {
          "base_uri": "https://localhost:8080/"
        },
        "id": "BSXcfS-sIXvE",
        "outputId": "063286e6-798b-406c-facc-f02ecb477063"
      },
      "execution_count": 48,
      "outputs": [
        {
          "output_type": "execute_result",
          "data": {
            "text/plain": [
              "[nan, nan, nan]"
            ]
          },
          "metadata": {},
          "execution_count": 48
        }
      ]
    },
    {
      "cell_type": "code",
      "source": [
        "epoch_error"
      ],
      "metadata": {
        "colab": {
          "base_uri": "https://localhost:8080/"
        },
        "id": "Y2FsO03ZIanD",
        "outputId": "32a30bd5-1e53-45ce-a5be-a1f6609abbc2"
      },
      "execution_count": 49,
      "outputs": [
        {
          "output_type": "execute_result",
          "data": {
            "text/plain": [
              "nan"
            ]
          },
          "metadata": {},
          "execution_count": 49
        }
      ]
    },
    {
      "cell_type": "code",
      "source": [
        "cost_error"
      ],
      "metadata": {
        "colab": {
          "base_uri": "https://localhost:8080/"
        },
        "id": "t1TmBFM3LBpm",
        "outputId": "9911b5b1-9dcb-4bcb-8ce0-e1f16054d8f4"
      },
      "execution_count": 50,
      "outputs": [
        {
          "output_type": "execute_result",
          "data": {
            "text/plain": [
              "nan"
            ]
          },
          "metadata": {},
          "execution_count": 50
        }
      ]
    },
    {
      "cell_type": "code",
      "source": [
        "# Let's do an exploratory plot\n",
        "plt.plot(error_traj[-1000:])\n",
        "plt.xlabel('Epoch')\n",
        "plt.ylabel('Error')\n",
        "plt.title('Model Training');"
      ],
      "metadata": {
        "id": "gYL7EwLapjJq",
        "colab": {
          "base_uri": "https://localhost:8080/",
          "height": 295
        },
        "outputId": "234ce5a4-70e0-4d4f-e209-837b746eefb4"
      },
      "execution_count": 51,
      "outputs": [
        {
          "output_type": "display_data",
          "data": {
            "text/plain": [
              "<Figure size 432x288 with 1 Axes>"
            ],
            "image/png": "[encoded data removed]"
          },
          "metadata": {
            "needs_background": "light"
          }
        }
      ]
    },
    {
      "cell_type": "markdown",
      "source": [
        "# Homework"
      ],
      "metadata": {
        "id": "niBWzHJVwNEt"
      }
    },
    {
      "cell_type": "markdown",
      "source": [
        "### Final Computed Model Parameters"
      ],
      "metadata": {
        "id": "3WTcNC0lUA-Q"
      }
    },
    {
      "cell_type": "code",
      "source": [
        "thetas"
      ],
      "metadata": {
        "colab": {
          "base_uri": "https://localhost:8080/"
        },
        "id": "WrcGHppRUGSs",
        "outputId": "6b8a8122-454c-434c-e51c-ae4141748ba2"
      },
      "execution_count": 52,
      "outputs": [
        {
          "output_type": "execute_result",
          "data": {
            "text/plain": [
              "[nan, nan, nan]"
            ]
          },
          "metadata": {},
          "execution_count": 52
        }
      ]
    },
    {
      "cell_type": "markdown",
      "source": [
        "### Compute and plot the cost function as you perform the gradient descent \n"
      ],
      "metadata": {
        "id": "d7QTzlJYV7TE"
      }
    },
    {
      "cell_type": "code",
      "source": [
        "# Let's do an exploratory plot\n",
        "plt.plot(cost_traj)\n",
        "plt.xlabel('Iteration')\n",
        "plt.ylabel('Cost')\n",
        "plt.title('Model Training - Cost');"
      ],
      "metadata": {
        "colab": {
          "base_uri": "https://localhost:8080/",
          "height": 295
        },
        "id": "3ZapMrfWVbhe",
        "outputId": "a5e13721-e6f7-486a-c2cc-e897c023c0a9"
      },
      "execution_count": 53,
      "outputs": [
        {
          "output_type": "display_data",
          "data": {
            "text/plain": [
              "<Figure size 432x288 with 1 Axes>"
            ],
            "image/png": "[encoded data removed]"
          },
          "metadata": {
            "needs_background": "light"
          }
        }
      ]
    },
    {
      "cell_type": "markdown",
      "source": [
        "### Plot data with the linear model"
      ],
      "metadata": {
        "id": "ex298a8JWhO4"
      }
    },
    {
      "cell_type": "code",
      "source": [
        "# Let's look at the actual least squares\n",
        "lin_pts = np.linspace(0, 25, 25) # gives you 25 values between [0, 5]\n",
        "mdl_pts = thetas[0] + lin_pts * thetas[1]\n",
        "plt.plot(lin_pts, mdl_pts, linewidth=4, label='Final model fit')\n",
        "plt.legend()\n",
        "\n",
        "# Let's look at the original least squares\n",
        "orig_mdl_pts = old_thetas[0] + lin_pts * old_thetas[1]\n",
        "plt.plot(lin_pts, orig_mdl_pts, ':', linewidth=4, label='Original model fit')\n",
        "plt.legend()\n",
        "\n",
        "# Let's plot the original points\n",
        "plt.plot(data[:,0], data[:,1], 'ro', label='Data points') # 'ro' for red, circle\n",
        "plt.legend()\n",
        "plt.xlabel('Population')\n",
        "plt.ylabel('Profit')\n",
        "plt.title('Comparison of pre- vs post-model training')"
      ],
      "metadata": {
        "id": "xKRsWI89qqPZ",
        "colab": {
          "base_uri": "https://localhost:8080/",
          "height": 313
        },
        "outputId": "d142ca0a-1205-4e3c-c2a6-a068d2fceec8"
      },
      "execution_count": 54,
      "outputs": [
        {
          "output_type": "execute_result",
          "data": {
            "text/plain": [
              "Text(0.5, 1.0, 'Comparison of pre- vs post-model training')"
            ]
          },
          "metadata": {},
          "execution_count": 54
        },
        {
          "output_type": "display_data",
          "data": {
            "text/plain": [
              "<Figure size 432x288 with 1 Axes>"
            ],
            "image/png": "[encoded data removed]"
          },
          "metadata": {
            "needs_background": "light"
          }
        }
      ]
    }
  ]
}