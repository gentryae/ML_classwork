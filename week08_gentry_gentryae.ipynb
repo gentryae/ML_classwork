{
  "nbformat": 4,
  "nbformat_minor": 0,
  "metadata": {
    "colab": {
      "provenance": [],
      "collapsed_sections": [],
      "include_colab_link": true
    },
    "kernelspec": {
      "name": "python3",
      "display_name": "Python 3"
    },
    "language_info": {
      "name": "python"
    }
  },
  "cells": [
    {
      "cell_type": "markdown",
      "metadata": {
        "id": "view-in-github",
        "colab_type": "text"
      },
      "source": [
        "<a href=\"https://colab.research.google.com/github/gentryae/ML_classwork/blob/main/week08_gentry_gentryae.ipynb\" target=\"_parent\"><img src=\"https://colab.research.google.com/assets/colab-badge.svg\" alt=\"Open In Colab\"/></a>"
      ]
    },
    {
      "cell_type": "markdown",
      "source": [
        "# Machine Learning: Deep Learning\n"
      ],
      "metadata": {
        "id": "X0dRo4YvVvAA"
      }
    },
    {
      "cell_type": "code",
      "source": [
        "#imports\n",
        "import pandas as pd\n",
        "import numpy as np\n",
        "import matplotlib.pyplot as plt\n"
      ],
      "metadata": {
        "id": "884P1DokV5V2"
      },
      "execution_count": null,
      "outputs": []
    },
    {
      "cell_type": "markdown",
      "source": [
        "# Food Truck Model HW\n",
        "\n",
        "The data includes population and profit. We are using population as an input to the model and profit as the predicted output. Error and cost will be calculated for every model iteration."
      ],
      "metadata": {
        "id": "iWEF5AH6V7iJ"
      }
    },
    {
      "cell_type": "code",
      "source": [
        "# Create basic linear data from class slides\n",
        "data = np.genfromtxt(\"food_truck_data.txt\", delimiter=\",\")\n",
        "data"
      ],
      "metadata": {
        "id": "qXNIRbbuWIt2",
        "colab": {
          "base_uri": "https://localhost:8080/"
        },
        "outputId": "7a082d90-5c39-47e5-a385-9ad647be8bb5"
      },
      "execution_count": null,
      "outputs": [
        {
          "output_type": "execute_result",
          "data": {
            "text/plain": [
              "array([[ 6.1101 , 17.592  ],\n",
              "       [ 5.5277 ,  9.1302 ],\n",
              "       [ 8.5186 , 13.662  ],\n",
              "       [ 7.0032 , 11.854  ],\n",
              "       [ 5.8598 ,  6.8233 ],\n",
              "       [ 8.3829 , 11.886  ],\n",
              "       [ 7.4764 ,  4.3483 ],\n",
              "       [ 8.5781 , 12.     ],\n",
              "       [ 6.4862 ,  6.5987 ],\n",
              "       [ 5.0546 ,  3.8166 ],\n",
              "       [ 5.7107 ,  3.2522 ],\n",
              "       [14.164  , 15.505  ],\n",
              "       [ 5.734  ,  3.1551 ],\n",
              "       [ 8.4084 ,  7.2258 ],\n",
              "       [ 5.6407 ,  0.71618],\n",
              "       [ 5.3794 ,  3.5129 ],\n",
              "       [ 6.3654 ,  5.3048 ],\n",
              "       [ 5.1301 ,  0.56077],\n",
              "       [ 6.4296 ,  3.6518 ],\n",
              "       [ 7.0708 ,  5.3893 ],\n",
              "       [ 6.1891 ,  3.1386 ],\n",
              "       [20.27   , 21.767  ],\n",
              "       [ 5.4901 ,  4.263  ],\n",
              "       [ 6.3261 ,  5.1875 ],\n",
              "       [ 5.5649 ,  3.0825 ],\n",
              "       [18.945  , 22.638  ],\n",
              "       [12.828  , 13.501  ],\n",
              "       [10.957  ,  7.0467 ],\n",
              "       [13.176  , 14.692  ],\n",
              "       [22.203  , 24.147  ],\n",
              "       [ 5.2524 , -1.22   ],\n",
              "       [ 6.5894 ,  5.9966 ],\n",
              "       [ 9.2482 , 12.134  ],\n",
              "       [ 5.8918 ,  1.8495 ],\n",
              "       [ 8.2111 ,  6.5426 ],\n",
              "       [ 7.9334 ,  4.5623 ],\n",
              "       [ 8.0959 ,  4.1164 ],\n",
              "       [ 5.6063 ,  3.3928 ],\n",
              "       [12.836  , 10.117  ],\n",
              "       [ 6.3534 ,  5.4974 ],\n",
              "       [ 5.4069 ,  0.55657],\n",
              "       [ 6.8825 ,  3.9115 ],\n",
              "       [11.708  ,  5.3854 ],\n",
              "       [ 5.7737 ,  2.4406 ],\n",
              "       [ 7.8247 ,  6.7318 ],\n",
              "       [ 7.0931 ,  1.0463 ],\n",
              "       [ 5.0702 ,  5.1337 ],\n",
              "       [ 5.8014 ,  1.844  ],\n",
              "       [11.7    ,  8.0043 ],\n",
              "       [ 5.5416 ,  1.0179 ],\n",
              "       [ 7.5402 ,  6.7504 ],\n",
              "       [ 5.3077 ,  1.8396 ],\n",
              "       [ 7.4239 ,  4.2885 ],\n",
              "       [ 7.6031 ,  4.9981 ],\n",
              "       [ 6.3328 ,  1.4233 ],\n",
              "       [ 6.3589 , -1.4211 ],\n",
              "       [ 6.2742 ,  2.4756 ],\n",
              "       [ 5.6397 ,  4.6042 ],\n",
              "       [ 9.3102 ,  3.9624 ],\n",
              "       [ 9.4536 ,  5.4141 ],\n",
              "       [ 8.8254 ,  5.1694 ],\n",
              "       [ 5.1793 , -0.74279],\n",
              "       [21.279  , 17.929  ],\n",
              "       [14.908  , 12.054  ],\n",
              "       [18.959  , 17.054  ],\n",
              "       [ 7.2182 ,  4.8852 ],\n",
              "       [ 8.2951 ,  5.7442 ],\n",
              "       [10.236  ,  7.7754 ],\n",
              "       [ 5.4994 ,  1.0173 ],\n",
              "       [20.341  , 20.992  ],\n",
              "       [10.136  ,  6.6799 ],\n",
              "       [ 7.3345 ,  4.0259 ],\n",
              "       [ 6.0062 ,  1.2784 ],\n",
              "       [ 7.2259 ,  3.3411 ],\n",
              "       [ 5.0269 , -2.6807 ],\n",
              "       [ 6.5479 ,  0.29678],\n",
              "       [ 7.5386 ,  3.8845 ],\n",
              "       [ 5.0365 ,  5.7014 ],\n",
              "       [10.274  ,  6.7526 ],\n",
              "       [ 5.1077 ,  2.0576 ],\n",
              "       [ 5.7292 ,  0.47953],\n",
              "       [ 5.1884 ,  0.20421],\n",
              "       [ 6.3557 ,  0.67861],\n",
              "       [ 9.7687 ,  7.5435 ],\n",
              "       [ 6.5159 ,  5.3436 ],\n",
              "       [ 8.5172 ,  4.2415 ],\n",
              "       [ 9.1802 ,  6.7981 ],\n",
              "       [ 6.002  ,  0.92695],\n",
              "       [ 5.5204 ,  0.152  ],\n",
              "       [ 5.0594 ,  2.8214 ],\n",
              "       [ 5.7077 ,  1.8451 ],\n",
              "       [ 7.6366 ,  4.2959 ],\n",
              "       [ 5.8707 ,  7.2029 ],\n",
              "       [ 5.3054 ,  1.9869 ],\n",
              "       [ 8.2934 ,  0.14454],\n",
              "       [13.394  ,  9.0551 ],\n",
              "       [ 5.4369 ,  0.61705]])"
            ]
          },
          "metadata": {},
          "execution_count": 135
        }
      ]
    },
    {
      "cell_type": "markdown",
      "source": [
        "## Calculate model output given parameters\n",
        "Calculate the output for a single training example. The formula for this for a single variable model is as follows:\n",
        "\n",
        "$$h_\\theta(x) = \\theta_0 + \\theta_1x_1$$\n",
        "\n",
        "or more specifically to our syntax here:\n",
        "\n",
        "$$\\hat{y}_\\theta(x) = \\theta_0 + \\theta_1x_1$$\n"
      ],
      "metadata": {
        "id": "zdZTxw6mXIOM"
      }
    },
    {
      "cell_type": "code",
      "source": [
        "# make up some initial thetas\n",
        "theta_0 = 0.2\n",
        "theta_1 = 0.8"
      ],
      "metadata": {
        "id": "kl7Xw-RCXXLG"
      },
      "execution_count": null,
      "outputs": []
    },
    {
      "cell_type": "code",
      "source": [
        "# get example 0\n",
        "x1, y = data[0]\n",
        "x1, y"
      ],
      "metadata": {
        "id": "WXmI5tarXpB_",
        "colab": {
          "base_uri": "https://localhost:8080/"
        },
        "outputId": "72e95bba-a252-48f1-af21-37d5d1d2e52c"
      },
      "execution_count": null,
      "outputs": [
        {
          "output_type": "execute_result",
          "data": {
            "text/plain": [
              "(6.1101, 17.592)"
            ]
          },
          "metadata": {},
          "execution_count": 137
        }
      ]
    },
    {
      "cell_type": "code",
      "source": [
        "# use formula for linear regression to get output\n",
        "y_hat = theta_0 + theta_1 * x1\n",
        "y_hat"
      ],
      "metadata": {
        "id": "i6HNFHbEXT8P",
        "colab": {
          "base_uri": "https://localhost:8080/"
        },
        "outputId": "560af92a-7e2e-4812-f422-f5c5964d0cdc"
      },
      "execution_count": null,
      "outputs": [
        {
          "output_type": "execute_result",
          "data": {
            "text/plain": [
              "5.088080000000001"
            ]
          },
          "metadata": {},
          "execution_count": 138
        }
      ]
    },
    {
      "cell_type": "markdown",
      "source": [
        "## Error, cost, and loss\n",
        "Recall our overall cost (or loss) function: \n",
        "\n",
        "$$J(\\theta) = \\frac{1}{2m}\\sum\\limits_{i = 1}^{m}(h_\\theta(x^{(i)}) - y^{(i)})^2$$\n",
        "\n",
        "What is the error for this one training example given these model parameters?"
      ],
      "metadata": {
        "id": "VkZ4364xYRdj"
      }
    },
    {
      "cell_type": "code",
      "source": [
        "# calculate basic error\n",
        "error = y_hat - y\n",
        "error"
      ],
      "metadata": {
        "id": "5_9JnAbgYnVo",
        "colab": {
          "base_uri": "https://localhost:8080/"
        },
        "outputId": "93356c24-9fff-4b30-c935-80dc0fe0a281"
      },
      "execution_count": null,
      "outputs": [
        {
          "output_type": "execute_result",
          "data": {
            "text/plain": [
              "-12.503919999999997"
            ]
          },
          "metadata": {},
          "execution_count": 139
        }
      ]
    },
    {
      "cell_type": "markdown",
      "source": [
        "What is the cost associated with this training example given these model parameters?"
      ],
      "metadata": {
        "id": "oJAywUkZYzRG"
      }
    },
    {
      "cell_type": "code",
      "source": [
        "# calculate cost\n",
        "cost = 0.5 * (error ** 2)\n",
        "cost"
      ],
      "metadata": {
        "id": "hgVTNHAPY2zz",
        "colab": {
          "base_uri": "https://localhost:8080/"
        },
        "outputId": "bbc71472-c0c3-4fe0-df45-36c5131fcaf6"
      },
      "execution_count": null,
      "outputs": [
        {
          "output_type": "execute_result",
          "data": {
            "text/plain": [
              "78.17400768319996"
            ]
          },
          "metadata": {},
          "execution_count": 140
        }
      ]
    },
    {
      "cell_type": "markdown",
      "source": [
        "## Updating the model parameters based on gradient descent\n",
        "What would gradient descent look like for this example? Recall:\n",
        "\n",
        "\n",
        "$$\\theta_j := \\theta_j - \\alpha(h_\\theta(x^{(i)}) - y^{(i)}) x_j^{(i)}$$\n",
        "\n",
        "or more specifically to our syntax here:\n",
        "\n",
        "$$\\theta_j := \\theta_j - \\alpha (\\hat{y}_\\theta(x^{(i)}) - y^{(i)}) x_j^{(i)}$$\n",
        "\n",
        "Keeping in mind:  \n",
        "* _j_ denotes an individual parameter in a model. \n",
        "* _i_ denotes a particular training example"
      ],
      "metadata": {
        "id": "cdSMFORtYJii"
      }
    },
    {
      "cell_type": "code",
      "source": [
        "# new parameter - learning rate\n",
        "alpha = 5e-1\n",
        "alpha"
      ],
      "metadata": {
        "id": "xNYCuyqCboui",
        "colab": {
          "base_uri": "https://localhost:8080/"
        },
        "outputId": "fb9b238c-479f-4fe3-89a6-e3324ed1f74b"
      },
      "execution_count": null,
      "outputs": [
        {
          "output_type": "execute_result",
          "data": {
            "text/plain": [
              "0.5"
            ]
          },
          "metadata": {},
          "execution_count": 141
        }
      ]
    },
    {
      "cell_type": "code",
      "source": [
        "# calculate update for theta 0\n",
        "theta_0_new = theta_0 - alpha * (error) * 1\n",
        "theta_0_new"
      ],
      "metadata": {
        "id": "MY2rYifZYMwJ",
        "colab": {
          "base_uri": "https://localhost:8080/"
        },
        "outputId": "b85d1593-f2c1-49d8-ae04-645c802b55bd"
      },
      "execution_count": null,
      "outputs": [
        {
          "output_type": "execute_result",
          "data": {
            "text/plain": [
              "6.451959999999999"
            ]
          },
          "metadata": {},
          "execution_count": 142
        }
      ]
    },
    {
      "cell_type": "code",
      "source": [
        "# calculate update for theta 1\n",
        "theta_1_new = theta_1 - alpha * (error) * x1\n",
        "theta_1_new"
      ],
      "metadata": {
        "id": "pYU8vQnMb7NK",
        "colab": {
          "base_uri": "https://localhost:8080/"
        },
        "outputId": "07e184c6-8579-4f79-9148-4c5bb05aabb9"
      },
      "execution_count": null,
      "outputs": [
        {
          "output_type": "execute_result",
          "data": {
            "text/plain": [
              "39.00010079599999"
            ]
          },
          "metadata": {},
          "execution_count": 143
        }
      ]
    },
    {
      "cell_type": "code",
      "source": [
        "# do the update\n",
        "theta_0 = theta_0_new\n",
        "theta_1 = theta_1_new"
      ],
      "metadata": {
        "id": "NV9EFMeNcG5g"
      },
      "execution_count": null,
      "outputs": []
    },
    {
      "cell_type": "markdown",
      "source": [
        "## Let's write some functions to help us out with training."
      ],
      "metadata": {
        "id": "f2WqvjQYcOwk"
      }
    },
    {
      "cell_type": "code",
      "source": [
        "def calculate_single_forward(thetas, train_ex):\n",
        "    '''\n",
        "        thetas: theta0, theta1, ..., thetaj\n",
        "        train_ex: (x, y)\n",
        "        \n",
        "        returns: gradients based on a single training example\n",
        "    '''\n",
        "\n",
        "    # parse model parameters\n",
        "    theta_0 = thetas[0]\n",
        "    theta_1 = thetas[1]\n",
        "\n",
        "    # parse data inputs\n",
        "    x0 = 1 # @@ maybe this needs to change??\n",
        "    x1 = train_ex[0]\n",
        "    y = train_ex[1]\n",
        "\n",
        "    # do one forward pass with a single training example\n",
        "    # to calculate error and gradient\n",
        "    y_hat = theta_0 + theta_1 * x1\n",
        "    error = y_hat - y\n",
        "\n",
        "    # for each theta, we need the gradient for an update\n",
        "    gradients = np.array([error * x0, error * x1])\n",
        "    cost = 0.5 * (error ** 2)\n",
        "    # Question: what would you do differently for GD or mini-batch GD?\n",
        "\n",
        "    return gradients, cost"
      ],
      "metadata": {
        "id": "mecUhzIycSUm"
      },
      "execution_count": null,
      "outputs": []
    },
    {
      "cell_type": "markdown",
      "source": [
        "For the actual gradient descent, this is the update function:\n",
        "\n",
        "$$\\theta_j := \\theta_j - \\alpha \\sum\\limits_{i = 1}^{m}(h_\\theta(x^{(i)}) - y^{(i)})x_j^{(i)}$$\n"
      ],
      "metadata": {
        "id": "Bk_m-LVQ9PqV"
      }
    },
    {
      "cell_type": "code",
      "source": [
        "def gradient_descent(training_data, thetas, alpha=5e-3):\n",
        "    '''\n",
        "    training_data: training dataset\n",
        "    thetas: theta0, theta1, ..., thetaj\n",
        "    alpha: learning rate, default to 0.0005\n",
        "    \n",
        "    returns: \n",
        "            - thetas: the updated thetas\n",
        "            - total_error: total error (note, not loss) from this iteration\n",
        "    '''\n",
        "    \n",
        "    total_error = 0\n",
        "    total_cost = 0\n",
        "    overall_gradients = np.zeros(2) \n",
        "\n",
        "    # compute the summation of gradients across all training examples\n",
        "    for ex in training_data:\n",
        "        gradients, cost = calculate_single_forward(thetas, ex)\n",
        "\n",
        "        # gradients[0] is the error term (gradients[0] = error * x0 = error * 1)\n",
        "        total_cost += cost\n",
        "        total_error += gradients[0]\n",
        "        overall_gradients = overall_gradients + gradients\n",
        "\n",
        "    # update thetas\n",
        "    theta_0, theta_1 = thetas\n",
        "    thetas[0] = theta_0 - alpha * overall_gradients[0]\n",
        "    thetas[1] = theta_1 - alpha * overall_gradients[1]\n",
        "\n",
        "    return thetas, total_error, total_cost"
      ],
      "metadata": {
        "id": "1ZLo3oICgCg2"
      },
      "execution_count": null,
      "outputs": []
    },
    {
      "cell_type": "markdown",
      "source": [
        "## Regression"
      ],
      "metadata": {
        "id": "rAgecJk8kfpe"
      }
    },
    {
      "cell_type": "code",
      "source": [
        "# set initial parameters\n",
        "thetas = [0.2, 0.8]\n",
        "old_thetas = thetas.copy()\n",
        "alpha = 1e-4\n",
        "\n",
        "# prepare training\n",
        "total_epochs = 3700\n",
        "error_traj = [0] * total_epochs\n",
        "cost_traj = [0] * total_epochs\n",
        "\n",
        "# perform training\n",
        "for epoch in range(total_epochs):\n",
        "    thetas, epoch_error, cost_error = gradient_descent(data, thetas, alpha)\n",
        "    # store a history of errors\n",
        "    error_traj[epoch] = epoch_error\n",
        "    cost_traj[epoch] = cost_error\n",
        "    "
      ],
      "metadata": {
        "id": "zTCiD-aQe3b5"
      },
      "execution_count": null,
      "outputs": []
    },
    {
      "cell_type": "code",
      "source": [
        "thetas"
      ],
      "metadata": {
        "colab": {
          "base_uri": "https://localhost:8080/"
        },
        "id": "BSXcfS-sIXvE",
        "outputId": "6aec20ac-0343-4a51-e1cf-487867e43f2d"
      },
      "execution_count": null,
      "outputs": [
        {
          "output_type": "execute_result",
          "data": {
            "text/plain": [
              "[-3.8894711920707765, 1.192399767766656]"
            ]
          },
          "metadata": {},
          "execution_count": 150
        }
      ]
    },
    {
      "cell_type": "code",
      "source": [
        "epoch_error"
      ],
      "metadata": {
        "colab": {
          "base_uri": "https://localhost:8080/"
        },
        "id": "Y2FsO03ZIanD",
        "outputId": "b9f99941-8615-4f7d-aa2e-e70fda0e83cb"
      },
      "execution_count": null,
      "outputs": [
        {
          "output_type": "execute_result",
          "data": {
            "text/plain": [
              "0.11051924118028023"
            ]
          },
          "metadata": {},
          "execution_count": 151
        }
      ]
    },
    {
      "cell_type": "code",
      "source": [
        "cost_error"
      ],
      "metadata": {
        "colab": {
          "base_uri": "https://localhost:8080/"
        },
        "id": "t1TmBFM3LBpm",
        "outputId": "97955bcd-3fa0-49fc-bdce-8eb166be659a"
      },
      "execution_count": null,
      "outputs": [
        {
          "output_type": "execute_result",
          "data": {
            "text/plain": [
              "434.2665762762684"
            ]
          },
          "metadata": {},
          "execution_count": 152
        }
      ]
    },
    {
      "cell_type": "code",
      "source": [
        "# Let's do an exploratory plot\n",
        "plt.plot(error_traj[-1000:])\n",
        "plt.xlabel('Epoch')\n",
        "plt.ylabel('Error')\n",
        "plt.title('Model Training');"
      ],
      "metadata": {
        "id": "gYL7EwLapjJq",
        "colab": {
          "base_uri": "https://localhost:8080/",
          "height": 295
        },
        "outputId": "b2cc655f-37bf-4f6c-c0fe-9aee759cfaa1"
      },
      "execution_count": null,
      "outputs": [
        {
          "output_type": "display_data",
          "data": {
            "text/plain": [
              "<Figure size 432x288 with 1 Axes>"
            ],
            "image/png": "[encoded data removed]"
          },
          "metadata": {
            "needs_background": "light"
          }
        }
      ]
    },
    {
      "cell_type": "markdown",
      "source": [
        "# Homework"
      ],
      "metadata": {
        "id": "niBWzHJVwNEt"
      }
    },
    {
      "cell_type": "markdown",
      "source": [
        "### Final Computed Model Parameters"
      ],
      "metadata": {
        "id": "3WTcNC0lUA-Q"
      }
    },
    {
      "cell_type": "code",
      "source": [
        "thetas"
      ],
      "metadata": {
        "colab": {
          "base_uri": "https://localhost:8080/"
        },
        "id": "WrcGHppRUGSs",
        "outputId": "9da42875-15c1-4147-ea9f-463e70fce354"
      },
      "execution_count": null,
      "outputs": [
        {
          "output_type": "execute_result",
          "data": {
            "text/plain": [
              "[-3.8894711920707765, 1.192399767766656]"
            ]
          },
          "metadata": {},
          "execution_count": 156
        }
      ]
    },
    {
      "cell_type": "markdown",
      "source": [
        "### Compute and plot the cost function as you perform the gradient descent \n"
      ],
      "metadata": {
        "id": "d7QTzlJYV7TE"
      }
    },
    {
      "cell_type": "code",
      "source": [
        "# Let's do an exploratory plot\n",
        "plt.plot(cost_traj)\n",
        "plt.xlabel('Iteration')\n",
        "plt.ylabel('Cost')\n",
        "plt.title('Model Training - Cost');"
      ],
      "metadata": {
        "colab": {
          "base_uri": "https://localhost:8080/",
          "height": 295
        },
        "id": "3ZapMrfWVbhe",
        "outputId": "33ef82fa-2baf-4da2-e86d-99fc47ce1339"
      },
      "execution_count": null,
      "outputs": [
        {
          "output_type": "display_data",
          "data": {
            "text/plain": [
              "<Figure size 432x288 with 1 Axes>"
            ],
            "image/png": "[encoded data removed]"
          },
          "metadata": {
            "needs_background": "light"
          }
        }
      ]
    },
    {
      "cell_type": "markdown",
      "source": [
        "### Plot data with the linear model"
      ],
      "metadata": {
        "id": "ex298a8JWhO4"
      }
    },
    {
      "cell_type": "code",
      "source": [
        "# Let's look at the actual least squares\n",
        "lin_pts = np.linspace(0, 25, 25) # gives you 25 values between [0, 5]\n",
        "mdl_pts = thetas[0] + lin_pts * thetas[1]\n",
        "plt.plot(lin_pts, mdl_pts, linewidth=4, label='Final model fit')\n",
        "plt.legend()\n",
        "\n",
        "# Let's look at the original least squares\n",
        "orig_mdl_pts = old_thetas[0] + lin_pts * old_thetas[1]\n",
        "plt.plot(lin_pts, orig_mdl_pts, ':', linewidth=4, label='Original model fit')\n",
        "plt.legend()\n",
        "\n",
        "# Let's plot the original points\n",
        "plt.plot(data[:,0], data[:,1], 'ro', label='Data points') # 'ro' for red, circle\n",
        "plt.legend()\n",
        "plt.xlabel('Population')\n",
        "plt.ylabel('Profit')\n",
        "plt.title('Comparison of pre- vs post-model training')"
      ],
      "metadata": {
        "id": "xKRsWI89qqPZ",
        "colab": {
          "base_uri": "https://localhost:8080/",
          "height": 313
        },
        "outputId": "fb208754-06a5-4e20-e0d5-540e3e3e7599"
      },
      "execution_count": null,
      "outputs": [
        {
          "output_type": "execute_result",
          "data": {
            "text/plain": [
              "Text(0.5, 1.0, 'Comparison of pre- vs post-model training')"
            ]
          },
          "metadata": {},
          "execution_count": 159
        },
        {
          "output_type": "display_data",
          "data": {
            "text/plain": [
              "<Figure size 432x288 with 1 Axes>"
            ],
            "image/png": "[encoded data removed]"
          },
          "metadata": {
            "needs_background": "light"
          }
        }
      ]
    },
    {
      "cell_type": "markdown",
      "source": [
        "# PART 2 - Housing Market Model HW\n",
        "\n",
        "The data includes house size, number of bedrooms and house price. We are determining the output (house price) based on house size and number of bedrooms as inputs. Error and cost will be computed for each iteration of the model. "
      ],
      "metadata": {
        "id": "ULuDe-2JYpML"
      }
    },
    {
      "cell_type": "code",
      "source": [
        "# Create basic linear data from class slides\n",
        "data = np.genfromtxt(\"housing_price_data.txt\", delimiter=\",\")\n",
        "df = np.genfromtxt(\"housing_price_data.txt\", delimiter=\",\")\n",
        "data"
      ],
      "metadata": {
        "colab": {
          "base_uri": "https://localhost:8080/"
        },
        "outputId": "bef497f3-d1f6-4c51-b955-2a8be8e21340",
        "id": "s8jrCUYmYpML"
      },
      "execution_count": null,
      "outputs": [
        {
          "output_type": "execute_result",
          "data": {
            "text/plain": [
              "array([[2.10400e+03, 3.00000e+00, 3.99900e+05],\n",
              "       [1.60000e+03, 3.00000e+00, 3.29900e+05],\n",
              "       [2.40000e+03, 3.00000e+00, 3.69000e+05],\n",
              "       [1.41600e+03, 2.00000e+00, 2.32000e+05],\n",
              "       [3.00000e+03, 4.00000e+00, 5.39900e+05],\n",
              "       [1.98500e+03, 4.00000e+00, 2.99900e+05],\n",
              "       [1.53400e+03, 3.00000e+00, 3.14900e+05],\n",
              "       [1.42700e+03, 3.00000e+00, 1.98999e+05],\n",
              "       [1.38000e+03, 3.00000e+00, 2.12000e+05],\n",
              "       [1.49400e+03, 3.00000e+00, 2.42500e+05],\n",
              "       [1.94000e+03, 4.00000e+00, 2.39999e+05],\n",
              "       [2.00000e+03, 3.00000e+00, 3.47000e+05],\n",
              "       [1.89000e+03, 3.00000e+00, 3.29999e+05],\n",
              "       [4.47800e+03, 5.00000e+00, 6.99900e+05],\n",
              "       [1.26800e+03, 3.00000e+00, 2.59900e+05],\n",
              "       [2.30000e+03, 4.00000e+00, 4.49900e+05],\n",
              "       [1.32000e+03, 2.00000e+00, 2.99900e+05],\n",
              "       [1.23600e+03, 3.00000e+00, 1.99900e+05],\n",
              "       [2.60900e+03, 4.00000e+00, 4.99998e+05],\n",
              "       [3.03100e+03, 4.00000e+00, 5.99000e+05],\n",
              "       [1.76700e+03, 3.00000e+00, 2.52900e+05],\n",
              "       [1.88800e+03, 2.00000e+00, 2.55000e+05],\n",
              "       [1.60400e+03, 3.00000e+00, 2.42900e+05],\n",
              "       [1.96200e+03, 4.00000e+00, 2.59900e+05],\n",
              "       [3.89000e+03, 3.00000e+00, 5.73900e+05],\n",
              "       [1.10000e+03, 3.00000e+00, 2.49900e+05],\n",
              "       [1.45800e+03, 3.00000e+00, 4.64500e+05],\n",
              "       [2.52600e+03, 3.00000e+00, 4.69000e+05],\n",
              "       [2.20000e+03, 3.00000e+00, 4.75000e+05],\n",
              "       [2.63700e+03, 3.00000e+00, 2.99900e+05],\n",
              "       [1.83900e+03, 2.00000e+00, 3.49900e+05],\n",
              "       [1.00000e+03, 1.00000e+00, 1.69900e+05],\n",
              "       [2.04000e+03, 4.00000e+00, 3.14900e+05],\n",
              "       [3.13700e+03, 3.00000e+00, 5.79900e+05],\n",
              "       [1.81100e+03, 4.00000e+00, 2.85900e+05],\n",
              "       [1.43700e+03, 3.00000e+00, 2.49900e+05],\n",
              "       [1.23900e+03, 3.00000e+00, 2.29900e+05],\n",
              "       [2.13200e+03, 4.00000e+00, 3.45000e+05],\n",
              "       [4.21500e+03, 4.00000e+00, 5.49000e+05],\n",
              "       [2.16200e+03, 4.00000e+00, 2.87000e+05],\n",
              "       [1.66400e+03, 2.00000e+00, 3.68500e+05],\n",
              "       [2.23800e+03, 3.00000e+00, 3.29900e+05],\n",
              "       [2.56700e+03, 4.00000e+00, 3.14000e+05],\n",
              "       [1.20000e+03, 3.00000e+00, 2.99000e+05],\n",
              "       [8.52000e+02, 2.00000e+00, 1.79900e+05],\n",
              "       [1.85200e+03, 4.00000e+00, 2.99900e+05],\n",
              "       [1.20300e+03, 3.00000e+00, 2.39500e+05]])"
            ]
          },
          "metadata": {},
          "execution_count": 2
        }
      ]
    },
    {
      "cell_type": "markdown",
      "source": [
        "# Feature Scaling\n",
        "\n",
        "$$x_{new} = \\frac{x-x_{min}}{x_{max}-x_{min}}$$"
      ],
      "metadata": {
        "id": "Pcs3Ihh7UfCp"
      }
    },
    {
      "cell_type": "code",
      "source": [
        "size = data[:,0] # returns the first columm.\n",
        "num_rooms = data[:,1]\n",
        "price = data[:,2]\n",
        "\n",
        "x1_min = np.amin(size)\n",
        "x2_min = np.amin(num_rooms)\n",
        "y_min = np.amin(price)\n",
        "# do this for y as well??? \n",
        "\n",
        "x1_max = np.amax(size)\n",
        "x2_max = np.amax(num_rooms)\n",
        "y_max = np.amax(price)\n",
        "\n",
        "def scale(num, type):\n",
        "  if type is 'x1':\n",
        "    new_num = (num-x1_min)/(x1_max-x1_min)\n",
        "  elif type is 'x2':\n",
        "    new_num = (num-x2_min)/(x2_max-x2_min)\n",
        "  else:\n",
        "    new_num = (num-y_min)/(y_max-y_min)\n",
        "  return new_num\n",
        "\n",
        "fs = np.vectorize(scale)\n",
        "new_x1 = fs(size,'x1')\n",
        "new_x2 = fs(num_rooms,'x2')\n",
        "new_y = fs(price,'y')\n",
        "\n",
        "''' Rename data'''\n",
        "data[:,0] = new_x1\n",
        "data[:,1] = new_x2\n",
        "data[:,2] = new_y\n",
        "data"
      ],
      "metadata": {
        "colab": {
          "base_uri": "https://localhost:8080/"
        },
        "id": "l0Bw8Y0rUjcE",
        "outputId": "e5378971-b8dc-461f-c743-e0df7e0aff63"
      },
      "execution_count": null,
      "outputs": [
        {
          "output_type": "execute_result",
          "data": {
            "text/plain": [
              "array([[0.34528406, 0.5       , 0.43396226],\n",
              "       [0.20628792, 0.5       , 0.30188679],\n",
              "       [0.42691671, 0.5       , 0.37566038],\n",
              "       [0.1555433 , 0.25      , 0.11716981],\n",
              "       [0.59238831, 0.75      , 0.69811321],\n",
              "       [0.31246553, 0.75      , 0.24528302],\n",
              "       [0.18808605, 0.5       , 0.27358491],\n",
              "       [0.15857694, 0.5       , 0.05490377],\n",
              "       [0.145615  , 0.5       , 0.07943396],\n",
              "       [0.17705461, 0.5       , 0.13698113],\n",
              "       [0.30005516, 0.75      , 0.13226226],\n",
              "       [0.31660232, 0.5       , 0.33415094],\n",
              "       [0.28626586, 0.5       , 0.30207358],\n",
              "       [1.        , 1.        , 1.        ],\n",
              "       [0.11472697, 0.5       , 0.16981132],\n",
              "       [0.39933811, 0.75      , 0.52830189],\n",
              "       [0.12906784, 0.25      , 0.24528302],\n",
              "       [0.10590182, 0.5       , 0.05660377],\n",
              "       [0.48455598, 0.75      , 0.62282642],\n",
              "       [0.60093767, 0.75      , 0.80962264],\n",
              "       [0.25234418, 0.5       , 0.15660377],\n",
              "       [0.28571429, 0.25      , 0.16056604],\n",
              "       [0.20739106, 0.5       , 0.13773585],\n",
              "       [0.30612245, 0.75      , 0.16981132],\n",
              "       [0.83783784, 0.5       , 0.76226415],\n",
              "       [0.06839493, 0.5       , 0.1509434 ],\n",
              "       [0.16712631, 0.5       , 0.55584906],\n",
              "       [0.46166575, 0.5       , 0.56433962],\n",
              "       [0.37175951, 0.5       , 0.57566038],\n",
              "       [0.49227799, 0.5       , 0.24528302],\n",
              "       [0.27220077, 0.25      , 0.33962264],\n",
              "       [0.04081633, 0.        , 0.        ],\n",
              "       [0.32763376, 0.75      , 0.27358491],\n",
              "       [0.63017099, 0.5       , 0.77358491],\n",
              "       [0.26447876, 0.75      , 0.21886792],\n",
              "       [0.1613348 , 0.5       , 0.1509434 ],\n",
              "       [0.10672918, 0.5       , 0.11320755],\n",
              "       [0.35300607, 0.75      , 0.33037736],\n",
              "       [0.92746828, 0.75      , 0.71528302],\n",
              "       [0.36127965, 0.75      , 0.2209434 ],\n",
              "       [0.22393822, 0.25      , 0.37471698],\n",
              "       [0.38223938, 0.5       , 0.30188679],\n",
              "       [0.47297297, 0.75      , 0.27188679],\n",
              "       [0.09597352, 0.5       , 0.24358491],\n",
              "       [0.        , 0.25      , 0.01886792],\n",
              "       [0.27578599, 0.75      , 0.24528302],\n",
              "       [0.09680088, 0.5       , 0.13132075]])"
            ]
          },
          "metadata": {},
          "execution_count": 5
        }
      ]
    },
    {
      "cell_type": "code",
      "source": [
        "data[0]"
      ],
      "metadata": {
        "colab": {
          "base_uri": "https://localhost:8080/"
        },
        "id": "VsqWUtOx3UHX",
        "outputId": "e3d5efa4-bf58-4124-e35b-09fde4decf7a"
      },
      "execution_count": null,
      "outputs": [
        {
          "output_type": "execute_result",
          "data": {
            "text/plain": [
              "array([0.34528406, 0.5       , 0.43396226])"
            ]
          },
          "metadata": {},
          "execution_count": 6
        }
      ]
    },
    {
      "cell_type": "markdown",
      "source": [
        "## Calculate model output given parameters\n",
        "Calculate the output for a single training example. The formula for this for a single variable model is as follows:\n",
        "\n",
        "$$h_\\theta(x) = \\theta_0 + \\theta_1x_1$$\n",
        "\n",
        "or more specifically to our syntax here:\n",
        "\n",
        "$$\\hat{y}_\\theta(x) = \\theta_0 + \\theta_1x_1$$\n"
      ],
      "metadata": {
        "id": "nuZDEBP-YpMM"
      }
    },
    {
      "cell_type": "code",
      "source": [
        "# make up some initial thetas\n",
        "theta_0 = 0.2\n",
        "theta_1 = 0.8\n",
        "theta_2 = 0.5"
      ],
      "metadata": {
        "id": "31kZDjDbYpMM"
      },
      "execution_count": null,
      "outputs": []
    },
    {
      "cell_type": "code",
      "source": [
        "# get example 0\n",
        "x1 = data[0][0]\n",
        "x2 = data[0][1]\n",
        "y = data[0][2]\n",
        "x1, x2, y"
      ],
      "metadata": {
        "colab": {
          "base_uri": "https://localhost:8080/"
        },
        "outputId": "91097e1f-3afd-485b-9abc-ff05ffefc326",
        "id": "KyA2ab0QYpMN"
      },
      "execution_count": null,
      "outputs": [
        {
          "output_type": "execute_result",
          "data": {
            "text/plain": [
              "(0.34528405956977387, 0.5, 0.4339622641509434)"
            ]
          },
          "metadata": {},
          "execution_count": 8
        }
      ]
    },
    {
      "cell_type": "code",
      "source": [
        "# use formula for linear regression to get output\n",
        "y_hat = theta_0 + theta_1 * x1 + theta_2 * x2\n",
        "y_hat"
      ],
      "metadata": {
        "colab": {
          "base_uri": "https://localhost:8080/"
        },
        "outputId": "149b77a8-678c-4402-8e2a-4089f4ca4d2e",
        "id": "t1yZ5W-VYpMO"
      },
      "execution_count": null,
      "outputs": [
        {
          "output_type": "execute_result",
          "data": {
            "text/plain": [
              "0.7262272476558191"
            ]
          },
          "metadata": {},
          "execution_count": 9
        }
      ]
    },
    {
      "cell_type": "markdown",
      "source": [
        "## Error, cost, and loss\n",
        "Recall our overall cost (or loss) function: \n",
        "\n",
        "$$J(\\theta) = \\frac{1}{2m}\\sum\\limits_{i = 1}^{m}(h_\\theta(x^{(i)}) - y^{(i)})^2$$\n",
        "\n",
        "What is the error for this one training example given these model parameters?"
      ],
      "metadata": {
        "id": "4818NUsmYpMP"
      }
    },
    {
      "cell_type": "code",
      "source": [
        "# calculate basic error\n",
        "error = y_hat - y\n",
        "error"
      ],
      "metadata": {
        "colab": {
          "base_uri": "https://localhost:8080/"
        },
        "outputId": "991915f8-d85c-48bf-a52a-c9ea8bf884de",
        "id": "tFMaDnNZYpMP"
      },
      "execution_count": null,
      "outputs": [
        {
          "output_type": "execute_result",
          "data": {
            "text/plain": [
              "0.29226498350487573"
            ]
          },
          "metadata": {},
          "execution_count": 10
        }
      ]
    },
    {
      "cell_type": "markdown",
      "source": [
        "What is the cost associated with this training example given these model parameters?"
      ],
      "metadata": {
        "id": "Ffe1II1DYpMP"
      }
    },
    {
      "cell_type": "code",
      "source": [
        "# calculate cost\n",
        "cost = 0.5 * (error ** 2)\n",
        "cost"
      ],
      "metadata": {
        "colab": {
          "base_uri": "https://localhost:8080/"
        },
        "outputId": "971e01d3-49ee-42f0-867b-465cedb0b7f9",
        "id": "DmhVfomAYpMP"
      },
      "execution_count": null,
      "outputs": [
        {
          "output_type": "execute_result",
          "data": {
            "text/plain": [
              "0.04270941029155264"
            ]
          },
          "metadata": {},
          "execution_count": 11
        }
      ]
    },
    {
      "cell_type": "markdown",
      "source": [
        "## Updating the model parameters based on gradient descent\n",
        "What would gradient descent look like for this example? Recall:\n",
        "\n",
        "\n",
        "$$\\theta_j := \\theta_j - \\alpha(h_\\theta(x^{(i)}) - y^{(i)}) x_j^{(i)}$$\n",
        "\n",
        "or more specifically to our syntax here:\n",
        "\n",
        "$$\\theta_j := \\theta_j - \\alpha (\\hat{y}_\\theta(x^{(i)}) - y^{(i)}) x_j^{(i)}$$\n",
        "\n",
        "Keeping in mind:  \n",
        "* _j_ denotes an individual parameter in a model. \n",
        "* _i_ denotes a particular training example"
      ],
      "metadata": {
        "id": "EMUzKMLrYpMP"
      }
    },
    {
      "cell_type": "code",
      "source": [
        "# new parameter - learning rate\n",
        "alpha = 5e-1\n",
        "alpha"
      ],
      "metadata": {
        "colab": {
          "base_uri": "https://localhost:8080/"
        },
        "outputId": "39a5be4d-f324-4ccb-c74f-85082bb11e68",
        "id": "cGeq70zPYpMQ"
      },
      "execution_count": null,
      "outputs": [
        {
          "output_type": "execute_result",
          "data": {
            "text/plain": [
              "0.5"
            ]
          },
          "metadata": {},
          "execution_count": 12
        }
      ]
    },
    {
      "cell_type": "code",
      "source": [
        "# calculate update for theta 0\n",
        "theta_0_new = theta_0 - alpha * (error) * 1\n",
        "theta_0_new"
      ],
      "metadata": {
        "colab": {
          "base_uri": "https://localhost:8080/"
        },
        "outputId": "06be371b-a557-4913-d03d-acd8778da6a0",
        "id": "49gkYkv8YpMQ"
      },
      "execution_count": null,
      "outputs": [
        {
          "output_type": "execute_result",
          "data": {
            "text/plain": [
              "0.053867508247562146"
            ]
          },
          "metadata": {},
          "execution_count": 13
        }
      ]
    },
    {
      "cell_type": "code",
      "source": [
        "# calculate update for theta 1\n",
        "theta_1_new = theta_1 - alpha * (error) * x1\n",
        "theta_1_new"
      ],
      "metadata": {
        "colab": {
          "base_uri": "https://localhost:8080/"
        },
        "outputId": "2b3deb36-6389-41b0-962d-f7bb75bcba69",
        "id": "TzRB9y4gYpMQ"
      },
      "execution_count": null,
      "outputs": [
        {
          "output_type": "execute_result",
          "data": {
            "text/plain": [
              "0.7495427800126718"
            ]
          },
          "metadata": {},
          "execution_count": 14
        }
      ]
    },
    {
      "cell_type": "code",
      "source": [
        "# calculate update for theta 2\n",
        "theta_2_new = theta_2 - alpha * (error) * x2\n",
        "theta_2_new"
      ],
      "metadata": {
        "colab": {
          "base_uri": "https://localhost:8080/"
        },
        "id": "8x5uRcbFZkV0",
        "outputId": "cba89177-43a6-41a1-b19d-955ae63ae7b9"
      },
      "execution_count": null,
      "outputs": [
        {
          "output_type": "execute_result",
          "data": {
            "text/plain": [
              "0.4269337541237811"
            ]
          },
          "metadata": {},
          "execution_count": 15
        }
      ]
    },
    {
      "cell_type": "code",
      "source": [
        "# do the update\n",
        "theta_0 = theta_0_new\n",
        "theta_1 = theta_1_new\n",
        "theta_2 = theta_2_new"
      ],
      "metadata": {
        "id": "8nxS4ISeYpMQ"
      },
      "execution_count": null,
      "outputs": []
    },
    {
      "cell_type": "markdown",
      "source": [
        "## Let's write some functions to help us out with training."
      ],
      "metadata": {
        "id": "-GNOby5uYpMR"
      }
    },
    {
      "cell_type": "code",
      "source": [
        "def calculate_single_forward(thetas, train_ex):\n",
        "    '''\n",
        "        thetas: theta0, theta1, ..., thetaj\n",
        "        train_ex: (x, y)\n",
        "        \n",
        "        returns: gradients based on a single training example\n",
        "    '''\n",
        "\n",
        "    # parse model parameters\n",
        "    theta_0 = thetas[0]\n",
        "    theta_1 = thetas[1]\n",
        "    theta_2 = thetas[2]\n",
        "\n",
        "    # parse data inputs\n",
        "    x0 = 1 # @@ maybe this needs to change??\n",
        "    x1 = train_ex[0]\n",
        "    x2 = train_ex[1]\n",
        "    y = train_ex[2]\n",
        "\n",
        "    # do one forward pass with a single training example\n",
        "    # to calculate error and gradient\n",
        "    y_hat = theta_0 + theta_1 * x1 + theta_2 * x2\n",
        "    error = y_hat - y\n",
        "\n",
        "    # for each theta, we need the gradient for an update\n",
        "    gradients = np.array([error * x0, error * x1, error*x2])\n",
        "    cost = 0.5 * (error ** 2)\n",
        "    # Question: what would you do differently for GD or mini-batch GD?\n",
        "\n",
        "    return gradients, cost"
      ],
      "metadata": {
        "id": "huKcYfnEYpMR"
      },
      "execution_count": null,
      "outputs": []
    },
    {
      "cell_type": "markdown",
      "source": [
        "For the actual gradient descent, this is the update function:\n",
        "\n",
        "$$\\theta_j := \\theta_j - \\alpha \\sum\\limits_{i = 1}^{m}(h_\\theta(x^{(i)}) - y^{(i)})x_j^{(i)}$$\n"
      ],
      "metadata": {
        "id": "FpPuQ9kdYpMR"
      }
    },
    {
      "cell_type": "code",
      "source": [
        "def gradient_descent(training_data, thetas, alpha=5e-3):\n",
        "    '''\n",
        "    training_data: training dataset\n",
        "    thetas: theta0, theta1, ..., thetaj\n",
        "    alpha: learning rate, default to 0.0005\n",
        "    \n",
        "    returns: \n",
        "            - thetas: the updated thetas\n",
        "            - total_error: total error (note, not loss) from this iteration\n",
        "    '''\n",
        "    \n",
        "    total_error = 0\n",
        "    total_cost = 0\n",
        "    overall_gradients = np.zeros(3) \n",
        "\n",
        "    # compute the summation of gradients across all training examples\n",
        "    for ex in training_data:\n",
        "        gradients, cost = calculate_single_forward(thetas, ex)\n",
        "\n",
        "        # gradients[0] is the error term (gradients[0] = error * x0 = error * 1)\n",
        "        total_cost += cost\n",
        "        total_error += gradients[0]\n",
        "        overall_gradients = overall_gradients + gradients\n",
        "\n",
        "    # update thetas\n",
        "    theta_0, theta_1, theta_2 = thetas\n",
        "    thetas[0] = theta_0 - alpha * overall_gradients[0]\n",
        "    thetas[1] = theta_1 - alpha * overall_gradients[1]\n",
        "    thetas[2] = theta_2 - alpha * overall_gradients[2]\n",
        "\n",
        "    return thetas, total_error, total_cost"
      ],
      "metadata": {
        "id": "5dabLSJXYpMR"
      },
      "execution_count": null,
      "outputs": []
    },
    {
      "cell_type": "markdown",
      "source": [
        "## Regression"
      ],
      "metadata": {
        "id": "NxWyURP9YpMR"
      }
    },
    {
      "cell_type": "code",
      "source": [
        "# set initial parameters\n",
        "thetas = [0.2, 0.8, 0.5]\n",
        "old_thetas = thetas.copy()\n",
        "alpha = 1e-4\n",
        "\n",
        "# prepare training\n",
        "total_epochs = 1500\n",
        "error_traj = [0] * total_epochs\n",
        "cost_traj = [0] * total_epochs\n",
        "\n",
        "# perform training\n",
        "for epoch in range(total_epochs):\n",
        "    thetas, epoch_error, cost_error = gradient_descent(data, thetas, alpha)\n",
        "    # store a history of errors\n",
        "    error_traj[epoch] = epoch_error\n",
        "    cost_traj[epoch] = cost_error\n",
        "    "
      ],
      "metadata": {
        "id": "V9W8c-ZaYpMS"
      },
      "execution_count": null,
      "outputs": []
    },
    {
      "cell_type": "code",
      "source": [
        "thetas"
      ],
      "metadata": {
        "colab": {
          "base_uri": "https://localhost:8080/"
        },
        "outputId": "4c069e47-2cb7-4037-bd13-c5fad82e8e5a",
        "id": "l38QWYx4YpMS"
      },
      "execution_count": null,
      "outputs": [
        {
          "output_type": "execute_result",
          "data": {
            "text/plain": [
              "[-0.0690205615170093, 0.7263825432710929, 0.29167505556599743]"
            ]
          },
          "metadata": {},
          "execution_count": 70
        }
      ]
    },
    {
      "cell_type": "code",
      "source": [
        "epoch_error"
      ],
      "metadata": {
        "colab": {
          "base_uri": "https://localhost:8080/"
        },
        "outputId": "51661524-0ed9-4a2c-a596-40297734bf04",
        "id": "yHPpQgOCYpMS"
      },
      "execution_count": null,
      "outputs": [
        {
          "output_type": "execute_result",
          "data": {
            "text/plain": [
              "-0.11198588342199622"
            ]
          },
          "metadata": {},
          "execution_count": 71
        }
      ]
    },
    {
      "cell_type": "code",
      "source": [
        "cost_error"
      ],
      "metadata": {
        "colab": {
          "base_uri": "https://localhost:8080/"
        },
        "outputId": "7d493a3e-43e2-4a54-ace1-75ec3d3166eb",
        "id": "Ke-EjxKxYpMS"
      },
      "execution_count": null,
      "outputs": [
        {
          "output_type": "execute_result",
          "data": {
            "text/plain": [
              "0.4181172307996227"
            ]
          },
          "metadata": {},
          "execution_count": 72
        }
      ]
    },
    {
      "cell_type": "code",
      "source": [
        "# Let's do an exploratory plot\n",
        "plt.plot(error_traj[-1000:])\n",
        "plt.xlabel('Epoch')\n",
        "plt.ylabel('Error')\n",
        "plt.title('Model Training');"
      ],
      "metadata": {
        "colab": {
          "base_uri": "https://localhost:8080/",
          "height": 295
        },
        "outputId": "17a57943-643c-4448-b3b1-09a35a3627a1",
        "id": "QQjpgjIMYpMS"
      },
      "execution_count": null,
      "outputs": [
        {
          "output_type": "display_data",
          "data": {
            "text/plain": [
              "<Figure size 432x288 with 1 Axes>"
            ],
            "image/png": "[encoded data removed]"
          },
          "metadata": {
            "needs_background": "light"
          }
        }
      ]
    },
    {
      "cell_type": "markdown",
      "source": [
        "# Homework"
      ],
      "metadata": {
        "id": "hP42uuSCYpMT"
      }
    },
    {
      "cell_type": "markdown",
      "source": [
        "### Final Computed Model Parameters"
      ],
      "metadata": {
        "id": "yb0L5dQvYpMT"
      }
    },
    {
      "cell_type": "code",
      "source": [
        "thetas"
      ],
      "metadata": {
        "colab": {
          "base_uri": "https://localhost:8080/"
        },
        "outputId": "eb5571ca-6250-4988-d29a-59d1f2bc783e",
        "id": "Wl3RtJG_YpMT"
      },
      "execution_count": null,
      "outputs": [
        {
          "output_type": "execute_result",
          "data": {
            "text/plain": [
              "[-0.0690205615170093, 0.7263825432710929, 0.29167505556599743]"
            ]
          },
          "metadata": {},
          "execution_count": 74
        }
      ]
    },
    {
      "cell_type": "markdown",
      "source": [
        "### Compute and plot the cost function as you perform the gradient descent \n"
      ],
      "metadata": {
        "id": "caTirDLbYpMT"
      }
    },
    {
      "cell_type": "code",
      "source": [
        "# Let's do an exploratory plot\n",
        "plt.plot(cost_traj)\n",
        "plt.xlabel('Iteration')\n",
        "plt.ylabel('Cost')\n",
        "plt.title('Model Training - Cost');"
      ],
      "metadata": {
        "colab": {
          "base_uri": "https://localhost:8080/",
          "height": 295
        },
        "outputId": "e92aa0f2-deab-41f9-cf39-2293a489e295",
        "id": "pg745iHjYpMT"
      },
      "execution_count": null,
      "outputs": [
        {
          "output_type": "display_data",
          "data": {
            "text/plain": [
              "<Figure size 432x288 with 1 Axes>"
            ],
            "image/png": "[encoded data removed]"
          },
          "metadata": {
            "needs_background": "light"
          }
        }
      ]
    }
  ]
}