{
  "nbformat": 4,
  "nbformat_minor": 0,
  "metadata": {
    "colab": {
      "provenance": [],
      "collapsed_sections": [],
      "include_colab_link": true
    },
    "kernelspec": {
      "name": "python3",
      "display_name": "Python 3"
    },
    "language_info": {
      "name": "python"
    }
  },
  "cells": [
    {
      "cell_type": "markdown",
      "metadata": {
        "id": "view-in-github",
        "colab_type": "text"
      },
      "source": [
        "<a href=\"https://colab.research.google.com/github/gentryae/ML_classwork/blob/main/A8_pt1.ipynb\" target=\"_parent\"><img src=\"https://colab.research.google.com/assets/colab-badge.svg\" alt=\"Open In Colab\"/></a>"
      ]
    },
    {
      "cell_type": "markdown",
      "source": [
        "# Machine Learning: Deep Learning\n",
        "> Week 8 In-class Exploration\n",
        "\n",
        "In this notebook, we explore concepts of regression and deep learning further."
      ],
      "metadata": {
        "id": "X0dRo4YvVvAA"
      }
    },
    {
      "cell_type": "code",
      "source": [
        "#imports\n",
        "import pandas as pd\n",
        "import numpy as np\n",
        "import matplotlib.pyplot as plt\n"
      ],
      "metadata": {
        "id": "884P1DokV5V2"
      },
      "execution_count": 7,
      "outputs": []
    },
    {
      "cell_type": "markdown",
      "source": [
        "# Linear Regression and Cost Functions Example\n",
        "\n",
        "Let's take this step-by-step to begin with."
      ],
      "metadata": {
        "id": "iWEF5AH6V7iJ"
      }
    },
    {
      "cell_type": "code",
      "source": [
        "# Create basic linear data from class slides\n",
        "data = np.genfromtxt(\"food_truck_data.txt\", delimiter=\",\")\n",
        "data"
      ],
      "metadata": {
        "id": "qXNIRbbuWIt2",
        "outputId": "b1af1fc6-f219-4dac-b5ee-634b8f2bbd22",
        "colab": {
          "base_uri": "https://localhost:8080/"
        }
      },
      "execution_count": 8,
      "outputs": [
        {
          "output_type": "execute_result",
          "data": {
            "text/plain": [
              "array([[ 6.1101 , 17.592  ],\n",
              "       [ 5.5277 ,  9.1302 ],\n",
              "       [ 8.5186 , 13.662  ],\n",
              "       [ 7.0032 , 11.854  ],\n",
              "       [ 5.8598 ,  6.8233 ],\n",
              "       [ 8.3829 , 11.886  ],\n",
              "       [ 7.4764 ,  4.3483 ],\n",
              "       [ 8.5781 , 12.     ],\n",
              "       [ 6.4862 ,  6.5987 ],\n",
              "       [ 5.0546 ,  3.8166 ],\n",
              "       [ 5.7107 ,  3.2522 ],\n",
              "       [14.164  , 15.505  ],\n",
              "       [ 5.734  ,  3.1551 ],\n",
              "       [ 8.4084 ,  7.2258 ],\n",
              "       [ 5.6407 ,  0.71618],\n",
              "       [ 5.3794 ,  3.5129 ],\n",
              "       [ 6.3654 ,  5.3048 ],\n",
              "       [ 5.1301 ,  0.56077],\n",
              "       [ 6.4296 ,  3.6518 ],\n",
              "       [ 7.0708 ,  5.3893 ],\n",
              "       [ 6.1891 ,  3.1386 ],\n",
              "       [20.27   , 21.767  ],\n",
              "       [ 5.4901 ,  4.263  ],\n",
              "       [ 6.3261 ,  5.1875 ],\n",
              "       [ 5.5649 ,  3.0825 ],\n",
              "       [18.945  , 22.638  ],\n",
              "       [12.828  , 13.501  ],\n",
              "       [10.957  ,  7.0467 ],\n",
              "       [13.176  , 14.692  ],\n",
              "       [22.203  , 24.147  ],\n",
              "       [ 5.2524 , -1.22   ],\n",
              "       [ 6.5894 ,  5.9966 ],\n",
              "       [ 9.2482 , 12.134  ],\n",
              "       [ 5.8918 ,  1.8495 ],\n",
              "       [ 8.2111 ,  6.5426 ],\n",
              "       [ 7.9334 ,  4.5623 ],\n",
              "       [ 8.0959 ,  4.1164 ],\n",
              "       [ 5.6063 ,  3.3928 ],\n",
              "       [12.836  , 10.117  ],\n",
              "       [ 6.3534 ,  5.4974 ],\n",
              "       [ 5.4069 ,  0.55657],\n",
              "       [ 6.8825 ,  3.9115 ],\n",
              "       [11.708  ,  5.3854 ],\n",
              "       [ 5.7737 ,  2.4406 ],\n",
              "       [ 7.8247 ,  6.7318 ],\n",
              "       [ 7.0931 ,  1.0463 ],\n",
              "       [ 5.0702 ,  5.1337 ],\n",
              "       [ 5.8014 ,  1.844  ],\n",
              "       [11.7    ,  8.0043 ],\n",
              "       [ 5.5416 ,  1.0179 ],\n",
              "       [ 7.5402 ,  6.7504 ],\n",
              "       [ 5.3077 ,  1.8396 ],\n",
              "       [ 7.4239 ,  4.2885 ],\n",
              "       [ 7.6031 ,  4.9981 ],\n",
              "       [ 6.3328 ,  1.4233 ],\n",
              "       [ 6.3589 , -1.4211 ],\n",
              "       [ 6.2742 ,  2.4756 ],\n",
              "       [ 5.6397 ,  4.6042 ],\n",
              "       [ 9.3102 ,  3.9624 ],\n",
              "       [ 9.4536 ,  5.4141 ],\n",
              "       [ 8.8254 ,  5.1694 ],\n",
              "       [ 5.1793 , -0.74279],\n",
              "       [21.279  , 17.929  ],\n",
              "       [14.908  , 12.054  ],\n",
              "       [18.959  , 17.054  ],\n",
              "       [ 7.2182 ,  4.8852 ],\n",
              "       [ 8.2951 ,  5.7442 ],\n",
              "       [10.236  ,  7.7754 ],\n",
              "       [ 5.4994 ,  1.0173 ],\n",
              "       [20.341  , 20.992  ],\n",
              "       [10.136  ,  6.6799 ],\n",
              "       [ 7.3345 ,  4.0259 ],\n",
              "       [ 6.0062 ,  1.2784 ],\n",
              "       [ 7.2259 ,  3.3411 ],\n",
              "       [ 5.0269 , -2.6807 ],\n",
              "       [ 6.5479 ,  0.29678],\n",
              "       [ 7.5386 ,  3.8845 ],\n",
              "       [ 5.0365 ,  5.7014 ],\n",
              "       [10.274  ,  6.7526 ],\n",
              "       [ 5.1077 ,  2.0576 ],\n",
              "       [ 5.7292 ,  0.47953],\n",
              "       [ 5.1884 ,  0.20421],\n",
              "       [ 6.3557 ,  0.67861],\n",
              "       [ 9.7687 ,  7.5435 ],\n",
              "       [ 6.5159 ,  5.3436 ],\n",
              "       [ 8.5172 ,  4.2415 ],\n",
              "       [ 9.1802 ,  6.7981 ],\n",
              "       [ 6.002  ,  0.92695],\n",
              "       [ 5.5204 ,  0.152  ],\n",
              "       [ 5.0594 ,  2.8214 ],\n",
              "       [ 5.7077 ,  1.8451 ],\n",
              "       [ 7.6366 ,  4.2959 ],\n",
              "       [ 5.8707 ,  7.2029 ],\n",
              "       [ 5.3054 ,  1.9869 ],\n",
              "       [ 8.2934 ,  0.14454],\n",
              "       [13.394  ,  9.0551 ],\n",
              "       [ 5.4369 ,  0.61705]])"
            ]
          },
          "metadata": {},
          "execution_count": 8
        }
      ]
    },
    {
      "cell_type": "markdown",
      "source": [
        "## Calculate model output given parameters\n",
        "Calculate the output for a single training example. The formula for this for a single variable model is as follows:\n",
        "\n",
        "$$h_\\theta(x) = \\theta_0 + \\theta_1x_1$$\n",
        "\n",
        "or more specifically to our syntax here:\n",
        "\n",
        "$$\\hat{y}_\\theta(x) = \\theta_0 + \\theta_1x_1$$\n"
      ],
      "metadata": {
        "id": "zdZTxw6mXIOM"
      }
    },
    {
      "cell_type": "code",
      "source": [
        "# make up some initial thetas\n",
        "theta_0 = 0.2\n",
        "theta_1 = 0.8"
      ],
      "metadata": {
        "id": "kl7Xw-RCXXLG"
      },
      "execution_count": 9,
      "outputs": []
    },
    {
      "cell_type": "code",
      "source": [
        "# get example 0\n",
        "x1, y = data[0]\n",
        "x1, y"
      ],
      "metadata": {
        "id": "WXmI5tarXpB_",
        "colab": {
          "base_uri": "https://localhost:8080/"
        },
        "outputId": "97eaaaf3-2022-4bdc-b4d5-9ae86559e8c6"
      },
      "execution_count": 10,
      "outputs": [
        {
          "output_type": "execute_result",
          "data": {
            "text/plain": [
              "(6.1101, 17.592)"
            ]
          },
          "metadata": {},
          "execution_count": 10
        }
      ]
    },
    {
      "cell_type": "code",
      "source": [
        "# use formula for linear regression to get output\n",
        "y_hat = theta_0 + theta_1 * x1\n",
        "y_hat"
      ],
      "metadata": {
        "id": "i6HNFHbEXT8P",
        "outputId": "f29981e0-0ad7-4e81-e17a-4147cfb86b2d",
        "colab": {
          "base_uri": "https://localhost:8080/"
        }
      },
      "execution_count": 23,
      "outputs": [
        {
          "output_type": "execute_result",
          "data": {
            "text/plain": [
              "7.4846639587363955"
            ]
          },
          "metadata": {},
          "execution_count": 23
        }
      ]
    },
    {
      "cell_type": "markdown",
      "source": [
        "## Error, cost, and loss\n",
        "Recall our overall cost (or loss) function: \n",
        "\n",
        "$$J(\\theta) = \\frac{1}{2m}\\sum\\limits_{i = 1}^{m}(h_\\theta(x^{(i)}) - y^{(i)})^2$$\n",
        "\n",
        "What is the error for this one training example given these model parameters?"
      ],
      "metadata": {
        "id": "VkZ4364xYRdj"
      }
    },
    {
      "cell_type": "code",
      "source": [
        "# calculate basic error\n",
        "error = y_hat - y\n",
        "error"
      ],
      "metadata": {
        "id": "5_9JnAbgYnVo",
        "outputId": "eca8bdf5-44bf-4c79-ee3f-8ae9f144cfd8",
        "colab": {
          "base_uri": "https://localhost:8080/"
        }
      },
      "execution_count": 24,
      "outputs": [
        {
          "output_type": "execute_result",
          "data": {
            "text/plain": [
              "-10.107336041263604"
            ]
          },
          "metadata": {},
          "execution_count": 24
        }
      ]
    },
    {
      "cell_type": "markdown",
      "source": [
        "What is the cost associated with this training example given these model parameters?"
      ],
      "metadata": {
        "id": "oJAywUkZYzRG"
      }
    },
    {
      "cell_type": "code",
      "source": [
        "# calculate cost\n",
        "cost = 0.5 * (error ** 2)\n",
        "cost"
      ],
      "metadata": {
        "id": "hgVTNHAPY2zz",
        "outputId": "9b708097-51bf-4d30-f5de-db6359c27ad8",
        "colab": {
          "base_uri": "https://localhost:8080/"
        }
      },
      "execution_count": 25,
      "outputs": [
        {
          "output_type": "execute_result",
          "data": {
            "text/plain": [
              "51.079120925513116"
            ]
          },
          "metadata": {},
          "execution_count": 25
        }
      ]
    },
    {
      "cell_type": "markdown",
      "source": [
        "## Updating the model parameters based on gradient descent\n",
        "What would gradient descent look like for this example? Recall:\n",
        "\n",
        "\n",
        "$$\\theta_j := \\theta_j - \\alpha(h_\\theta(x^{(i)}) - y^{(i)}) x_j^{(i)}$$\n",
        "\n",
        "or more specifically to our syntax here:\n",
        "\n",
        "$$\\theta_j := \\theta_j - \\alpha (\\hat{y}_\\theta(x^{(i)}) - y^{(i)}) x_j^{(i)}$$\n",
        "\n",
        "Keeping in mind:  \n",
        "* _j_ denotes an individual parameter in a model. \n",
        "* _i_ denotes a particular training example"
      ],
      "metadata": {
        "id": "cdSMFORtYJii"
      }
    },
    {
      "cell_type": "code",
      "source": [
        "# new parameter - learning rate\n",
        "alpha = 5e-2\n",
        "alpha"
      ],
      "metadata": {
        "id": "xNYCuyqCboui",
        "colab": {
          "base_uri": "https://localhost:8080/"
        },
        "outputId": "094047c9-9855-445e-cce8-ab00b0da4e04"
      },
      "execution_count": 27,
      "outputs": [
        {
          "output_type": "execute_result",
          "data": {
            "text/plain": [
              "0.05"
            ]
          },
          "metadata": {},
          "execution_count": 27
        }
      ]
    },
    {
      "cell_type": "code",
      "source": [
        "# calculate update for theta 0\n",
        "theta_0_new = theta_0 - alpha * (error) * 1\n",
        "theta_0_new"
      ],
      "metadata": {
        "id": "MY2rYifZYMwJ",
        "colab": {
          "base_uri": "https://localhost:8080/"
        },
        "outputId": "fc9e30e9-3a1a-4865-e125-a5a8c9593018"
      },
      "execution_count": 28,
      "outputs": [
        {
          "output_type": "execute_result",
          "data": {
            "text/plain": [
              "0.7678864020631802"
            ]
          },
          "metadata": {},
          "execution_count": 28
        }
      ]
    },
    {
      "cell_type": "code",
      "source": [
        "# calculate update for theta 1\n",
        "theta_1_new = theta_1 - alpha * (error) * x1\n",
        "theta_1_new"
      ],
      "metadata": {
        "id": "pYU8vQnMb7NK",
        "colab": {
          "base_uri": "https://localhost:8080/"
        },
        "outputId": "938967df-6651-4b05-ebe6-65d0fadbd483"
      },
      "execution_count": 29,
      "outputs": [
        {
          "output_type": "execute_result",
          "data": {
            "text/plain": [
              "4.269842705246237"
            ]
          },
          "metadata": {},
          "execution_count": 29
        }
      ]
    },
    {
      "cell_type": "code",
      "source": [
        "# do the update\n",
        "theta_0 = theta_0_new\n",
        "theta_1 = theta_1_new"
      ],
      "metadata": {
        "id": "NV9EFMeNcG5g"
      },
      "execution_count": 30,
      "outputs": []
    },
    {
      "cell_type": "markdown",
      "source": [
        "## Let's write some functions to help us out with training."
      ],
      "metadata": {
        "id": "f2WqvjQYcOwk"
      }
    },
    {
      "cell_type": "code",
      "source": [
        "def calculate_single_forward(thetas, train_ex):\n",
        "    '''\n",
        "        thetas: theta0, theta1, ..., thetaj\n",
        "        train_ex: (x, y)\n",
        "        \n",
        "        returns: gradients based on a single training example\n",
        "    '''\n",
        "\n",
        "    # parse model parameters\n",
        "    theta_0 = thetas[0]\n",
        "    theta_1 = thetas[1]\n",
        "\n",
        "    # parse data inputs\n",
        "    x0 = 1\n",
        "    x1 = train_ex[0]\n",
        "    y = train_ex[1]\n",
        "\n",
        "    # do one forward pass with a single training example\n",
        "    # to calculate error and gradient\n",
        "    y_hat = theta_0 + theta_1 * x1\n",
        "    error = y_hat - y\n",
        "\n",
        "    # for each theta, we need the gradient for an update\n",
        "    gradients = np.array([error * x0, error * x1])\n",
        "\n",
        "    # Question: what would you do differently for GD or mini-batch GD?\n",
        "\n",
        "    return gradients"
      ],
      "metadata": {
        "id": "mecUhzIycSUm"
      },
      "execution_count": 31,
      "outputs": []
    },
    {
      "cell_type": "markdown",
      "source": [
        "For the actual gradient descent, this is the update function:\n",
        "\n",
        "$$\\theta_j := \\theta_j - \\alpha \\sum\\limits_{i = 1}^{m}(h_\\theta(x^{(i)}) - y^{(i)})x_j^{(i)}$$\n"
      ],
      "metadata": {
        "id": "Bk_m-LVQ9PqV"
      }
    },
    {
      "cell_type": "code",
      "source": [
        "def gradient_descent(training_data, thetas, alpha=5e-3):\n",
        "    '''\n",
        "    training_data: training dataset\n",
        "    thetas: theta0, theta1, ..., thetaj\n",
        "    alpha: learning rate, default to 0.0005\n",
        "    \n",
        "    returns: \n",
        "            - thetas: the updated thetas\n",
        "            - total_error: total error (note, not loss) from this iteration\n",
        "    '''\n",
        "    \n",
        "    total_error = 0\n",
        "    overall_gradients = np.zeros(2)\n",
        "\n",
        "    # compute the summation of gradients across all training examples\n",
        "    for ex in training_data:\n",
        "        gradients = calculate_single_forward(thetas, ex)\n",
        "        # gradients[0] is the error term (gradients[0] = error * x0 = error * 1)\n",
        "        total_error += gradients[0]\n",
        "        overall_gradients = overall_gradients + gradients\n",
        "\n",
        "    # update thetas\n",
        "    theta_0, theta_1 = thetas\n",
        "    thetas[0] = theta_0 - alpha * overall_gradients[0]\n",
        "    thetas[1] = theta_1 - alpha * overall_gradients[1]\n",
        "\n",
        "    return thetas, total_error"
      ],
      "metadata": {
        "id": "1ZLo3oICgCg2"
      },
      "execution_count": 32,
      "outputs": []
    },
    {
      "cell_type": "markdown",
      "source": [
        "## Regression"
      ],
      "metadata": {
        "id": "rAgecJk8kfpe"
      }
    },
    {
      "cell_type": "code",
      "source": [
        "# set initial parameters\n",
        "thetas = [3.44, 2.13]\n",
        "old_thetas = thetas.copy()\n",
        "alpha = 5e-3\n",
        "\n",
        "# prepare training\n",
        "total_epochs = 40\n",
        "error_traj = [0] * total_epochs\n",
        "\n",
        "# perform training\n",
        "for epoch in range(total_epochs):\n",
        "    thetas, epoch_error = gradient_descent(data, thetas, alpha)\n",
        "    # store a history of errors\n",
        "    error_traj[epoch] = epoch_error\n"
      ],
      "metadata": {
        "id": "zTCiD-aQe3b5"
      },
      "execution_count": 41,
      "outputs": []
    },
    {
      "cell_type": "code",
      "source": [
        "# Let's do an exploratory plot\n",
        "plt.plot(error_traj)\n",
        "plt.xlabel('Epoch')\n",
        "plt.ylabel('Error')\n",
        "plt.title('Model Training');"
      ],
      "metadata": {
        "id": "gYL7EwLapjJq",
        "colab": {
          "base_uri": "https://localhost:8080/",
          "height": 295
        },
        "outputId": "697719da-4711-4dda-edda-2ec962b5d896"
      },
      "execution_count": 42,
      "outputs": [
        {
          "output_type": "display_data",
          "data": {
            "text/plain": [
              "<Figure size 432x288 with 1 Axes>"
            ],
            "image/png": "[encoded data removed]"
          },
          "metadata": {
            "needs_background": "light"
          }
        }
      ]
    },
    {
      "cell_type": "code",
      "source": [
        "# Let's look at the actual least squares\n",
        "lin_pts = np.linspace(0, 5, 25) # gives you 25 values between [0, 5]\n",
        "mdl_pts = thetas[0] + lin_pts * thetas[1]\n",
        "plt.plot(lin_pts, mdl_pts, linewidth=4, label='Final model fit')\n",
        "plt.legend()\n",
        "\n",
        "# Let's look at the original least squares\n",
        "orig_mdl_pts = old_thetas[0] + lin_pts * old_thetas[1]\n",
        "plt.plot(lin_pts, orig_mdl_pts, ':', linewidth=4, label='Original model fit')\n",
        "plt.legend()\n",
        "\n",
        "# Let's plot the original points\n",
        "plt.plot(data[:,0], data[:,1], 'ro', label='Data points') # 'ro' for red, circle\n",
        "plt.legend()\n",
        "plt.xlabel('Population')\n",
        "plt.ylabel('Profit')\n",
        "plt.title('Comparison of pre- vs post-model training')"
      ],
      "metadata": {
        "id": "xKRsWI89qqPZ",
        "colab": {
          "base_uri": "https://localhost:8080/",
          "height": 313
        },
        "outputId": "e029629c-077b-492e-835c-6669a363e18e"
      },
      "execution_count": 43,
      "outputs": [
        {
          "output_type": "execute_result",
          "data": {
            "text/plain": [
              "Text(0.5, 1.0, 'Comparison of pre- vs post-model training')"
            ]
          },
          "metadata": {},
          "execution_count": 43
        },
        {
          "output_type": "display_data",
          "data": {
            "text/plain": [
              "<Figure size 432x288 with 1 Axes>"
            ],
            "image/png": "[encoded data removed]"
          },
          "metadata": {
            "needs_background": "light"
          }
        }
      ]
    },
    {
      "cell_type": "markdown",
      "source": [
        "# Thoughts to consider for your homework.."
      ],
      "metadata": {
        "id": "niBWzHJVwNEt"
      }
    },
    {
      "cell_type": "markdown",
      "source": [
        "## Generalizing these functions\n",
        "We've already written some solid code here which could actually be used in your homework for the single variable model. We've done so by parsing out every single variable and written all of the functions specifically for this single variable model.\n",
        "\n",
        "However, this single variable model could actually be easily expressed mathematically (i.e., as shown in the lecture), which would also allow you to generalize this to the multivariable input case. Where and how do you think you would need to change this code to achieve these results?\n",
        "\n",
        "Also, keep in mind that $x_0$ as we defined it is the \"data\" which accompanies the \"bias\". But this value didn't come from our data, and appeared to be set. Think on why this is, and think about how this can be implemented programmatically.\n"
      ],
      "metadata": {
        "id": "LrRQpJBNu_aH"
      }
    },
    {
      "cell_type": "code",
      "source": [],
      "metadata": {
        "id": "KjDT5r9Kzb05"
      },
      "execution_count": 43,
      "outputs": []
    }
  ]
}