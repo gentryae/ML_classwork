{
  "cells": [
    {
      "cell_type": "markdown",
      "metadata": {
        "id": "view-in-github",
        "colab_type": "text"
      },
      "source": [
        "<a href=\"https://colab.research.google.com/github/gentryae/ML_classwork/blob/main/employee_churn_template.ipynb\" target=\"_parent\"><img src=\"https://colab.research.google.com/assets/colab-badge.svg\" alt=\"Open In Colab\"/></a>"
      ]
    },
    {
      "cell_type": "markdown",
      "id": "82ba5cb0-b81e-43ea-acfa-e661fff2572c",
      "metadata": {
        "id": "82ba5cb0-b81e-43ea-acfa-e661fff2572c"
      },
      "source": [
        "# **Machine Learning using scikit-learn**"
      ]
    },
    {
      "cell_type": "markdown",
      "id": "3a251b12-73f7-4007-8f91-a866b8539ded",
      "metadata": {
        "id": "3a251b12-73f7-4007-8f91-a866b8539ded"
      },
      "source": [
        "As a reminder, below are the following best practices we should follow when performing Machine Learning in Python:\n",
        "\n",
        "1. Perform all pre-processing steps within cross-validation\n",
        "2. Measure model performance (and model selection) using cross-validation\n",
        "3. Follow literate programming practices to make code readable and make collaboration easier\n",
        "\n",
        "## Problem Formulation\n",
        "\n",
        "In this example, we will use IBM's HR Attrition dataset, available here: https://www.kaggle.com/datasets/pavansubhasht/ibm-hr-analytics-attrition-dataset.\n",
        "The dataset contains data on 1470 employees. The variables covered in this dataset focus heavily on demographic attributes (e.g. gender, age and race), social related attributes (e.g. marital status) and work related attributes (e.g. tenure and pay)."
      ]
    },
    {
      "cell_type": "code",
      "execution_count": 3,
      "id": "5d51761d-af0e-411f-9375-54bcd91a62db",
      "metadata": {
        "id": "5d51761d-af0e-411f-9375-54bcd91a62db"
      },
      "outputs": [],
      "source": [
        "#tables and visualizations\n",
        "import pandas as pd\n",
        "import numpy as np\n",
        "import seaborn as sns\n",
        "import matplotlib.pyplot as plt\n",
        "import requests\n",
        "\n",
        "#machine learning\n",
        "from sklearn.model_selection import train_test_split, GridSearchCV\n",
        "from sklearn.linear_model import LogisticRegression\n",
        "from sklearn.ensemble import RandomForestClassifier\n",
        "from sklearn.ensemble import GradientBoostingClassifier\n",
        "from sklearn.pipeline import Pipeline \n",
        "from sklearn.compose import ColumnTransformer, make_column_selector\n",
        "from sklearn.impute import SimpleImputer\n",
        "from sklearn.preprocessing import OneHotEncoder, LabelBinarizer, StandardScaler\n",
        "from sklearn import config_context\n",
        "from sklearn.metrics import classification_report, confusion_matrix, ConfusionMatrixDisplay"
      ]
    },
    {
      "cell_type": "markdown",
      "id": "87e69be8-1415-482e-adc2-4d71a697535b",
      "metadata": {
        "id": "87e69be8-1415-482e-adc2-4d71a697535b"
      },
      "source": [
        "## Load Data\n",
        "\n",
        "Here we first load the data into python using pandas and read it in as a pandas dataframe which is the format which we will use throughout the example. "
      ]
    },
    {
      "cell_type": "code",
      "execution_count": 4,
      "id": "6b347d70-2e7b-4cdc-a290-ace614045711",
      "metadata": {
        "colab": {
          "base_uri": "https://localhost:8080/",
          "height": 1000
        },
        "id": "6b347d70-2e7b-4cdc-a290-ace614045711",
        "outputId": "f635bbdd-ad36-4c0f-d99c-ca2d42387cf3"
      },
      "outputs": [
        {
          "output_type": "display_data",
          "data": {
            "text/plain": [
              "   Age Attrition     BusinessTravel  DailyRate              Department  \\\n",
              "0   41       Yes      Travel_Rarely       1102                   Sales   \n",
              "1   49        No  Travel_Frequently        279  Research & Development   \n",
              "2   37       Yes      Travel_Rarely       1373  Research & Development   \n",
              "3   33        No  Travel_Frequently       1392  Research & Development   \n",
              "4   27        No      Travel_Rarely        591  Research & Development   \n",
              "\n",
              "   DistanceFromHome  Education EducationField  EmployeeCount  EmployeeNumber  \\\n",
              "0                 1          2  Life Sciences              1               1   \n",
              "1                 8          1  Life Sciences              1               2   \n",
              "2                 2          2          Other              1               4   \n",
              "3                 3          4  Life Sciences              1               5   \n",
              "4                 2          1        Medical              1               7   \n",
              "\n",
              "   ...  RelationshipSatisfaction StandardHours  StockOptionLevel  \\\n",
              "0  ...                         1            80                 0   \n",
              "1  ...                         4            80                 1   \n",
              "2  ...                         2            80                 0   \n",
              "3  ...                         3            80                 0   \n",
              "4  ...                         4            80                 1   \n",
              "\n",
              "   TotalWorkingYears  TrainingTimesLastYear WorkLifeBalance  YearsAtCompany  \\\n",
              "0                  8                      0               1               6   \n",
              "1                 10                      3               3              10   \n",
              "2                  7                      3               3               0   \n",
              "3                  8                      3               3               8   \n",
              "4                  6                      3               3               2   \n",
              "\n",
              "  YearsInCurrentRole  YearsSinceLastPromotion  YearsWithCurrManager  \n",
              "0                  4                        0                     5  \n",
              "1                  7                        1                     7  \n",
              "2                  0                        0                     0  \n",
              "3                  7                        3                     0  \n",
              "4                  2                        2                     2  \n",
              "\n",
              "[5 rows x 35 columns]"
            ],
            "text/html": [
              "\n",
              "  <div id=\"df-53cc46bf-f6a1-4f54-842f-decbd8eab995\">\n",
              "    <div class=\"colab-df-container\">\n",
              "      <div>\n",
              "<style scoped>\n",
              "    .dataframe tbody tr th:only-of-type {\n",
              "        vertical-align: middle;\n",
              "    }\n",
              "\n",
              "    .dataframe tbody tr th {\n",
              "        vertical-align: top;\n",
              "    }\n",
              "\n",
              "    .dataframe thead th {\n",
              "        text-align: right;\n",
              "    }\n",
              "</style>\n",
              "<table border=\"1\" class=\"dataframe\">\n",
              "  <thead>\n",
              "    <tr style=\"text-align: right;\">\n",
              "      <th></th>\n",
              "      <th>Age</th>\n",
              "      <th>Attrition</th>\n",
              "      <th>BusinessTravel</th>\n",
              "      <th>DailyRate</th>\n",
              "      <th>Department</th>\n",
              "      <th>DistanceFromHome</th>\n",
              "      <th>Education</th>\n",
              "      <th>EducationField</th>\n",
              "      <th>EmployeeCount</th>\n",
              "      <th>EmployeeNumber</th>\n",
              "      <th>...</th>\n",
              "      <th>RelationshipSatisfaction</th>\n",
              "      <th>StandardHours</th>\n",
              "      <th>StockOptionLevel</th>\n",
              "      <th>TotalWorkingYears</th>\n",
              "      <th>TrainingTimesLastYear</th>\n",
              "      <th>WorkLifeBalance</th>\n",
              "      <th>YearsAtCompany</th>\n",
              "      <th>YearsInCurrentRole</th>\n",
              "      <th>YearsSinceLastPromotion</th>\n",
              "      <th>YearsWithCurrManager</th>\n",
              "    </tr>\n",
              "  </thead>\n",
              "  <tbody>\n",
              "    <tr>\n",
              "      <th>0</th>\n",
              "      <td>41</td>\n",
              "      <td>Yes</td>\n",
              "      <td>Travel_Rarely</td>\n",
              "      <td>1102</td>\n",
              "      <td>Sales</td>\n",
              "      <td>1</td>\n",
              "      <td>2</td>\n",
              "      <td>Life Sciences</td>\n",
              "      <td>1</td>\n",
              "      <td>1</td>\n",
              "      <td>...</td>\n",
              "      <td>1</td>\n",
              "      <td>80</td>\n",
              "      <td>0</td>\n",
              "      <td>8</td>\n",
              "      <td>0</td>\n",
              "      <td>1</td>\n",
              "      <td>6</td>\n",
              "      <td>4</td>\n",
              "      <td>0</td>\n",
              "      <td>5</td>\n",
              "    </tr>\n",
              "    <tr>\n",
              "      <th>1</th>\n",
              "      <td>49</td>\n",
              "      <td>No</td>\n",
              "      <td>Travel_Frequently</td>\n",
              "      <td>279</td>\n",
              "      <td>Research &amp; Development</td>\n",
              "      <td>8</td>\n",
              "      <td>1</td>\n",
              "      <td>Life Sciences</td>\n",
              "      <td>1</td>\n",
              "      <td>2</td>\n",
              "      <td>...</td>\n",
              "      <td>4</td>\n",
              "      <td>80</td>\n",
              "      <td>1</td>\n",
              "      <td>10</td>\n",
              "      <td>3</td>\n",
              "      <td>3</td>\n",
              "      <td>10</td>\n",
              "      <td>7</td>\n",
              "      <td>1</td>\n",
              "      <td>7</td>\n",
              "    </tr>\n",
              "    <tr>\n",
              "      <th>2</th>\n",
              "      <td>37</td>\n",
              "      <td>Yes</td>\n",
              "      <td>Travel_Rarely</td>\n",
              "      <td>1373</td>\n",
              "      <td>Research &amp; Development</td>\n",
              "      <td>2</td>\n",
              "      <td>2</td>\n",
              "      <td>Other</td>\n",
              "      <td>1</td>\n",
              "      <td>4</td>\n",
              "      <td>...</td>\n",
              "      <td>2</td>\n",
              "      <td>80</td>\n",
              "      <td>0</td>\n",
              "      <td>7</td>\n",
              "      <td>3</td>\n",
              "      <td>3</td>\n",
              "      <td>0</td>\n",
              "      <td>0</td>\n",
              "      <td>0</td>\n",
              "      <td>0</td>\n",
              "    </tr>\n",
              "    <tr>\n",
              "      <th>3</th>\n",
              "      <td>33</td>\n",
              "      <td>No</td>\n",
              "      <td>Travel_Frequently</td>\n",
              "      <td>1392</td>\n",
              "      <td>Research &amp; Development</td>\n",
              "      <td>3</td>\n",
              "      <td>4</td>\n",
              "      <td>Life Sciences</td>\n",
              "      <td>1</td>\n",
              "      <td>5</td>\n",
              "      <td>...</td>\n",
              "      <td>3</td>\n",
              "      <td>80</td>\n",
              "      <td>0</td>\n",
              "      <td>8</td>\n",
              "      <td>3</td>\n",
              "      <td>3</td>\n",
              "      <td>8</td>\n",
              "      <td>7</td>\n",
              "      <td>3</td>\n",
              "      <td>0</td>\n",
              "    </tr>\n",
              "    <tr>\n",
              "      <th>4</th>\n",
              "      <td>27</td>\n",
              "      <td>No</td>\n",
              "      <td>Travel_Rarely</td>\n",
              "      <td>591</td>\n",
              "      <td>Research &amp; Development</td>\n",
              "      <td>2</td>\n",
              "      <td>1</td>\n",
              "      <td>Medical</td>\n",
              "      <td>1</td>\n",
              "      <td>7</td>\n",
              "      <td>...</td>\n",
              "      <td>4</td>\n",
              "      <td>80</td>\n",
              "      <td>1</td>\n",
              "      <td>6</td>\n",
              "      <td>3</td>\n",
              "      <td>3</td>\n",
              "      <td>2</td>\n",
              "      <td>2</td>\n",
              "      <td>2</td>\n",
              "      <td>2</td>\n",
              "    </tr>\n",
              "  </tbody>\n",
              "</table>\n",
              "<p>5 rows × 35 columns</p>\n",
              "</div>\n",
              "      <button class=\"colab-df-convert\" onclick=\"convertToInteractive('df-53cc46bf-f6a1-4f54-842f-decbd8eab995')\"\n",
              "              title=\"Convert this dataframe to an interactive table.\"\n",
              "              style=\"display:none;\">\n",
              "        \n",
              "  <svg xmlns=\"http://www.w3.org/2000/svg\" height=\"24px\"viewBox=\"0 0 24 24\"\n",
              "       width=\"24px\">\n",
              "    <path d=\"M0 0h24v24H0V0z\" fill=\"none\"/>\n",
              "    <path d=\"M18.56 5.44l.94 2.06.94-2.06 2.06-.94-2.06-.94-.94-2.06-.94 2.06-2.06.94zm-11 1L8.5 8.5l.94-2.06 2.06-.94-2.06-.94L8.5 2.5l-.94 2.06-2.06.94zm10 10l.94 2.06.94-2.06 2.06-.94-2.06-.94-.94-2.06-.94 2.06-2.06.94z\"/><path d=\"M17.41 7.96l-1.37-1.37c-.4-.4-.92-.59-1.43-.59-.52 0-1.04.2-1.43.59L10.3 9.45l-7.72 7.72c-.78.78-.78 2.05 0 2.83L4 21.41c.39.39.9.59 1.41.59.51 0 1.02-.2 1.41-.59l7.78-7.78 2.81-2.81c.8-.78.8-2.07 0-2.86zM5.41 20L4 18.59l7.72-7.72 1.47 1.35L5.41 20z\"/>\n",
              "  </svg>\n",
              "      </button>\n",
              "      \n",
              "  <style>\n",
              "    .colab-df-container {\n",
              "      display:flex;\n",
              "      flex-wrap:wrap;\n",
              "      gap: 12px;\n",
              "    }\n",
              "\n",
              "    .colab-df-convert {\n",
              "      background-color: #E8F0FE;\n",
              "      border: none;\n",
              "      border-radius: 50%;\n",
              "      cursor: pointer;\n",
              "      display: none;\n",
              "      fill: #1967D2;\n",
              "      height: 32px;\n",
              "      padding: 0 0 0 0;\n",
              "      width: 32px;\n",
              "    }\n",
              "\n",
              "    .colab-df-convert:hover {\n",
              "      background-color: #E2EBFA;\n",
              "      box-shadow: 0px 1px 2px rgba(60, 64, 67, 0.3), 0px 1px 3px 1px rgba(60, 64, 67, 0.15);\n",
              "      fill: #174EA6;\n",
              "    }\n",
              "\n",
              "    [theme=dark] .colab-df-convert {\n",
              "      background-color: #3B4455;\n",
              "      fill: #D2E3FC;\n",
              "    }\n",
              "\n",
              "    [theme=dark] .colab-df-convert:hover {\n",
              "      background-color: #434B5C;\n",
              "      box-shadow: 0px 1px 3px 1px rgba(0, 0, 0, 0.15);\n",
              "      filter: drop-shadow(0px 1px 2px rgba(0, 0, 0, 0.3));\n",
              "      fill: #FFFFFF;\n",
              "    }\n",
              "  </style>\n",
              "\n",
              "      <script>\n",
              "        const buttonEl =\n",
              "          document.querySelector('#df-53cc46bf-f6a1-4f54-842f-decbd8eab995 button.colab-df-convert');\n",
              "        buttonEl.style.display =\n",
              "          google.colab.kernel.accessAllowed ? 'block' : 'none';\n",
              "\n",
              "        async function convertToInteractive(key) {\n",
              "          const element = document.querySelector('#df-53cc46bf-f6a1-4f54-842f-decbd8eab995');\n",
              "          const dataTable =\n",
              "            await google.colab.kernel.invokeFunction('convertToInteractive',\n",
              "                                                     [key], {});\n",
              "          if (!dataTable) return;\n",
              "\n",
              "          const docLinkHtml = 'Like what you see? Visit the ' +\n",
              "            '<a target=\"_blank\" href=https://colab.research.google.com/notebooks/data_table.ipynb>data table notebook</a>'\n",
              "            + ' to learn more about interactive tables.';\n",
              "          element.innerHTML = '';\n",
              "          dataTable['output_type'] = 'display_data';\n",
              "          await google.colab.output.renderOutput(dataTable, element);\n",
              "          const docLink = document.createElement('div');\n",
              "          docLink.innerHTML = docLinkHtml;\n",
              "          element.appendChild(docLink);\n",
              "        }\n",
              "      </script>\n",
              "    </div>\n",
              "  </div>\n",
              "  "
            ]
          },
          "metadata": {}
        },
        {
          "output_type": "stream",
          "name": "stdout",
          "text": [
            "<class 'pandas.core.frame.DataFrame'>\n",
            "RangeIndex: 1470 entries, 0 to 1469\n",
            "Data columns (total 35 columns):\n",
            " #   Column                    Non-Null Count  Dtype \n",
            "---  ------                    --------------  ----- \n",
            " 0   Age                       1470 non-null   int64 \n",
            " 1   Attrition                 1470 non-null   object\n",
            " 2   BusinessTravel            1470 non-null   object\n",
            " 3   DailyRate                 1470 non-null   int64 \n",
            " 4   Department                1470 non-null   object\n",
            " 5   DistanceFromHome          1470 non-null   int64 \n",
            " 6   Education                 1470 non-null   int64 \n",
            " 7   EducationField            1470 non-null   object\n",
            " 8   EmployeeCount             1470 non-null   int64 \n",
            " 9   EmployeeNumber            1470 non-null   int64 \n",
            " 10  EnvironmentSatisfaction   1470 non-null   int64 \n",
            " 11  Gender                    1470 non-null   object\n",
            " 12  HourlyRate                1470 non-null   int64 \n",
            " 13  JobInvolvement            1470 non-null   int64 \n",
            " 14  JobLevel                  1470 non-null   int64 \n",
            " 15  JobRole                   1470 non-null   object\n",
            " 16  JobSatisfaction           1470 non-null   int64 \n",
            " 17  MaritalStatus             1470 non-null   object\n",
            " 18  MonthlyIncome             1470 non-null   int64 \n",
            " 19  MonthlyRate               1470 non-null   int64 \n",
            " 20  NumCompaniesWorked        1470 non-null   int64 \n",
            " 21  Over18                    1470 non-null   object\n",
            " 22  OverTime                  1470 non-null   object\n",
            " 23  PercentSalaryHike         1470 non-null   int64 \n",
            " 24  PerformanceRating         1470 non-null   int64 \n",
            " 25  RelationshipSatisfaction  1470 non-null   int64 \n",
            " 26  StandardHours             1470 non-null   int64 \n",
            " 27  StockOptionLevel          1470 non-null   int64 \n",
            " 28  TotalWorkingYears         1470 non-null   int64 \n",
            " 29  TrainingTimesLastYear     1470 non-null   int64 \n",
            " 30  WorkLifeBalance           1470 non-null   int64 \n",
            " 31  YearsAtCompany            1470 non-null   int64 \n",
            " 32  YearsInCurrentRole        1470 non-null   int64 \n",
            " 33  YearsSinceLastPromotion   1470 non-null   int64 \n",
            " 34  YearsWithCurrManager      1470 non-null   int64 \n",
            "dtypes: int64(26), object(9)\n",
            "memory usage: 402.1+ KB\n"
          ]
        }
      ],
      "source": [
        "employee_df = pd.read_excel('IBM-HR-Data-Employee-Attrition.xlsx')\n",
        "#full_data_url = \"https://docs.google.com/spreadsheets/d/1b3iFZkx5_KDazYqGr52dDBLk7R36qBJBS8T6ueHL3p8/export?format=csv&gid=149932059\"\n",
        "\n",
        "#employee_df = pd.read_excel(\"https://github.com/gentryae/ML_classwork/blob/main/IBM-HR-Data-Employee-Attrition.xlsx\")\n",
        "display(employee_df.head())\n",
        "employee_df.info()"
      ]
    },
    {
      "cell_type": "code",
      "execution_count": 5,
      "id": "107620e0-89ee-4f53-ac2e-dd0d03b15b66",
      "metadata": {
        "colab": {
          "base_uri": "https://localhost:8080/"
        },
        "id": "107620e0-89ee-4f53-ac2e-dd0d03b15b66",
        "outputId": "247501d1-412a-4201-902e-5d48bec0ef9c"
      },
      "outputs": [
        {
          "output_type": "execute_result",
          "data": {
            "text/plain": [
              "Age                         0\n",
              "Attrition                   0\n",
              "BusinessTravel              0\n",
              "DailyRate                   0\n",
              "Department                  0\n",
              "DistanceFromHome            0\n",
              "Education                   0\n",
              "EducationField              0\n",
              "EmployeeCount               0\n",
              "EmployeeNumber              0\n",
              "EnvironmentSatisfaction     0\n",
              "Gender                      0\n",
              "HourlyRate                  0\n",
              "JobInvolvement              0\n",
              "JobLevel                    0\n",
              "JobRole                     0\n",
              "JobSatisfaction             0\n",
              "MaritalStatus               0\n",
              "MonthlyIncome               0\n",
              "MonthlyRate                 0\n",
              "NumCompaniesWorked          0\n",
              "Over18                      0\n",
              "OverTime                    0\n",
              "PercentSalaryHike           0\n",
              "PerformanceRating           0\n",
              "RelationshipSatisfaction    0\n",
              "StandardHours               0\n",
              "StockOptionLevel            0\n",
              "TotalWorkingYears           0\n",
              "TrainingTimesLastYear       0\n",
              "WorkLifeBalance             0\n",
              "YearsAtCompany              0\n",
              "YearsInCurrentRole          0\n",
              "YearsSinceLastPromotion     0\n",
              "YearsWithCurrManager        0\n",
              "dtype: int64"
            ]
          },
          "metadata": {},
          "execution_count": 5
        }
      ],
      "source": [
        "employee_df.isna().sum()"
      ]
    },
    {
      "cell_type": "code",
      "execution_count": 5,
      "id": "a54164ec",
      "metadata": {
        "id": "a54164ec"
      },
      "outputs": [],
      "source": []
    },
    {
      "cell_type": "markdown",
      "id": "f3200837-3b0e-42f5-aac2-c2dc6dec3fd0",
      "metadata": {
        "id": "f3200837-3b0e-42f5-aac2-c2dc6dec3fd0"
      },
      "source": [
        "## Data cleaning and EDA\n",
        "\n",
        "We can now briefly explore our data. For now, we can observe that there are a zero NA values which will likely need imputation. We'll wait for this step so that we can put it within our training loop in case future data sets from IBM HR might have NA values. You are welcome to explore additional aspects of the data and build out 2-3 features on your own"
      ]
    },
    {
      "cell_type": "code",
      "execution_count": 6,
      "id": "ae42a8db-457d-4532-934b-b4be3e6ce33b",
      "metadata": {
        "colab": {
          "base_uri": "https://localhost:8080/"
        },
        "id": "ae42a8db-457d-4532-934b-b4be3e6ce33b",
        "outputId": "27953189-68dc-4f6a-ae40-044e82970d21"
      },
      "outputs": [
        {
          "output_type": "execute_result",
          "data": {
            "text/plain": [
              "(1470, 35)"
            ]
          },
          "metadata": {},
          "execution_count": 6
        }
      ],
      "source": [
        "employee_df = employee_df.dropna(subset=['Attrition'])\n",
        "employee_df.shape"
      ]
    },
    {
      "cell_type": "code",
      "execution_count": 7,
      "id": "02c5bb25-8c26-47b0-b53c-f352babdb717",
      "metadata": {
        "id": "02c5bb25-8c26-47b0-b53c-f352babdb717"
      },
      "outputs": [],
      "source": [
        "class_column = 'Attrition'\n",
        "random_seed = 2435\n",
        "\n",
        "X_train, X_test, y_train, y_test = train_test_split(employee_df.drop(columns=class_column), employee_df[class_column],\n",
        "                                                   test_size=0.25, random_state=random_seed, stratify=employee_df[class_column])"
      ]
    },
    {
      "cell_type": "markdown",
      "id": "9774a06c-3c40-48c0-8834-2570785a918f",
      "metadata": {
        "id": "9774a06c-3c40-48c0-8834-2570785a918f"
      },
      "source": [
        "Quick sanity check to make sure that everything seems correct:"
      ]
    },
    {
      "cell_type": "code",
      "execution_count": 8,
      "id": "2c32bbd1-5392-4281-a1a4-a38ed6dd6390",
      "metadata": {
        "colab": {
          "base_uri": "https://localhost:8080/",
          "height": 746
        },
        "id": "2c32bbd1-5392-4281-a1a4-a38ed6dd6390",
        "outputId": "9b044c2a-c4b5-476b-a423-4437d8e9e15d"
      },
      "outputs": [
        {
          "output_type": "stream",
          "name": "stdout",
          "text": [
            "On X train: \n",
            "X train dimensions:  (1102, 34)\n"
          ]
        },
        {
          "output_type": "display_data",
          "data": {
            "text/plain": [
              "      Age     BusinessTravel  DailyRate              Department  \\\n",
              "1331   48      Travel_Rarely       1224  Research & Development   \n",
              "485    27      Travel_Rarely        798  Research & Development   \n",
              "1368   34  Travel_Frequently        735  Research & Development   \n",
              "579    34      Travel_Rarely        121  Research & Development   \n",
              "142    38      Travel_Rarely        364  Research & Development   \n",
              "\n",
              "      DistanceFromHome  Education    EducationField  EmployeeCount  \\\n",
              "1331                10          3     Life Sciences              1   \n",
              "485                  6          4           Medical              1   \n",
              "1368                22          4             Other              1   \n",
              "579                  2          4           Medical              1   \n",
              "142                  3          5  Technical Degree              1   \n",
              "\n",
              "      EmployeeNumber  EnvironmentSatisfaction  ... RelationshipSatisfaction  \\\n",
              "1331            1867                        4  ...                        4   \n",
              "485              655                        1  ...                        3   \n",
              "1368            1932                        3  ...                        2   \n",
              "579              804                        3  ...                        3   \n",
              "142              193                        4  ...                        2   \n",
              "\n",
              "      StandardHours  StockOptionLevel  TotalWorkingYears  \\\n",
              "1331             80                 0                 29   \n",
              "485              80                 2                  6   \n",
              "1368             80                 0                 16   \n",
              "579              80                 0                  6   \n",
              "142              80                 0                 19   \n",
              "\n",
              "     TrainingTimesLastYear  WorkLifeBalance YearsAtCompany  \\\n",
              "1331                     3                3             22   \n",
              "485                      5                2              5   \n",
              "1368                     3                3             15   \n",
              "579                      3                3              6   \n",
              "142                      2                3              3   \n",
              "\n",
              "      YearsInCurrentRole  YearsSinceLastPromotion  YearsWithCurrManager  \n",
              "1331                  10                       12                     9  \n",
              "485                    3                        0                     3  \n",
              "1368                  10                        6                    11  \n",
              "579                    5                        1                     3  \n",
              "142                    2                        2                     2  \n",
              "\n",
              "[5 rows x 34 columns]"
            ],
            "text/html": [
              "\n",
              "  <div id=\"df-fbb324d7-7eef-4b99-b691-4f747884096d\">\n",
              "    <div class=\"colab-df-container\">\n",
              "      <div>\n",
              "<style scoped>\n",
              "    .dataframe tbody tr th:only-of-type {\n",
              "        vertical-align: middle;\n",
              "    }\n",
              "\n",
              "    .dataframe tbody tr th {\n",
              "        vertical-align: top;\n",
              "    }\n",
              "\n",
              "    .dataframe thead th {\n",
              "        text-align: right;\n",
              "    }\n",
              "</style>\n",
              "<table border=\"1\" class=\"dataframe\">\n",
              "  <thead>\n",
              "    <tr style=\"text-align: right;\">\n",
              "      <th></th>\n",
              "      <th>Age</th>\n",
              "      <th>BusinessTravel</th>\n",
              "      <th>DailyRate</th>\n",
              "      <th>Department</th>\n",
              "      <th>DistanceFromHome</th>\n",
              "      <th>Education</th>\n",
              "      <th>EducationField</th>\n",
              "      <th>EmployeeCount</th>\n",
              "      <th>EmployeeNumber</th>\n",
              "      <th>EnvironmentSatisfaction</th>\n",
              "      <th>...</th>\n",
              "      <th>RelationshipSatisfaction</th>\n",
              "      <th>StandardHours</th>\n",
              "      <th>StockOptionLevel</th>\n",
              "      <th>TotalWorkingYears</th>\n",
              "      <th>TrainingTimesLastYear</th>\n",
              "      <th>WorkLifeBalance</th>\n",
              "      <th>YearsAtCompany</th>\n",
              "      <th>YearsInCurrentRole</th>\n",
              "      <th>YearsSinceLastPromotion</th>\n",
              "      <th>YearsWithCurrManager</th>\n",
              "    </tr>\n",
              "  </thead>\n",
              "  <tbody>\n",
              "    <tr>\n",
              "      <th>1331</th>\n",
              "      <td>48</td>\n",
              "      <td>Travel_Rarely</td>\n",
              "      <td>1224</td>\n",
              "      <td>Research &amp; Development</td>\n",
              "      <td>10</td>\n",
              "      <td>3</td>\n",
              "      <td>Life Sciences</td>\n",
              "      <td>1</td>\n",
              "      <td>1867</td>\n",
              "      <td>4</td>\n",
              "      <td>...</td>\n",
              "      <td>4</td>\n",
              "      <td>80</td>\n",
              "      <td>0</td>\n",
              "      <td>29</td>\n",
              "      <td>3</td>\n",
              "      <td>3</td>\n",
              "      <td>22</td>\n",
              "      <td>10</td>\n",
              "      <td>12</td>\n",
              "      <td>9</td>\n",
              "    </tr>\n",
              "    <tr>\n",
              "      <th>485</th>\n",
              "      <td>27</td>\n",
              "      <td>Travel_Rarely</td>\n",
              "      <td>798</td>\n",
              "      <td>Research &amp; Development</td>\n",
              "      <td>6</td>\n",
              "      <td>4</td>\n",
              "      <td>Medical</td>\n",
              "      <td>1</td>\n",
              "      <td>655</td>\n",
              "      <td>1</td>\n",
              "      <td>...</td>\n",
              "      <td>3</td>\n",
              "      <td>80</td>\n",
              "      <td>2</td>\n",
              "      <td>6</td>\n",
              "      <td>5</td>\n",
              "      <td>2</td>\n",
              "      <td>5</td>\n",
              "      <td>3</td>\n",
              "      <td>0</td>\n",
              "      <td>3</td>\n",
              "    </tr>\n",
              "    <tr>\n",
              "      <th>1368</th>\n",
              "      <td>34</td>\n",
              "      <td>Travel_Frequently</td>\n",
              "      <td>735</td>\n",
              "      <td>Research &amp; Development</td>\n",
              "      <td>22</td>\n",
              "      <td>4</td>\n",
              "      <td>Other</td>\n",
              "      <td>1</td>\n",
              "      <td>1932</td>\n",
              "      <td>3</td>\n",
              "      <td>...</td>\n",
              "      <td>2</td>\n",
              "      <td>80</td>\n",
              "      <td>0</td>\n",
              "      <td>16</td>\n",
              "      <td>3</td>\n",
              "      <td>3</td>\n",
              "      <td>15</td>\n",
              "      <td>10</td>\n",
              "      <td>6</td>\n",
              "      <td>11</td>\n",
              "    </tr>\n",
              "    <tr>\n",
              "      <th>579</th>\n",
              "      <td>34</td>\n",
              "      <td>Travel_Rarely</td>\n",
              "      <td>121</td>\n",
              "      <td>Research &amp; Development</td>\n",
              "      <td>2</td>\n",
              "      <td>4</td>\n",
              "      <td>Medical</td>\n",
              "      <td>1</td>\n",
              "      <td>804</td>\n",
              "      <td>3</td>\n",
              "      <td>...</td>\n",
              "      <td>3</td>\n",
              "      <td>80</td>\n",
              "      <td>0</td>\n",
              "      <td>6</td>\n",
              "      <td>3</td>\n",
              "      <td>3</td>\n",
              "      <td>6</td>\n",
              "      <td>5</td>\n",
              "      <td>1</td>\n",
              "      <td>3</td>\n",
              "    </tr>\n",
              "    <tr>\n",
              "      <th>142</th>\n",
              "      <td>38</td>\n",
              "      <td>Travel_Rarely</td>\n",
              "      <td>364</td>\n",
              "      <td>Research &amp; Development</td>\n",
              "      <td>3</td>\n",
              "      <td>5</td>\n",
              "      <td>Technical Degree</td>\n",
              "      <td>1</td>\n",
              "      <td>193</td>\n",
              "      <td>4</td>\n",
              "      <td>...</td>\n",
              "      <td>2</td>\n",
              "      <td>80</td>\n",
              "      <td>0</td>\n",
              "      <td>19</td>\n",
              "      <td>2</td>\n",
              "      <td>3</td>\n",
              "      <td>3</td>\n",
              "      <td>2</td>\n",
              "      <td>2</td>\n",
              "      <td>2</td>\n",
              "    </tr>\n",
              "  </tbody>\n",
              "</table>\n",
              "<p>5 rows × 34 columns</p>\n",
              "</div>\n",
              "      <button class=\"colab-df-convert\" onclick=\"convertToInteractive('df-fbb324d7-7eef-4b99-b691-4f747884096d')\"\n",
              "              title=\"Convert this dataframe to an interactive table.\"\n",
              "              style=\"display:none;\">\n",
              "        \n",
              "  <svg xmlns=\"http://www.w3.org/2000/svg\" height=\"24px\"viewBox=\"0 0 24 24\"\n",
              "       width=\"24px\">\n",
              "    <path d=\"M0 0h24v24H0V0z\" fill=\"none\"/>\n",
              "    <path d=\"M18.56 5.44l.94 2.06.94-2.06 2.06-.94-2.06-.94-.94-2.06-.94 2.06-2.06.94zm-11 1L8.5 8.5l.94-2.06 2.06-.94-2.06-.94L8.5 2.5l-.94 2.06-2.06.94zm10 10l.94 2.06.94-2.06 2.06-.94-2.06-.94-.94-2.06-.94 2.06-2.06.94z\"/><path d=\"M17.41 7.96l-1.37-1.37c-.4-.4-.92-.59-1.43-.59-.52 0-1.04.2-1.43.59L10.3 9.45l-7.72 7.72c-.78.78-.78 2.05 0 2.83L4 21.41c.39.39.9.59 1.41.59.51 0 1.02-.2 1.41-.59l7.78-7.78 2.81-2.81c.8-.78.8-2.07 0-2.86zM5.41 20L4 18.59l7.72-7.72 1.47 1.35L5.41 20z\"/>\n",
              "  </svg>\n",
              "      </button>\n",
              "      \n",
              "  <style>\n",
              "    .colab-df-container {\n",
              "      display:flex;\n",
              "      flex-wrap:wrap;\n",
              "      gap: 12px;\n",
              "    }\n",
              "\n",
              "    .colab-df-convert {\n",
              "      background-color: #E8F0FE;\n",
              "      border: none;\n",
              "      border-radius: 50%;\n",
              "      cursor: pointer;\n",
              "      display: none;\n",
              "      fill: #1967D2;\n",
              "      height: 32px;\n",
              "      padding: 0 0 0 0;\n",
              "      width: 32px;\n",
              "    }\n",
              "\n",
              "    .colab-df-convert:hover {\n",
              "      background-color: #E2EBFA;\n",
              "      box-shadow: 0px 1px 2px rgba(60, 64, 67, 0.3), 0px 1px 3px 1px rgba(60, 64, 67, 0.15);\n",
              "      fill: #174EA6;\n",
              "    }\n",
              "\n",
              "    [theme=dark] .colab-df-convert {\n",
              "      background-color: #3B4455;\n",
              "      fill: #D2E3FC;\n",
              "    }\n",
              "\n",
              "    [theme=dark] .colab-df-convert:hover {\n",
              "      background-color: #434B5C;\n",
              "      box-shadow: 0px 1px 3px 1px rgba(0, 0, 0, 0.15);\n",
              "      filter: drop-shadow(0px 1px 2px rgba(0, 0, 0, 0.3));\n",
              "      fill: #FFFFFF;\n",
              "    }\n",
              "  </style>\n",
              "\n",
              "      <script>\n",
              "        const buttonEl =\n",
              "          document.querySelector('#df-fbb324d7-7eef-4b99-b691-4f747884096d button.colab-df-convert');\n",
              "        buttonEl.style.display =\n",
              "          google.colab.kernel.accessAllowed ? 'block' : 'none';\n",
              "\n",
              "        async function convertToInteractive(key) {\n",
              "          const element = document.querySelector('#df-fbb324d7-7eef-4b99-b691-4f747884096d');\n",
              "          const dataTable =\n",
              "            await google.colab.kernel.invokeFunction('convertToInteractive',\n",
              "                                                     [key], {});\n",
              "          if (!dataTable) return;\n",
              "\n",
              "          const docLinkHtml = 'Like what you see? Visit the ' +\n",
              "            '<a target=\"_blank\" href=https://colab.research.google.com/notebooks/data_table.ipynb>data table notebook</a>'\n",
              "            + ' to learn more about interactive tables.';\n",
              "          element.innerHTML = '';\n",
              "          dataTable['output_type'] = 'display_data';\n",
              "          await google.colab.output.renderOutput(dataTable, element);\n",
              "          const docLink = document.createElement('div');\n",
              "          docLink.innerHTML = docLinkHtml;\n",
              "          element.appendChild(docLink);\n",
              "        }\n",
              "      </script>\n",
              "    </div>\n",
              "  </div>\n",
              "  "
            ]
          },
          "metadata": {}
        },
        {
          "output_type": "stream",
          "name": "stdout",
          "text": [
            "\n",
            "On X test: \n",
            "X test dimensions:  (368, 34)\n"
          ]
        },
        {
          "output_type": "display_data",
          "data": {
            "text/plain": [
              "      Age     BusinessTravel  DailyRate              Department  \\\n",
              "129    49      Travel_Rarely        470  Research & Development   \n",
              "1120   38      Travel_Rarely        437                   Sales   \n",
              "3      33  Travel_Frequently       1392  Research & Development   \n",
              "965    25      Travel_Rarely        882  Research & Development   \n",
              "94     32      Travel_Rarely       1093                   Sales   \n",
              "\n",
              "      DistanceFromHome  Education EducationField  EmployeeCount  \\\n",
              "129                 20          4        Medical              1   \n",
              "1120                16          3  Life Sciences              1   \n",
              "3                    3          4  Life Sciences              1   \n",
              "965                 19          1        Medical              1   \n",
              "94                   6          4        Medical              1   \n",
              "\n",
              "      EmployeeNumber  EnvironmentSatisfaction  ... RelationshipSatisfaction  \\\n",
              "129              170                        3  ...                        3   \n",
              "1120            1583                        2  ...                        2   \n",
              "3                  5                        4  ...                        3   \n",
              "965             1358                        4  ...                        3   \n",
              "94               125                        2  ...                        1   \n",
              "\n",
              "      StandardHours  StockOptionLevel  TotalWorkingYears  \\\n",
              "129              80                 0                 16   \n",
              "1120             80                 0                  8   \n",
              "3                80                 0                  8   \n",
              "965              80                 3                  7   \n",
              "94               80                 0                 12   \n",
              "\n",
              "     TrainingTimesLastYear  WorkLifeBalance YearsAtCompany  \\\n",
              "129                      2                2             15   \n",
              "1120                     5                4              3   \n",
              "3                        3                3              8   \n",
              "965                      6                2              3   \n",
              "94                       0                3             11   \n",
              "\n",
              "      YearsInCurrentRole  YearsSinceLastPromotion  YearsWithCurrManager  \n",
              "129                   11                        5                    11  \n",
              "1120                   2                        1                     2  \n",
              "3                      7                        3                     0  \n",
              "965                    2                        1                     2  \n",
              "94                     8                        5                     7  \n",
              "\n",
              "[5 rows x 34 columns]"
            ],
            "text/html": [
              "\n",
              "  <div id=\"df-b0ab27e7-9bcd-4aab-b4d9-d58e4bf8ce25\">\n",
              "    <div class=\"colab-df-container\">\n",
              "      <div>\n",
              "<style scoped>\n",
              "    .dataframe tbody tr th:only-of-type {\n",
              "        vertical-align: middle;\n",
              "    }\n",
              "\n",
              "    .dataframe tbody tr th {\n",
              "        vertical-align: top;\n",
              "    }\n",
              "\n",
              "    .dataframe thead th {\n",
              "        text-align: right;\n",
              "    }\n",
              "</style>\n",
              "<table border=\"1\" class=\"dataframe\">\n",
              "  <thead>\n",
              "    <tr style=\"text-align: right;\">\n",
              "      <th></th>\n",
              "      <th>Age</th>\n",
              "      <th>BusinessTravel</th>\n",
              "      <th>DailyRate</th>\n",
              "      <th>Department</th>\n",
              "      <th>DistanceFromHome</th>\n",
              "      <th>Education</th>\n",
              "      <th>EducationField</th>\n",
              "      <th>EmployeeCount</th>\n",
              "      <th>EmployeeNumber</th>\n",
              "      <th>EnvironmentSatisfaction</th>\n",
              "      <th>...</th>\n",
              "      <th>RelationshipSatisfaction</th>\n",
              "      <th>StandardHours</th>\n",
              "      <th>StockOptionLevel</th>\n",
              "      <th>TotalWorkingYears</th>\n",
              "      <th>TrainingTimesLastYear</th>\n",
              "      <th>WorkLifeBalance</th>\n",
              "      <th>YearsAtCompany</th>\n",
              "      <th>YearsInCurrentRole</th>\n",
              "      <th>YearsSinceLastPromotion</th>\n",
              "      <th>YearsWithCurrManager</th>\n",
              "    </tr>\n",
              "  </thead>\n",
              "  <tbody>\n",
              "    <tr>\n",
              "      <th>129</th>\n",
              "      <td>49</td>\n",
              "      <td>Travel_Rarely</td>\n",
              "      <td>470</td>\n",
              "      <td>Research &amp; Development</td>\n",
              "      <td>20</td>\n",
              "      <td>4</td>\n",
              "      <td>Medical</td>\n",
              "      <td>1</td>\n",
              "      <td>170</td>\n",
              "      <td>3</td>\n",
              "      <td>...</td>\n",
              "      <td>3</td>\n",
              "      <td>80</td>\n",
              "      <td>0</td>\n",
              "      <td>16</td>\n",
              "      <td>2</td>\n",
              "      <td>2</td>\n",
              "      <td>15</td>\n",
              "      <td>11</td>\n",
              "      <td>5</td>\n",
              "      <td>11</td>\n",
              "    </tr>\n",
              "    <tr>\n",
              "      <th>1120</th>\n",
              "      <td>38</td>\n",
              "      <td>Travel_Rarely</td>\n",
              "      <td>437</td>\n",
              "      <td>Sales</td>\n",
              "      <td>16</td>\n",
              "      <td>3</td>\n",
              "      <td>Life Sciences</td>\n",
              "      <td>1</td>\n",
              "      <td>1583</td>\n",
              "      <td>2</td>\n",
              "      <td>...</td>\n",
              "      <td>2</td>\n",
              "      <td>80</td>\n",
              "      <td>0</td>\n",
              "      <td>8</td>\n",
              "      <td>5</td>\n",
              "      <td>4</td>\n",
              "      <td>3</td>\n",
              "      <td>2</td>\n",
              "      <td>1</td>\n",
              "      <td>2</td>\n",
              "    </tr>\n",
              "    <tr>\n",
              "      <th>3</th>\n",
              "      <td>33</td>\n",
              "      <td>Travel_Frequently</td>\n",
              "      <td>1392</td>\n",
              "      <td>Research &amp; Development</td>\n",
              "      <td>3</td>\n",
              "      <td>4</td>\n",
              "      <td>Life Sciences</td>\n",
              "      <td>1</td>\n",
              "      <td>5</td>\n",
              "      <td>4</td>\n",
              "      <td>...</td>\n",
              "      <td>3</td>\n",
              "      <td>80</td>\n",
              "      <td>0</td>\n",
              "      <td>8</td>\n",
              "      <td>3</td>\n",
              "      <td>3</td>\n",
              "      <td>8</td>\n",
              "      <td>7</td>\n",
              "      <td>3</td>\n",
              "      <td>0</td>\n",
              "    </tr>\n",
              "    <tr>\n",
              "      <th>965</th>\n",
              "      <td>25</td>\n",
              "      <td>Travel_Rarely</td>\n",
              "      <td>882</td>\n",
              "      <td>Research &amp; Development</td>\n",
              "      <td>19</td>\n",
              "      <td>1</td>\n",
              "      <td>Medical</td>\n",
              "      <td>1</td>\n",
              "      <td>1358</td>\n",
              "      <td>4</td>\n",
              "      <td>...</td>\n",
              "      <td>3</td>\n",
              "      <td>80</td>\n",
              "      <td>3</td>\n",
              "      <td>7</td>\n",
              "      <td>6</td>\n",
              "      <td>2</td>\n",
              "      <td>3</td>\n",
              "      <td>2</td>\n",
              "      <td>1</td>\n",
              "      <td>2</td>\n",
              "    </tr>\n",
              "    <tr>\n",
              "      <th>94</th>\n",
              "      <td>32</td>\n",
              "      <td>Travel_Rarely</td>\n",
              "      <td>1093</td>\n",
              "      <td>Sales</td>\n",
              "      <td>6</td>\n",
              "      <td>4</td>\n",
              "      <td>Medical</td>\n",
              "      <td>1</td>\n",
              "      <td>125</td>\n",
              "      <td>2</td>\n",
              "      <td>...</td>\n",
              "      <td>1</td>\n",
              "      <td>80</td>\n",
              "      <td>0</td>\n",
              "      <td>12</td>\n",
              "      <td>0</td>\n",
              "      <td>3</td>\n",
              "      <td>11</td>\n",
              "      <td>8</td>\n",
              "      <td>5</td>\n",
              "      <td>7</td>\n",
              "    </tr>\n",
              "  </tbody>\n",
              "</table>\n",
              "<p>5 rows × 34 columns</p>\n",
              "</div>\n",
              "      <button class=\"colab-df-convert\" onclick=\"convertToInteractive('df-b0ab27e7-9bcd-4aab-b4d9-d58e4bf8ce25')\"\n",
              "              title=\"Convert this dataframe to an interactive table.\"\n",
              "              style=\"display:none;\">\n",
              "        \n",
              "  <svg xmlns=\"http://www.w3.org/2000/svg\" height=\"24px\"viewBox=\"0 0 24 24\"\n",
              "       width=\"24px\">\n",
              "    <path d=\"M0 0h24v24H0V0z\" fill=\"none\"/>\n",
              "    <path d=\"M18.56 5.44l.94 2.06.94-2.06 2.06-.94-2.06-.94-.94-2.06-.94 2.06-2.06.94zm-11 1L8.5 8.5l.94-2.06 2.06-.94-2.06-.94L8.5 2.5l-.94 2.06-2.06.94zm10 10l.94 2.06.94-2.06 2.06-.94-2.06-.94-.94-2.06-.94 2.06-2.06.94z\"/><path d=\"M17.41 7.96l-1.37-1.37c-.4-.4-.92-.59-1.43-.59-.52 0-1.04.2-1.43.59L10.3 9.45l-7.72 7.72c-.78.78-.78 2.05 0 2.83L4 21.41c.39.39.9.59 1.41.59.51 0 1.02-.2 1.41-.59l7.78-7.78 2.81-2.81c.8-.78.8-2.07 0-2.86zM5.41 20L4 18.59l7.72-7.72 1.47 1.35L5.41 20z\"/>\n",
              "  </svg>\n",
              "      </button>\n",
              "      \n",
              "  <style>\n",
              "    .colab-df-container {\n",
              "      display:flex;\n",
              "      flex-wrap:wrap;\n",
              "      gap: 12px;\n",
              "    }\n",
              "\n",
              "    .colab-df-convert {\n",
              "      background-color: #E8F0FE;\n",
              "      border: none;\n",
              "      border-radius: 50%;\n",
              "      cursor: pointer;\n",
              "      display: none;\n",
              "      fill: #1967D2;\n",
              "      height: 32px;\n",
              "      padding: 0 0 0 0;\n",
              "      width: 32px;\n",
              "    }\n",
              "\n",
              "    .colab-df-convert:hover {\n",
              "      background-color: #E2EBFA;\n",
              "      box-shadow: 0px 1px 2px rgba(60, 64, 67, 0.3), 0px 1px 3px 1px rgba(60, 64, 67, 0.15);\n",
              "      fill: #174EA6;\n",
              "    }\n",
              "\n",
              "    [theme=dark] .colab-df-convert {\n",
              "      background-color: #3B4455;\n",
              "      fill: #D2E3FC;\n",
              "    }\n",
              "\n",
              "    [theme=dark] .colab-df-convert:hover {\n",
              "      background-color: #434B5C;\n",
              "      box-shadow: 0px 1px 3px 1px rgba(0, 0, 0, 0.15);\n",
              "      filter: drop-shadow(0px 1px 2px rgba(0, 0, 0, 0.3));\n",
              "      fill: #FFFFFF;\n",
              "    }\n",
              "  </style>\n",
              "\n",
              "      <script>\n",
              "        const buttonEl =\n",
              "          document.querySelector('#df-b0ab27e7-9bcd-4aab-b4d9-d58e4bf8ce25 button.colab-df-convert');\n",
              "        buttonEl.style.display =\n",
              "          google.colab.kernel.accessAllowed ? 'block' : 'none';\n",
              "\n",
              "        async function convertToInteractive(key) {\n",
              "          const element = document.querySelector('#df-b0ab27e7-9bcd-4aab-b4d9-d58e4bf8ce25');\n",
              "          const dataTable =\n",
              "            await google.colab.kernel.invokeFunction('convertToInteractive',\n",
              "                                                     [key], {});\n",
              "          if (!dataTable) return;\n",
              "\n",
              "          const docLinkHtml = 'Like what you see? Visit the ' +\n",
              "            '<a target=\"_blank\" href=https://colab.research.google.com/notebooks/data_table.ipynb>data table notebook</a>'\n",
              "            + ' to learn more about interactive tables.';\n",
              "          element.innerHTML = '';\n",
              "          dataTable['output_type'] = 'display_data';\n",
              "          await google.colab.output.renderOutput(dataTable, element);\n",
              "          const docLink = document.createElement('div');\n",
              "          docLink.innerHTML = docLinkHtml;\n",
              "          element.appendChild(docLink);\n",
              "        }\n",
              "      </script>\n",
              "    </div>\n",
              "  </div>\n",
              "  "
            ]
          },
          "metadata": {}
        }
      ],
      "source": [
        "# X Train\n",
        "print('On X train: ')\n",
        "print('X train dimensions: ', X_train.shape)\n",
        "display(X_train.head())\n",
        "\n",
        "# X test\n",
        "print('\\nOn X test: ')\n",
        "print('X test dimensions: ', X_test.shape)\n",
        "display(X_test.head())"
      ]
    },
    {
      "cell_type": "code",
      "execution_count": 9,
      "id": "113d1ab3-739a-4e42-8500-92b6332b2475",
      "metadata": {
        "colab": {
          "base_uri": "https://localhost:8080/",
          "height": 321
        },
        "id": "113d1ab3-739a-4e42-8500-92b6332b2475",
        "outputId": "9cdac6d8-885b-4bb6-be2d-2bbcaf277b6e"
      },
      "outputs": [
        {
          "output_type": "stream",
          "name": "stdout",
          "text": [
            "On y train: \n",
            "y train dimensions:  (1102,)\n"
          ]
        },
        {
          "output_type": "display_data",
          "data": {
            "text/plain": [
              "1331    No\n",
              "485     No\n",
              "1368    No\n",
              "579     No\n",
              "142     No\n",
              "Name: Attrition, dtype: object"
            ]
          },
          "metadata": {}
        },
        {
          "output_type": "stream",
          "name": "stdout",
          "text": [
            "\n",
            "On y test: \n",
            "y test dimensions:  (368,)\n"
          ]
        },
        {
          "output_type": "display_data",
          "data": {
            "text/plain": [
              "129     No\n",
              "1120    No\n",
              "3       No\n",
              "965     No\n",
              "94      No\n",
              "Name: Attrition, dtype: object"
            ]
          },
          "metadata": {}
        }
      ],
      "source": [
        "# X Train\n",
        "print('On y train: ')\n",
        "print('y train dimensions: ', y_train.shape)\n",
        "display(y_train.head())\n",
        "\n",
        "# X test\n",
        "print('\\nOn y test: ')\n",
        "print('y test dimensions: ', y_test.shape)\n",
        "display(y_test.head())"
      ]
    },
    {
      "cell_type": "markdown",
      "id": "6a76f5d1-05a4-4f81-8608-099b3b20abef",
      "metadata": {
        "id": "6a76f5d1-05a4-4f81-8608-099b3b20abef"
      },
      "source": [
        "## Establish the training pipeline\n",
        "\n",
        "We can now establish the training pipeline for our models. Since this is a process we would need to repeat several times, it's good to essentially functionalize the process so we do not need to re-write redundant code. Here, we can impute some values that were missing, and encode any categorical values. Note that these pipelines will change according to the model and methodology you choose - additionally, the pipelines will also change depending on the data types of the columns in your dataset. "
      ]
    },
    {
      "cell_type": "code",
      "execution_count": 10,
      "id": "9ed44830-4039-4564-bde0-2b6661d672c5",
      "metadata": {
        "id": "9ed44830-4039-4564-bde0-2b6661d672c5"
      },
      "outputs": [],
      "source": [
        "# TODO: establish your own pipelines for the different data types\n",
        "\n",
        "#individual pipelines for differing datatypes\n",
        "cat_pipeline = Pipeline(steps=[('cat_impute', SimpleImputer(missing_values=np.nan, strategy='most_frequent')),\n",
        "                               ('onehot_cat', OneHotEncoder(drop='if_binary'))])\n",
        "num_pipeline = Pipeline(steps=[('impute_num', SimpleImputer(missing_values=np.nan, strategy='mean')),\n",
        "                               ('scale_num', StandardScaler())])"
      ]
    },
    {
      "cell_type": "code",
      "execution_count": 11,
      "id": "242c958a-894d-4259-9dfd-387ddf541144",
      "metadata": {
        "id": "242c958a-894d-4259-9dfd-387ddf541144"
      },
      "outputs": [],
      "source": [
        "# TODO: establish your preprocessing pipeline by your feature set\n",
        "\n",
        "#establish preprocessing pipeline by columns\n",
        "preproc = ColumnTransformer([('cat_pipe', cat_pipeline, make_column_selector(dtype_include=object)),\n",
        "                             ('num_pipe', num_pipeline, make_column_selector(dtype_include=np.number))],\n",
        "                             remainder='passthrough')\n"
      ]
    },
    {
      "cell_type": "code",
      "execution_count": 12,
      "id": "917a7dae-35ff-43b2-8186-dbe731d0f08d",
      "metadata": {
        "id": "917a7dae-35ff-43b2-8186-dbe731d0f08d",
        "colab": {
          "base_uri": "https://localhost:8080/",
          "height": 227
        },
        "outputId": "5108000d-0cb2-489e-e834-243bac4cb36b"
      },
      "outputs": [
        {
          "output_type": "display_data",
          "data": {
            "text/plain": [
              "Pipeline(steps=[('preproc',\n",
              "                 ColumnTransformer(remainder='passthrough',\n",
              "                                   transformers=[('cat_pipe',\n",
              "                                                  Pipeline(steps=[('cat_impute',\n",
              "                                                                   SimpleImputer(strategy='most_frequent')),\n",
              "                                                                  ('onehot_cat',\n",
              "                                                                   OneHotEncoder(drop='if_binary'))]),\n",
              "                                                  <sklearn.compose._column_transformer.make_column_selector object at 0x7fb8fb1dfd90>),\n",
              "                                                 ('num_pipe',\n",
              "                                                  Pipeline(steps=[('impute_num',\n",
              "                                                                   SimpleImputer()),\n",
              "                                                                  ('scale_num',\n",
              "                                                                   StandardScaler())]),\n",
              "                                                  <sklearn.compose._column_transformer.make_column_selector object at 0x7fb8fb1dfe10>)])),\n",
              "                ('mdl',\n",
              "                 LogisticRegression(penalty='elasticnet', solver='saga',\n",
              "                                    tol=0.01))])"
            ],
            "text/html": [
              "<style>#sk-4be01d39-950b-4aeb-b45c-796b256224c0 {color: black;background-color: white;}#sk-4be01d39-950b-4aeb-b45c-796b256224c0 pre{padding: 0;}#sk-4be01d39-950b-4aeb-b45c-796b256224c0 div.sk-toggleable {background-color: white;}#sk-4be01d39-950b-4aeb-b45c-796b256224c0 label.sk-toggleable__label {cursor: pointer;display: block;width: 100%;margin-bottom: 0;padding: 0.3em;box-sizing: border-box;text-align: center;}#sk-4be01d39-950b-4aeb-b45c-796b256224c0 label.sk-toggleable__label-arrow:before {content: \"▸\";float: left;margin-right: 0.25em;color: #696969;}#sk-4be01d39-950b-4aeb-b45c-796b256224c0 label.sk-toggleable__label-arrow:hover:before {color: black;}#sk-4be01d39-950b-4aeb-b45c-796b256224c0 div.sk-estimator:hover label.sk-toggleable__label-arrow:before {color: black;}#sk-4be01d39-950b-4aeb-b45c-796b256224c0 div.sk-toggleable__content {max-height: 0;max-width: 0;overflow: hidden;text-align: left;background-color: #f0f8ff;}#sk-4be01d39-950b-4aeb-b45c-796b256224c0 div.sk-toggleable__content pre {margin: 0.2em;color: black;border-radius: 0.25em;background-color: #f0f8ff;}#sk-4be01d39-950b-4aeb-b45c-796b256224c0 input.sk-toggleable__control:checked~div.sk-toggleable__content {max-height: 200px;max-width: 100%;overflow: auto;}#sk-4be01d39-950b-4aeb-b45c-796b256224c0 input.sk-toggleable__control:checked~label.sk-toggleable__label-arrow:before {content: \"▾\";}#sk-4be01d39-950b-4aeb-b45c-796b256224c0 div.sk-estimator input.sk-toggleable__control:checked~label.sk-toggleable__label {background-color: #d4ebff;}#sk-4be01d39-950b-4aeb-b45c-796b256224c0 div.sk-label input.sk-toggleable__control:checked~label.sk-toggleable__label {background-color: #d4ebff;}#sk-4be01d39-950b-4aeb-b45c-796b256224c0 input.sk-hidden--visually {border: 0;clip: rect(1px 1px 1px 1px);clip: rect(1px, 1px, 1px, 1px);height: 1px;margin: -1px;overflow: hidden;padding: 0;position: absolute;width: 1px;}#sk-4be01d39-950b-4aeb-b45c-796b256224c0 div.sk-estimator {font-family: monospace;background-color: #f0f8ff;border: 1px dotted black;border-radius: 0.25em;box-sizing: border-box;margin-bottom: 0.5em;}#sk-4be01d39-950b-4aeb-b45c-796b256224c0 div.sk-estimator:hover {background-color: #d4ebff;}#sk-4be01d39-950b-4aeb-b45c-796b256224c0 div.sk-parallel-item::after {content: \"\";width: 100%;border-bottom: 1px solid gray;flex-grow: 1;}#sk-4be01d39-950b-4aeb-b45c-796b256224c0 div.sk-label:hover label.sk-toggleable__label {background-color: #d4ebff;}#sk-4be01d39-950b-4aeb-b45c-796b256224c0 div.sk-serial::before {content: \"\";position: absolute;border-left: 1px solid gray;box-sizing: border-box;top: 2em;bottom: 0;left: 50%;}#sk-4be01d39-950b-4aeb-b45c-796b256224c0 div.sk-serial {display: flex;flex-direction: column;align-items: center;background-color: white;padding-right: 0.2em;padding-left: 0.2em;}#sk-4be01d39-950b-4aeb-b45c-796b256224c0 div.sk-item {z-index: 1;}#sk-4be01d39-950b-4aeb-b45c-796b256224c0 div.sk-parallel {display: flex;align-items: stretch;justify-content: center;background-color: white;}#sk-4be01d39-950b-4aeb-b45c-796b256224c0 div.sk-parallel::before {content: \"\";position: absolute;border-left: 1px solid gray;box-sizing: border-box;top: 2em;bottom: 0;left: 50%;}#sk-4be01d39-950b-4aeb-b45c-796b256224c0 div.sk-parallel-item {display: flex;flex-direction: column;position: relative;background-color: white;}#sk-4be01d39-950b-4aeb-b45c-796b256224c0 div.sk-parallel-item:first-child::after {align-self: flex-end;width: 50%;}#sk-4be01d39-950b-4aeb-b45c-796b256224c0 div.sk-parallel-item:last-child::after {align-self: flex-start;width: 50%;}#sk-4be01d39-950b-4aeb-b45c-796b256224c0 div.sk-parallel-item:only-child::after {width: 0;}#sk-4be01d39-950b-4aeb-b45c-796b256224c0 div.sk-dashed-wrapped {border: 1px dashed gray;margin: 0 0.4em 0.5em 0.4em;box-sizing: border-box;padding-bottom: 0.4em;background-color: white;position: relative;}#sk-4be01d39-950b-4aeb-b45c-796b256224c0 div.sk-label label {font-family: monospace;font-weight: bold;background-color: white;display: inline-block;line-height: 1.2em;}#sk-4be01d39-950b-4aeb-b45c-796b256224c0 div.sk-label-container {position: relative;z-index: 2;text-align: center;}#sk-4be01d39-950b-4aeb-b45c-796b256224c0 div.sk-container {/* jupyter's `normalize.less` sets `[hidden] { display: none; }` but bootstrap.min.css set `[hidden] { display: none !important; }` so we also need the `!important` here to be able to override the default hidden behavior on the sphinx rendered scikit-learn.org. See: https://github.com/scikit-learn/scikit-learn/issues/21755 */display: inline-block !important;position: relative;}#sk-4be01d39-950b-4aeb-b45c-796b256224c0 div.sk-text-repr-fallback {display: none;}</style><div id=\"sk-4be01d39-950b-4aeb-b45c-796b256224c0\" class=\"sk-top-container\"><div class=\"sk-text-repr-fallback\"><pre>Pipeline(steps=[(&#x27;preproc&#x27;,\n",
              "                 ColumnTransformer(remainder=&#x27;passthrough&#x27;,\n",
              "                                   transformers=[(&#x27;cat_pipe&#x27;,\n",
              "                                                  Pipeline(steps=[(&#x27;cat_impute&#x27;,\n",
              "                                                                   SimpleImputer(strategy=&#x27;most_frequent&#x27;)),\n",
              "                                                                  (&#x27;onehot_cat&#x27;,\n",
              "                                                                   OneHotEncoder(drop=&#x27;if_binary&#x27;))]),\n",
              "                                                  &lt;sklearn.compose._column_transformer.make_column_selector object at 0x7fb8fb1dfd90&gt;),\n",
              "                                                 (&#x27;num_pipe&#x27;,\n",
              "                                                  Pipeline(steps=[(&#x27;impute_num&#x27;,\n",
              "                                                                   SimpleImputer()),\n",
              "                                                                  (&#x27;scale_num&#x27;,\n",
              "                                                                   StandardScaler())]),\n",
              "                                                  &lt;sklearn.compose._column_transformer.make_column_selector object at 0x7fb8fb1dfe10&gt;)])),\n",
              "                (&#x27;mdl&#x27;,\n",
              "                 LogisticRegression(penalty=&#x27;elasticnet&#x27;, solver=&#x27;saga&#x27;,\n",
              "                                    tol=0.01))])</pre><b>Please rerun this cell to show the HTML repr or trust the notebook.</b></div><div class=\"sk-container\" hidden><div class=\"sk-item sk-dashed-wrapped\"><div class=\"sk-label-container\"><div class=\"sk-label sk-toggleable\"><input class=\"sk-toggleable__control sk-hidden--visually\" id=\"6cb6bf26-5ea2-49f7-b690-e2631ac6d690\" type=\"checkbox\" ><label for=\"6cb6bf26-5ea2-49f7-b690-e2631ac6d690\" class=\"sk-toggleable__label sk-toggleable__label-arrow\">Pipeline</label><div class=\"sk-toggleable__content\"><pre>Pipeline(steps=[(&#x27;preproc&#x27;,\n",
              "                 ColumnTransformer(remainder=&#x27;passthrough&#x27;,\n",
              "                                   transformers=[(&#x27;cat_pipe&#x27;,\n",
              "                                                  Pipeline(steps=[(&#x27;cat_impute&#x27;,\n",
              "                                                                   SimpleImputer(strategy=&#x27;most_frequent&#x27;)),\n",
              "                                                                  (&#x27;onehot_cat&#x27;,\n",
              "                                                                   OneHotEncoder(drop=&#x27;if_binary&#x27;))]),\n",
              "                                                  &lt;sklearn.compose._column_transformer.make_column_selector object at 0x7fb8fb1dfd90&gt;),\n",
              "                                                 (&#x27;num_pipe&#x27;,\n",
              "                                                  Pipeline(steps=[(&#x27;impute_num&#x27;,\n",
              "                                                                   SimpleImputer()),\n",
              "                                                                  (&#x27;scale_num&#x27;,\n",
              "                                                                   StandardScaler())]),\n",
              "                                                  &lt;sklearn.compose._column_transformer.make_column_selector object at 0x7fb8fb1dfe10&gt;)])),\n",
              "                (&#x27;mdl&#x27;,\n",
              "                 LogisticRegression(penalty=&#x27;elasticnet&#x27;, solver=&#x27;saga&#x27;,\n",
              "                                    tol=0.01))])</pre></div></div></div><div class=\"sk-serial\"><div class=\"sk-item sk-dashed-wrapped\"><div class=\"sk-label-container\"><div class=\"sk-label sk-toggleable\"><input class=\"sk-toggleable__control sk-hidden--visually\" id=\"833eba2e-aff5-466f-a0c4-1defc9e570fd\" type=\"checkbox\" ><label for=\"833eba2e-aff5-466f-a0c4-1defc9e570fd\" class=\"sk-toggleable__label sk-toggleable__label-arrow\">preproc: ColumnTransformer</label><div class=\"sk-toggleable__content\"><pre>ColumnTransformer(remainder=&#x27;passthrough&#x27;,\n",
              "                  transformers=[(&#x27;cat_pipe&#x27;,\n",
              "                                 Pipeline(steps=[(&#x27;cat_impute&#x27;,\n",
              "                                                  SimpleImputer(strategy=&#x27;most_frequent&#x27;)),\n",
              "                                                 (&#x27;onehot_cat&#x27;,\n",
              "                                                  OneHotEncoder(drop=&#x27;if_binary&#x27;))]),\n",
              "                                 &lt;sklearn.compose._column_transformer.make_column_selector object at 0x7fb8fb1dfd90&gt;),\n",
              "                                (&#x27;num_pipe&#x27;,\n",
              "                                 Pipeline(steps=[(&#x27;impute_num&#x27;,\n",
              "                                                  SimpleImputer()),\n",
              "                                                 (&#x27;scale_num&#x27;,\n",
              "                                                  StandardScaler())]),\n",
              "                                 &lt;sklearn.compose._column_transformer.make_column_selector object at 0x7fb8fb1dfe10&gt;)])</pre></div></div></div><div class=\"sk-parallel\"><div class=\"sk-parallel-item\"><div class=\"sk-item\"><div class=\"sk-label-container\"><div class=\"sk-label sk-toggleable\"><input class=\"sk-toggleable__control sk-hidden--visually\" id=\"c163239d-90e7-4e01-a13b-a9f7e465be8f\" type=\"checkbox\" ><label for=\"c163239d-90e7-4e01-a13b-a9f7e465be8f\" class=\"sk-toggleable__label sk-toggleable__label-arrow\">cat_pipe</label><div class=\"sk-toggleable__content\"><pre>&lt;sklearn.compose._column_transformer.make_column_selector object at 0x7fb8fb1dfd90&gt;</pre></div></div></div><div class=\"sk-serial\"><div class=\"sk-item\"><div class=\"sk-serial\"><div class=\"sk-item\"><div class=\"sk-estimator sk-toggleable\"><input class=\"sk-toggleable__control sk-hidden--visually\" id=\"fdb91b18-6bfc-4ea6-b054-7b4ee9b798f8\" type=\"checkbox\" ><label for=\"fdb91b18-6bfc-4ea6-b054-7b4ee9b798f8\" class=\"sk-toggleable__label sk-toggleable__label-arrow\">SimpleImputer</label><div class=\"sk-toggleable__content\"><pre>SimpleImputer(strategy=&#x27;most_frequent&#x27;)</pre></div></div></div><div class=\"sk-item\"><div class=\"sk-estimator sk-toggleable\"><input class=\"sk-toggleable__control sk-hidden--visually\" id=\"5cd85445-17d9-4c24-8b80-3f88b429fdd6\" type=\"checkbox\" ><label for=\"5cd85445-17d9-4c24-8b80-3f88b429fdd6\" class=\"sk-toggleable__label sk-toggleable__label-arrow\">OneHotEncoder</label><div class=\"sk-toggleable__content\"><pre>OneHotEncoder(drop=&#x27;if_binary&#x27;)</pre></div></div></div></div></div></div></div></div><div class=\"sk-parallel-item\"><div class=\"sk-item\"><div class=\"sk-label-container\"><div class=\"sk-label sk-toggleable\"><input class=\"sk-toggleable__control sk-hidden--visually\" id=\"79210ae8-e850-45b4-b1c6-d5db0867da78\" type=\"checkbox\" ><label for=\"79210ae8-e850-45b4-b1c6-d5db0867da78\" class=\"sk-toggleable__label sk-toggleable__label-arrow\">num_pipe</label><div class=\"sk-toggleable__content\"><pre>&lt;sklearn.compose._column_transformer.make_column_selector object at 0x7fb8fb1dfe10&gt;</pre></div></div></div><div class=\"sk-serial\"><div class=\"sk-item\"><div class=\"sk-serial\"><div class=\"sk-item\"><div class=\"sk-estimator sk-toggleable\"><input class=\"sk-toggleable__control sk-hidden--visually\" id=\"cfeb10d2-7e47-44a6-b92b-0bfaccef4c35\" type=\"checkbox\" ><label for=\"cfeb10d2-7e47-44a6-b92b-0bfaccef4c35\" class=\"sk-toggleable__label sk-toggleable__label-arrow\">SimpleImputer</label><div class=\"sk-toggleable__content\"><pre>SimpleImputer()</pre></div></div></div><div class=\"sk-item\"><div class=\"sk-estimator sk-toggleable\"><input class=\"sk-toggleable__control sk-hidden--visually\" id=\"21cbdb38-0c04-4cfc-abed-efa3814281e5\" type=\"checkbox\" ><label for=\"21cbdb38-0c04-4cfc-abed-efa3814281e5\" class=\"sk-toggleable__label sk-toggleable__label-arrow\">StandardScaler</label><div class=\"sk-toggleable__content\"><pre>StandardScaler()</pre></div></div></div></div></div></div></div></div><div class=\"sk-parallel-item\"><div class=\"sk-item\"><div class=\"sk-label-container\"><div class=\"sk-label sk-toggleable\"><input class=\"sk-toggleable__control sk-hidden--visually\" id=\"7425ba3b-49d4-4d5d-a459-f1ce15bd4b8a\" type=\"checkbox\" ><label for=\"7425ba3b-49d4-4d5d-a459-f1ce15bd4b8a\" class=\"sk-toggleable__label sk-toggleable__label-arrow\">remainder</label><div class=\"sk-toggleable__content\"><pre></pre></div></div></div><div class=\"sk-serial\"><div class=\"sk-item\"><div class=\"sk-estimator sk-toggleable\"><input class=\"sk-toggleable__control sk-hidden--visually\" id=\"c1b1fb03-3891-4b32-ab5e-441acc8210a3\" type=\"checkbox\" ><label for=\"c1b1fb03-3891-4b32-ab5e-441acc8210a3\" class=\"sk-toggleable__label sk-toggleable__label-arrow\">passthrough</label><div class=\"sk-toggleable__content\"><pre>passthrough</pre></div></div></div></div></div></div></div></div><div class=\"sk-item\"><div class=\"sk-estimator sk-toggleable\"><input class=\"sk-toggleable__control sk-hidden--visually\" id=\"d6640e32-de79-4c8a-a92d-6636e70434ac\" type=\"checkbox\" ><label for=\"d6640e32-de79-4c8a-a92d-6636e70434ac\" class=\"sk-toggleable__label sk-toggleable__label-arrow\">LogisticRegression</label><div class=\"sk-toggleable__content\"><pre>LogisticRegression(penalty=&#x27;elasticnet&#x27;, solver=&#x27;saga&#x27;, tol=0.01)</pre></div></div></div></div></div></div></div>"
            ]
          },
          "metadata": {}
        }
      ],
      "source": [
        "GradientBoostingClassifier,\n",
        "# TODO: set up your modeling pipeline\n",
        "\n",
        "#generate the whole modeling pipeline with preprocessing\n",
        "pipe = Pipeline(steps=[('preproc', preproc),\n",
        "                       ('mdl', LogisticRegression(penalty='elasticnet', solver='saga', tol=0.01))])\n",
        "pipe2 = Pipeline(steps=[('preproc', preproc),\n",
        "                       ('mdl', RandomForestClassifier())])\n",
        "\n",
        "pipe3 = Pipeline(steps=[('preproc', preproc),\n",
        "                       ('mdl', GradientBoostingClassifier())])\n",
        "#visualization for steps\n",
        "with config_context(display='diagram'):\n",
        "    display(pipe)\n",
        "\n",
        "\n",
        "\n",
        "\n",
        "# Feel free to uncomment and edit the code below to visualize your overall pieline\n",
        "# with config_context(display='diagram'):\n",
        "#     display(your_pipeline_name)"
      ]
    },
    {
      "cell_type": "markdown",
      "id": "32517c21-62d6-4d8c-81ad-aa08a3199ff3",
      "metadata": {
        "id": "32517c21-62d6-4d8c-81ad-aa08a3199ff3"
      },
      "source": [
        "## Cross-validation with hyperparameter tuning\n",
        "\n",
        "Now that we have our pipelines, we can now use this as part of cross validation and hyperparameter tuning."
      ]
    },
    {
      "cell_type": "code",
      "execution_count": 13,
      "id": "f94e90d0-7785-48f4-a0cd-ff37090a92d9",
      "metadata": {
        "id": "f94e90d0-7785-48f4-a0cd-ff37090a92d9"
      },
      "outputs": [],
      "source": [
        "# TODO: set up your tuning grid \n",
        "\n",
        "tuning_grid = {'mdl__l1_ratio' : np.linspace(0,1,5),\n",
        "               'mdl__C': np.logspace(-1, 6, 3) }\n",
        "grid_search = GridSearchCV(pipe, param_grid = tuning_grid, cv = 5, return_train_score=True)\n",
        "\n",
        "tuning_grid2 = {'mdl__n_estimators' : [100, 200 ,500],\n",
        "               'mdl__max_depth': [10, 15, 20] }\n",
        "grid_search2 = GridSearchCV(pipe2, param_grid = tuning_grid2, cv = 5, return_train_score=True)\n",
        "\n",
        "tuning_grid3 = {'mdl__n_estimators' : [100, 200 ,500],\n",
        "                'mdl__max_depth': [1, 15, 14]}\n",
        "grid_search3 = GridSearchCV(pipe3, param_grid = tuning_grid3, cv = 5, return_train_score=True)\n",
        "\n"
      ]
    },
    {
      "cell_type": "code",
      "execution_count": 14,
      "id": "e8f2cb02-c5eb-4fd4-9331-050191081014",
      "metadata": {
        "id": "e8f2cb02-c5eb-4fd4-9331-050191081014",
        "colab": {
          "base_uri": "https://localhost:8080/"
        },
        "outputId": "44bf395a-b249-464a-a02c-7aba04ee1072"
      },
      "outputs": [
        {
          "output_type": "execute_result",
          "data": {
            "text/plain": [
              "GridSearchCV(cv=5,\n",
              "             estimator=Pipeline(steps=[('preproc',\n",
              "                                        ColumnTransformer(remainder='passthrough',\n",
              "                                                          transformers=[('cat_pipe',\n",
              "                                                                         Pipeline(steps=[('cat_impute',\n",
              "                                                                                          SimpleImputer(strategy='most_frequent')),\n",
              "                                                                                         ('onehot_cat',\n",
              "                                                                                          OneHotEncoder(drop='if_binary'))]),\n",
              "                                                                         <sklearn.compose._column_transformer.make_column_selector object at 0x7fb8fb1dfd90>),\n",
              "                                                                        ('num_pipe',\n",
              "                                                                         Pipeline(step...\n",
              "                                                                                          SimpleImputer()),\n",
              "                                                                                         ('scale_num',\n",
              "                                                                                          StandardScaler())]),\n",
              "                                                                         <sklearn.compose._column_transformer.make_column_selector object at 0x7fb8fb1dfe10>)])),\n",
              "                                       ('mdl',\n",
              "                                        LogisticRegression(penalty='elasticnet',\n",
              "                                                           solver='saga',\n",
              "                                                           tol=0.01))]),\n",
              "             param_grid={'mdl__C': array([1.00000000e-01, 3.16227766e+02, 1.00000000e+06]),\n",
              "                         'mdl__l1_ratio': array([0.  , 0.25, 0.5 , 0.75, 1.  ])},\n",
              "             return_train_score=True)"
            ]
          },
          "metadata": {},
          "execution_count": 14
        }
      ],
      "source": [
        "# TODO: fit your model\n",
        "\n",
        "grid_search.fit(X_train, y_train)"
      ]
    },
    {
      "cell_type": "code",
      "source": [
        "# TODO: fit your model 2 - Random forest\n",
        "grid_search2.fit(X_train, y_train)"
      ],
      "metadata": {
        "colab": {
          "base_uri": "https://localhost:8080/"
        },
        "id": "wNkvJ1gfUE9H",
        "outputId": "0e3f331e-162c-44bf-c112-7521dfa0c48e"
      },
      "id": "wNkvJ1gfUE9H",
      "execution_count": 15,
      "outputs": [
        {
          "output_type": "execute_result",
          "data": {
            "text/plain": [
              "GridSearchCV(cv=5,\n",
              "             estimator=Pipeline(steps=[('preproc',\n",
              "                                        ColumnTransformer(remainder='passthrough',\n",
              "                                                          transformers=[('cat_pipe',\n",
              "                                                                         Pipeline(steps=[('cat_impute',\n",
              "                                                                                          SimpleImputer(strategy='most_frequent')),\n",
              "                                                                                         ('onehot_cat',\n",
              "                                                                                          OneHotEncoder(drop='if_binary'))]),\n",
              "                                                                         <sklearn.compose._column_transformer.make_column_selector object at 0x7fb8fb1dfd90>),\n",
              "                                                                        ('num_pipe',\n",
              "                                                                         Pipeline(steps=[('impute_num',\n",
              "                                                                                          SimpleImputer()),\n",
              "                                                                                         ('scale_num',\n",
              "                                                                                          StandardScaler())]),\n",
              "                                                                         <sklearn.compose._column_transformer.make_column_selector object at 0x7fb8fb1dfe10>)])),\n",
              "                                       ('mdl', RandomForestClassifier())]),\n",
              "             param_grid={'mdl__max_depth': [10, 15, 20],\n",
              "                         'mdl__n_estimators': [100, 200, 500]},\n",
              "             return_train_score=True)"
            ]
          },
          "metadata": {},
          "execution_count": 15
        }
      ]
    },
    {
      "cell_type": "code",
      "source": [
        "# TODO: fit your model 3 - Gradient\n",
        "grid_search3.fit(X_train, y_train)"
      ],
      "metadata": {
        "colab": {
          "base_uri": "https://localhost:8080/"
        },
        "id": "6dpArbrgUHx5",
        "outputId": "599d62c2-5dad-49b8-b18f-b71695037f04"
      },
      "id": "6dpArbrgUHx5",
      "execution_count": 16,
      "outputs": [
        {
          "output_type": "execute_result",
          "data": {
            "text/plain": [
              "GridSearchCV(cv=5,\n",
              "             estimator=Pipeline(steps=[('preproc',\n",
              "                                        ColumnTransformer(remainder='passthrough',\n",
              "                                                          transformers=[('cat_pipe',\n",
              "                                                                         Pipeline(steps=[('cat_impute',\n",
              "                                                                                          SimpleImputer(strategy='most_frequent')),\n",
              "                                                                                         ('onehot_cat',\n",
              "                                                                                          OneHotEncoder(drop='if_binary'))]),\n",
              "                                                                         <sklearn.compose._column_transformer.make_column_selector object at 0x7fb8fb1dfd90>),\n",
              "                                                                        ('num_pipe',\n",
              "                                                                         Pipeline(steps=[('impute_num',\n",
              "                                                                                          SimpleImputer()),\n",
              "                                                                                         ('scale_num',\n",
              "                                                                                          StandardScaler())]),\n",
              "                                                                         <sklearn.compose._column_transformer.make_column_selector object at 0x7fb8fb1dfe10>)])),\n",
              "                                       ('mdl', GradientBoostingClassifier())]),\n",
              "             param_grid={'mdl__max_depth': [1, 15, 14],\n",
              "                         'mdl__n_estimators': [100, 200, 500]},\n",
              "             return_train_score=True)"
            ]
          },
          "metadata": {},
          "execution_count": 16
        }
      ]
    },
    {
      "cell_type": "code",
      "execution_count": 17,
      "id": "69f4874e-0de3-462f-95ef-d01ba648f7a4",
      "metadata": {
        "id": "69f4874e-0de3-462f-95ef-d01ba648f7a4",
        "colab": {
          "base_uri": "https://localhost:8080/"
        },
        "outputId": "6b93d6e0-36aa-4dec-e573-53181ecaebbb"
      },
      "outputs": [
        {
          "output_type": "stream",
          "name": "stdout",
          "text": [
            "0.8747634718222953\n"
          ]
        },
        {
          "output_type": "execute_result",
          "data": {
            "text/plain": [
              "{'mdl__C': 0.1, 'mdl__l1_ratio': 0.0}"
            ]
          },
          "metadata": {},
          "execution_count": 17
        }
      ],
      "source": [
        "# TODO: find the best performing model parameters and their values\n",
        "# @@ what\n",
        "print(grid_search.best_score_)\n",
        "grid_search.best_params_\n",
        "\n"
      ]
    },
    {
      "cell_type": "code",
      "source": [
        "# TODO: find the best performing model parameters and their values\n",
        "# @@ what\n",
        "print(grid_search2.best_score_)\n",
        "grid_search2.best_params_\n"
      ],
      "metadata": {
        "colab": {
          "base_uri": "https://localhost:8080/"
        },
        "id": "l783iVHaUWu9",
        "outputId": "eb53acab-c1e9-46ae-f508-c76b57a1cc3f"
      },
      "id": "l783iVHaUWu9",
      "execution_count": 18,
      "outputs": [
        {
          "output_type": "stream",
          "name": "stdout",
          "text": [
            "0.8602714932126696\n"
          ]
        },
        {
          "output_type": "execute_result",
          "data": {
            "text/plain": [
              "{'mdl__max_depth': 20, 'mdl__n_estimators': 200}"
            ]
          },
          "metadata": {},
          "execution_count": 18
        }
      ]
    },
    {
      "cell_type": "code",
      "source": [
        "# TODO: find the best performing model parameters and their values\n",
        "# @@ what\n",
        "print(grid_search3.best_score_)\n",
        "grid_search3.best_params_\n"
      ],
      "metadata": {
        "colab": {
          "base_uri": "https://localhost:8080/"
        },
        "id": "lQWDlHODUYI_",
        "outputId": "0dda8bc0-3fc9-4c58-cb59-262237fb29ae"
      },
      "id": "lQWDlHODUYI_",
      "execution_count": 19,
      "outputs": [
        {
          "output_type": "stream",
          "name": "stdout",
          "text": [
            "0.8666104483751542\n"
          ]
        },
        {
          "output_type": "execute_result",
          "data": {
            "text/plain": [
              "{'mdl__max_depth': 1, 'mdl__n_estimators': 500}"
            ]
          },
          "metadata": {},
          "execution_count": 19
        }
      ]
    },
    {
      "cell_type": "markdown",
      "id": "289be208-bf90-4699-951e-b09a0289aa9d",
      "metadata": {
        "id": "289be208-bf90-4699-951e-b09a0289aa9d"
      },
      "source": [
        "## Final fit\n",
        "\n",
        "The final fit here is already present in the generated model due to the way we set our parameters in the grid search. If we want to look at the performance, we can do so. Here is a non-helpful description of the best model:"
      ]
    },
    {
      "cell_type": "code",
      "execution_count": 20,
      "id": "9a0c404f-514c-4f2c-98c9-506ca8ca1c46",
      "metadata": {
        "id": "9a0c404f-514c-4f2c-98c9-506ca8ca1c46",
        "colab": {
          "base_uri": "https://localhost:8080/"
        },
        "outputId": "08e4e5bf-5165-47f6-bf50-2cbd2627ca84"
      },
      "outputs": [
        {
          "output_type": "execute_result",
          "data": {
            "text/plain": [
              "Pipeline(steps=[('preproc',\n",
              "                 ColumnTransformer(remainder='passthrough',\n",
              "                                   transformers=[('cat_pipe',\n",
              "                                                  Pipeline(steps=[('cat_impute',\n",
              "                                                                   SimpleImputer(strategy='most_frequent')),\n",
              "                                                                  ('onehot_cat',\n",
              "                                                                   OneHotEncoder(drop='if_binary'))]),\n",
              "                                                  <sklearn.compose._column_transformer.make_column_selector object at 0x7fb8fb225ed0>),\n",
              "                                                 ('num_pipe',\n",
              "                                                  Pipeline(steps=[('impute_num',\n",
              "                                                                   SimpleImputer()),\n",
              "                                                                  ('scale_num',\n",
              "                                                                   StandardScaler())]),\n",
              "                                                  <sklearn.compose._column_transformer.make_column_selector object at 0x7fb8fb225c90>)])),\n",
              "                ('mdl',\n",
              "                 LogisticRegression(C=0.1, l1_ratio=0.0, penalty='elasticnet',\n",
              "                                    solver='saga', tol=0.01))])"
            ]
          },
          "metadata": {},
          "execution_count": 20
        }
      ],
      "source": [
        "# TODO: print your best estimator (pipeline)\n",
        "grid_search.best_estimator_"
      ]
    },
    {
      "cell_type": "code",
      "source": [
        "# TODO: print your best estimator (pipeline)\n",
        "grid_search2.best_estimator_"
      ],
      "metadata": {
        "colab": {
          "base_uri": "https://localhost:8080/"
        },
        "id": "ubj2LHXWUdmE",
        "outputId": "adc559d3-f6cb-4c72-e460-2cea3ceedde6"
      },
      "id": "ubj2LHXWUdmE",
      "execution_count": 21,
      "outputs": [
        {
          "output_type": "execute_result",
          "data": {
            "text/plain": [
              "Pipeline(steps=[('preproc',\n",
              "                 ColumnTransformer(remainder='passthrough',\n",
              "                                   transformers=[('cat_pipe',\n",
              "                                                  Pipeline(steps=[('cat_impute',\n",
              "                                                                   SimpleImputer(strategy='most_frequent')),\n",
              "                                                                  ('onehot_cat',\n",
              "                                                                   OneHotEncoder(drop='if_binary'))]),\n",
              "                                                  <sklearn.compose._column_transformer.make_column_selector object at 0x7fb8fb1b3650>),\n",
              "                                                 ('num_pipe',\n",
              "                                                  Pipeline(steps=[('impute_num',\n",
              "                                                                   SimpleImputer()),\n",
              "                                                                  ('scale_num',\n",
              "                                                                   StandardScaler())]),\n",
              "                                                  <sklearn.compose._column_transformer.make_column_selector object at 0x7fb8fb1b3550>)])),\n",
              "                ('mdl',\n",
              "                 RandomForestClassifier(max_depth=20, n_estimators=200))])"
            ]
          },
          "metadata": {},
          "execution_count": 21
        }
      ]
    },
    {
      "cell_type": "code",
      "source": [
        "# TODO: print your best estimator (pipeline)\n",
        "grid_search3.best_estimator_"
      ],
      "metadata": {
        "colab": {
          "base_uri": "https://localhost:8080/"
        },
        "id": "kFC30BUzUfpE",
        "outputId": "079f7fc3-a76c-43a5-df80-76c1d53a1d98"
      },
      "id": "kFC30BUzUfpE",
      "execution_count": 22,
      "outputs": [
        {
          "output_type": "execute_result",
          "data": {
            "text/plain": [
              "Pipeline(steps=[('preproc',\n",
              "                 ColumnTransformer(remainder='passthrough',\n",
              "                                   transformers=[('cat_pipe',\n",
              "                                                  Pipeline(steps=[('cat_impute',\n",
              "                                                                   SimpleImputer(strategy='most_frequent')),\n",
              "                                                                  ('onehot_cat',\n",
              "                                                                   OneHotEncoder(drop='if_binary'))]),\n",
              "                                                  <sklearn.compose._column_transformer.make_column_selector object at 0x7fb8fb1c7750>),\n",
              "                                                 ('num_pipe',\n",
              "                                                  Pipeline(steps=[('impute_num',\n",
              "                                                                   SimpleImputer()),\n",
              "                                                                  ('scale_num',\n",
              "                                                                   StandardScaler())]),\n",
              "                                                  <sklearn.compose._column_transformer.make_column_selector object at 0x7fb8fb1c7390>)])),\n",
              "                ('mdl',\n",
              "                 GradientBoostingClassifier(max_depth=1, n_estimators=500))])"
            ]
          },
          "metadata": {},
          "execution_count": 22
        }
      ]
    },
    {
      "cell_type": "markdown",
      "id": "3feb06cf-bf30-4383-9449-4153c0fa996e",
      "metadata": {
        "id": "3feb06cf-bf30-4383-9449-4153c0fa996e"
      },
      "source": [
        "## Variable importance\n",
        "\n",
        "Now we assess the importance in the selected model to reveal any potential insights."
      ]
    },
    {
      "cell_type": "code",
      "execution_count": 23,
      "id": "45f8b024-9842-41e3-bbbb-2642cd4af47a",
      "metadata": {
        "id": "45f8b024-9842-41e3-bbbb-2642cd4af47a",
        "colab": {
          "base_uri": "https://localhost:8080/"
        },
        "outputId": "b241fd5a-7cb9-4fac-86c1-ed7980d2b2c6"
      },
      "outputs": [
        {
          "output_type": "execute_result",
          "data": {
            "text/plain": [
              "array(['No', 'Yes'], dtype=object)"
            ]
          },
          "metadata": {},
          "execution_count": 23
        }
      ],
      "source": [
        "# TODO: feel free to print out the target classes\n",
        "grid_search.classes_"
      ]
    },
    {
      "cell_type": "code",
      "source": [
        "# TODO: feel free to print out the target classes\n",
        "grid_search2.classes_"
      ],
      "metadata": {
        "colab": {
          "base_uri": "https://localhost:8080/"
        },
        "id": "_Yg0VkzUU7em",
        "outputId": "1a19188e-3eda-4588-f9aa-1bf24c406d3d"
      },
      "id": "_Yg0VkzUU7em",
      "execution_count": 24,
      "outputs": [
        {
          "output_type": "execute_result",
          "data": {
            "text/plain": [
              "array(['No', 'Yes'], dtype=object)"
            ]
          },
          "metadata": {},
          "execution_count": 24
        }
      ]
    },
    {
      "cell_type": "code",
      "source": [
        "# TODO: feel free to print out the target classes\n",
        "grid_search3.classes_"
      ],
      "metadata": {
        "colab": {
          "base_uri": "https://localhost:8080/"
        },
        "id": "CZ5RDKzLU9Wa",
        "outputId": "9b062320-3041-43e7-ad49-da3ade8fcd46"
      },
      "id": "CZ5RDKzLU9Wa",
      "execution_count": 25,
      "outputs": [
        {
          "output_type": "execute_result",
          "data": {
            "text/plain": [
              "array(['No', 'Yes'], dtype=object)"
            ]
          },
          "metadata": {},
          "execution_count": 25
        }
      ]
    },
    {
      "cell_type": "code",
      "execution_count": 26,
      "id": "e1832990-1f9d-46ee-9cf1-3c1288f7c47a",
      "metadata": {
        "id": "e1832990-1f9d-46ee-9cf1-3c1288f7c47a",
        "colab": {
          "base_uri": "https://localhost:8080/"
        },
        "outputId": "83fdc8a0-1568-43f6-c885-b249ca2d1365"
      },
      "outputs": [
        {
          "output_type": "execute_result",
          "data": {
            "text/plain": [
              "array([-0.53479655,  0.36889735, -0.15542438, -0.01002432, -0.36493729,\n",
              "        0.05363803,  0.08461843, -0.28692892,  0.05086986, -0.19083624,\n",
              "       -0.23414564,  0.25509892,  0.21017905, -0.25936222,  0.04759941,\n",
              "        0.35568201, -0.0475681 , -0.2086799 , -0.15499679, -0.21308813,\n",
              "       -0.03540645,  0.19449658, -0.33209619, -0.31821716,  0.32898977,\n",
              "       -0.32132358,  1.2876536 , -0.26585773, -0.15078183,  0.28769963,\n",
              "        0.00496485,  0.        , -0.05572   , -0.29769703,  0.00232973,\n",
              "       -0.30583738, -0.27859378, -0.33907806, -0.15837981, -0.01154606,\n",
              "        0.32027131, -0.03819629, -0.03314493, -0.19170735,  0.        ,\n",
              "       -0.13470566, -0.08931676, -0.21316455, -0.2738372 ,  0.28331064,\n",
              "       -0.37812438,  0.48784428, -0.4771677 ])"
            ]
          },
          "metadata": {},
          "execution_count": 26
        }
      ],
      "source": [
        "# TODO: feel free to uncomment and edit the code below to obtain your feature weights\n",
        "vip = grid_search.best_estimator_['mdl'].coef_[0]\n",
        "vip"
      ]
    },
    {
      "cell_type": "code",
      "source": [
        "# TODO: feel free to uncomment and edit the code below to obtain your feature weights\n",
        "\n",
        "vip2 = grid_search2.best_estimator_['mdl'].feature_importances_ #@@ do I take [0] or leave in array form?\n",
        "vip2"
      ],
      "metadata": {
        "colab": {
          "base_uri": "https://localhost:8080/"
        },
        "id": "JzHpWlyUVAHR",
        "outputId": "601d4933-50fc-4790-d8ab-7ee761c78bbd"
      },
      "id": "JzHpWlyUVAHR",
      "execution_count": 27,
      "outputs": [
        {
          "output_type": "execute_result",
          "data": {
            "text/plain": [
              "array([0.00356671, 0.01504944, 0.00686935, 0.00288951, 0.00721841,\n",
              "       0.00813397, 0.00279942, 0.00697652, 0.0068217 , 0.00761377,\n",
              "       0.00188337, 0.00648316, 0.00885063, 0.00301749, 0.00294571,\n",
              "       0.00964873, 0.00184929, 0.0024739 , 0.0006788 , 0.00617168,\n",
              "       0.00642636, 0.00662012, 0.00559199, 0.00780961, 0.01505657,\n",
              "       0.        , 0.04657241, 0.0586557 , 0.05157716, 0.04645007,\n",
              "       0.01733041, 0.        , 0.04372497, 0.02348195, 0.04222993,\n",
              "       0.02061012, 0.01975512, 0.02518219, 0.06539973, 0.04952247,\n",
              "       0.02975856, 0.0315611 , 0.00505951, 0.02040993, 0.        ,\n",
              "       0.02413774, 0.04623632, 0.02565277, 0.0250219 , 0.04273152,\n",
              "       0.02479336, 0.02463559, 0.03606323])"
            ]
          },
          "metadata": {},
          "execution_count": 27
        }
      ]
    },
    {
      "cell_type": "code",
      "source": [
        "# TODO: feel free to uncomment and edit the code below to obtain your feature weights\n",
        "\n",
        "vip3 = grid_search3.best_estimator_['mdl'].feature_importances_\n",
        "vip3"
      ],
      "metadata": {
        "colab": {
          "base_uri": "https://localhost:8080/"
        },
        "id": "A_vzWiSAVEP7",
        "outputId": "b94b757f-a838-4d46-9ef0-efa5b55030dd"
      },
      "id": "A_vzWiSAVEP7",
      "execution_count": 28,
      "outputs": [
        {
          "output_type": "execute_result",
          "data": {
            "text/plain": [
              "array([0.01339509, 0.02848703, 0.        , 0.        , 0.02769544,\n",
              "       0.00145112, 0.        , 0.00329666, 0.00233031, 0.        ,\n",
              "       0.        , 0.00891082, 0.00329481, 0.        , 0.        ,\n",
              "       0.0151694 , 0.        , 0.        , 0.00053237, 0.        ,\n",
              "       0.00111319, 0.        , 0.        , 0.        , 0.00870541,\n",
              "       0.        , 0.17755734, 0.06224909, 0.01534834, 0.03233881,\n",
              "       0.        , 0.        , 0.009133  , 0.03767626, 0.00136757,\n",
              "       0.0265623 , 0.04451087, 0.03390797, 0.05663265, 0.00380333,\n",
              "       0.03960527, 0.00389262, 0.        , 0.01194643, 0.        ,\n",
              "       0.06513479, 0.06461504, 0.02440055, 0.0462986 , 0.00460597,\n",
              "       0.00381297, 0.01837106, 0.10184751])"
            ]
          },
          "metadata": {},
          "execution_count": 28
        }
      ]
    },
    {
      "cell_type": "code",
      "execution_count": 29,
      "id": "7ebdc166-bdb7-4863-b46f-165f1aec7a7d",
      "metadata": {
        "id": "7ebdc166-bdb7-4863-b46f-165f1aec7a7d",
        "colab": {
          "base_uri": "https://localhost:8080/",
          "height": 550
        },
        "outputId": "ebd8fccf-884f-40e7-fe60-b57d93138f09"
      },
      "outputs": [
        {
          "output_type": "stream",
          "name": "stderr",
          "text": [
            "/usr/local/lib/python3.7/dist-packages/sklearn/utils/deprecation.py:87: FutureWarning: Function get_feature_names is deprecated; get_feature_names is deprecated in 1.0 and will be removed in 1.2. Please use get_feature_names_out instead.\n",
            "  warnings.warn(msg, category=FutureWarning)\n"
          ]
        },
        {
          "output_type": "execute_result",
          "data": {
            "text/plain": [
              "<matplotlib.axes._subplots.AxesSubplot at 0x7fb8f8941890>"
            ]
          },
          "metadata": {},
          "execution_count": 29
        },
        {
          "output_type": "display_data",
          "data": {
            "text/plain": [
              "<Figure size 1440x720 with 1 Axes>"
            ],
            "image/png": "[encoded data removed]"
          },
          "metadata": {
            "needs_background": "light"
          }
        }
      ],
      "source": [
        "# TODO: feel free to uncomment and edit the code below to obtain your feature importance graph. \n",
        "# Did the graph surprise you? What features did you think were more important?\n",
        "\n",
        "#get names in correct preproc order\n",
        "cat_names = grid_search.best_estimator_.named_steps['preproc'].transformers_[0][1].named_steps['onehot_cat'].get_feature_names()\n",
        "num_names = grid_search.best_estimator_.named_steps['preproc'].transformers_[1][2]\n",
        "\n",
        "#create df with vip info\n",
        "coef_info = pd.DataFrame({'feat_names':np.hstack([cat_names, num_names]), 'vip': vip})\n",
        "\n",
        "#get sign and magnitude information\n",
        "coef_info = coef_info.assign(coef_mag = abs(coef_info['vip']),\n",
        "                             coef_sign = np.sign(coef_info['vip']))\n",
        "\n",
        "#sort and plot\n",
        "coef_info = coef_info.set_index('feat_names').sort_values(by='coef_mag', ascending=False)\n",
        "plt.figure(figsize = (20,10))\n",
        "sns.barplot(y=coef_info.index, x='coef_mag', hue='coef_sign', data=coef_info, orient='h', dodge=False)"
      ]
    },
    {
      "cell_type": "code",
      "source": [
        "# TODO: feel free to uncomment and edit the code below to obtain your feature importance graph. \n",
        "# Did the graph surprise you? What features did you think were more important?\n",
        "# @@ IS THIS CORRECT? SHOULD I REMOVE 'SIGN'?\n",
        "\n",
        "#get names in correct preproc order\n",
        "cat_names = grid_search2.best_estimator_.named_steps['preproc'].transformers_[0][1].named_steps['onehot_cat'].get_feature_names()\n",
        "num_names = grid_search2.best_estimator_.named_steps['preproc'].transformers_[1][2]\n",
        "\n",
        "#create df with vip info\n",
        "coef_info = pd.DataFrame({'feat_names':np.hstack([cat_names, num_names]), 'vip': vip2})\n",
        "\n",
        "#get sign and magnitude information\n",
        "coef_info = coef_info.assign(coef_mag = abs(coef_info['vip']))\n",
        "\n",
        "#sort and plot\n",
        "coef_info = coef_info.set_index('feat_names').sort_values(by='coef_mag', ascending=False)\n",
        "plt.figure(figsize = (20,10))\n",
        "sns.barplot(y=coef_info.index, x='coef_mag', data=coef_info, orient='h', dodge=False)"
      ],
      "metadata": {
        "colab": {
          "base_uri": "https://localhost:8080/",
          "height": 550
        },
        "id": "J4uZ4I45VIrl",
        "outputId": "94c94287-38a7-48d7-898b-6a184b3c31c7"
      },
      "id": "J4uZ4I45VIrl",
      "execution_count": 30,
      "outputs": [
        {
          "output_type": "stream",
          "name": "stderr",
          "text": [
            "/usr/local/lib/python3.7/dist-packages/sklearn/utils/deprecation.py:87: FutureWarning: Function get_feature_names is deprecated; get_feature_names is deprecated in 1.0 and will be removed in 1.2. Please use get_feature_names_out instead.\n",
            "  warnings.warn(msg, category=FutureWarning)\n"
          ]
        },
        {
          "output_type": "execute_result",
          "data": {
            "text/plain": [
              "<matplotlib.axes._subplots.AxesSubplot at 0x7fb8f8952e50>"
            ]
          },
          "metadata": {},
          "execution_count": 30
        },
        {
          "output_type": "display_data",
          "data": {
            "text/plain": [
              "<Figure size 1440x720 with 1 Axes>"
            ],
            "image/png": "[encoded data removed]"
          },
          "metadata": {
            "needs_background": "light"
          }
        }
      ]
    },
    {
      "cell_type": "code",
      "source": [
        "# TODO: feel free to uncomment and edit the code below to obtain your feature importance graph. \n",
        "# Did the graph surprise you? What features did you think were more important?\n",
        "# @@ CHECK\n",
        "#get names in correct preproc order\n",
        "cat_names = grid_search3.best_estimator_.named_steps['preproc'].transformers_[0][1].named_steps['onehot_cat'].get_feature_names()\n",
        "num_names = grid_search3.best_estimator_.named_steps['preproc'].transformers_[1][2]\n",
        "\n",
        "#create df with vip info\n",
        "coef_info = pd.DataFrame({'feat_names':np.hstack([cat_names, num_names]), 'vip': vip3})\n",
        "\n",
        "#get sign and magnitude information\n",
        "coef_info = coef_info.assign(coef_mag = abs(coef_info['vip']),\n",
        "                             coef_sign = np.sign(coef_info['vip']))\n",
        "\n",
        "#sort and plot\n",
        "coef_info = coef_info.set_index('feat_names').sort_values(by='coef_mag', ascending=False)\n",
        "plt.figure(figsize = (20,10))\n",
        "sns.barplot(y=coef_info.index, x='coef_mag', hue='coef_sign', data=coef_info, orient='h', dodge=False)"
      ],
      "metadata": {
        "colab": {
          "base_uri": "https://localhost:8080/",
          "height": 550
        },
        "id": "D5_GBNO7WqFZ",
        "outputId": "c4b2ae57-8279-459a-fa23-aacb4929bb98"
      },
      "id": "D5_GBNO7WqFZ",
      "execution_count": 31,
      "outputs": [
        {
          "output_type": "stream",
          "name": "stderr",
          "text": [
            "/usr/local/lib/python3.7/dist-packages/sklearn/utils/deprecation.py:87: FutureWarning: Function get_feature_names is deprecated; get_feature_names is deprecated in 1.0 and will be removed in 1.2. Please use get_feature_names_out instead.\n",
            "  warnings.warn(msg, category=FutureWarning)\n"
          ]
        },
        {
          "output_type": "execute_result",
          "data": {
            "text/plain": [
              "<matplotlib.axes._subplots.AxesSubplot at 0x7fb8f65691d0>"
            ]
          },
          "metadata": {},
          "execution_count": 31
        },
        {
          "output_type": "display_data",
          "data": {
            "text/plain": [
              "<Figure size 1440x720 with 1 Axes>"
            ],
            "image/png": "[encoded data removed]"
          },
          "metadata": {
            "needs_background": "light"
          }
        }
      ]
    },
    {
      "cell_type": "markdown",
      "id": "aa95eb91-77ec-4d33-a039-b2f9f95097fb",
      "metadata": {
        "id": "aa95eb91-77ec-4d33-a039-b2f9f95097fb"
      },
      "source": [
        "## Performance metrics on test data\n",
        "\n",
        "\n",
        "Here, we can see the performance of the model, which is pretty nice! We can also look into different scores specifically for more insight into the performance."
      ]
    },
    {
      "cell_type": "code",
      "execution_count": 32,
      "id": "19f6f347-e01c-496a-ac3a-7e603361997f",
      "metadata": {
        "tags": [],
        "id": "19f6f347-e01c-496a-ac3a-7e603361997f",
        "colab": {
          "base_uri": "https://localhost:8080/"
        },
        "outputId": "67f92dc8-1e70-4217-b779-f40a4dfe5a40"
      },
      "outputs": [
        {
          "output_type": "stream",
          "name": "stdout",
          "text": [
            "              precision    recall  f1-score   support\n",
            "\n",
            "          No       0.89      0.99      0.94       309\n",
            "         Yes       0.88      0.39      0.54        59\n",
            "\n",
            "    accuracy                           0.89       368\n",
            "   macro avg       0.89      0.69      0.74       368\n",
            "weighted avg       0.89      0.89      0.88       368\n",
            "\n"
          ]
        }
      ],
      "source": [
        "# TODO: print your classification report of your model\n",
        "print(classification_report(y_test, grid_search.best_estimator_.predict(X_test)))\n"
      ]
    },
    {
      "cell_type": "code",
      "execution_count": 33,
      "id": "594638a2-fe7e-4295-ac53-edca4db92565",
      "metadata": {
        "id": "594638a2-fe7e-4295-ac53-edca4db92565",
        "colab": {
          "base_uri": "https://localhost:8080/",
          "height": 279
        },
        "outputId": "252a26f7-3b8f-493a-841d-eaae16838887"
      },
      "outputs": [
        {
          "output_type": "display_data",
          "data": {
            "text/plain": [
              "<Figure size 432x288 with 2 Axes>"
            ],
            "image/png": "[encoded data removed]"
          },
          "metadata": {
            "needs_background": "light"
          }
        }
      ],
      "source": [
        "# TODO: plot the confusion matrix graph\n",
        "cm = confusion_matrix(y_test, grid_search.best_estimator_.predict(X_test))\n",
        "disp = ConfusionMatrixDisplay(confusion_matrix=cm,\n",
        "                               display_labels=grid_search.classes_)\n",
        "disp.plot()\n",
        "\n",
        "plt.show()\n"
      ]
    },
    {
      "cell_type": "markdown",
      "source": [
        "Metrics for random forest"
      ],
      "metadata": {
        "id": "ebWdsRNsXvb9"
      },
      "id": "ebWdsRNsXvb9"
    },
    {
      "cell_type": "code",
      "source": [
        "# TODO: print your classification report of your model\n",
        "print(classification_report(y_test, grid_search2.best_estimator_.predict(X_test)))"
      ],
      "metadata": {
        "colab": {
          "base_uri": "https://localhost:8080/"
        },
        "id": "PwIn81FrXyLk",
        "outputId": "ce1c1c81-4a1a-44de-8394-889a5b3dd923"
      },
      "id": "PwIn81FrXyLk",
      "execution_count": 34,
      "outputs": [
        {
          "output_type": "stream",
          "name": "stdout",
          "text": [
            "              precision    recall  f1-score   support\n",
            "\n",
            "          No       0.87      0.98      0.92       309\n",
            "         Yes       0.71      0.20      0.32        59\n",
            "\n",
            "    accuracy                           0.86       368\n",
            "   macro avg       0.79      0.59      0.62       368\n",
            "weighted avg       0.84      0.86      0.82       368\n",
            "\n"
          ]
        }
      ]
    },
    {
      "cell_type": "code",
      "source": [
        "# TODO: plot the confusion matrix graph\n",
        "cm = confusion_matrix(y_test, grid_search2.best_estimator_.predict(X_test))\n",
        "disp = ConfusionMatrixDisplay(confusion_matrix=cm,\n",
        "                               display_labels=grid_search2.classes_)\n",
        "disp.plot()\n",
        "\n",
        "plt.show()"
      ],
      "metadata": {
        "colab": {
          "base_uri": "https://localhost:8080/",
          "height": 280
        },
        "id": "7mb5bql2XyxW",
        "outputId": "a0e13cab-e27b-4c21-b837-78ef7d3cde47"
      },
      "id": "7mb5bql2XyxW",
      "execution_count": 35,
      "outputs": [
        {
          "output_type": "display_data",
          "data": {
            "text/plain": [
              "<Figure size 432x288 with 2 Axes>"
            ],
            "image/png": "[encoded data removed]"
          },
          "metadata": {
            "needs_background": "light"
          }
        }
      ]
    },
    {
      "cell_type": "markdown",
      "source": [
        "Metrics for gradient classifier"
      ],
      "metadata": {
        "id": "UsFYjzIEXy4z"
      },
      "id": "UsFYjzIEXy4z"
    },
    {
      "cell_type": "code",
      "source": [
        "# TODO: print your classification report of your model\n",
        "print(classification_report(y_test, grid_search3.best_estimator_.predict(X_test)))"
      ],
      "metadata": {
        "colab": {
          "base_uri": "https://localhost:8080/"
        },
        "id": "FR6xlqOdX1A0",
        "outputId": "2f309edd-54bb-4299-9464-9b448639fb6d"
      },
      "id": "FR6xlqOdX1A0",
      "execution_count": 36,
      "outputs": [
        {
          "output_type": "stream",
          "name": "stdout",
          "text": [
            "              precision    recall  f1-score   support\n",
            "\n",
            "          No       0.89      0.96      0.93       309\n",
            "         Yes       0.67      0.41      0.51        59\n",
            "\n",
            "    accuracy                           0.87       368\n",
            "   macro avg       0.78      0.68      0.72       368\n",
            "weighted avg       0.86      0.87      0.86       368\n",
            "\n"
          ]
        }
      ]
    },
    {
      "cell_type": "code",
      "source": [
        "# TODO: plot the confusion matrix graph\n",
        "cm = confusion_matrix(y_test, grid_search3.best_estimator_.predict(X_test))\n",
        "disp = ConfusionMatrixDisplay(confusion_matrix=cm,\n",
        "                               display_labels=grid_search3.classes_)\n",
        "disp.plot()\n",
        "\n",
        "plt.show()"
      ],
      "metadata": {
        "colab": {
          "base_uri": "https://localhost:8080/",
          "height": 279
        },
        "id": "JwjYmKPcX1Ff",
        "outputId": "75cb1623-8a8e-4d57-8de0-c449e9d85f74"
      },
      "id": "JwjYmKPcX1Ff",
      "execution_count": 37,
      "outputs": [
        {
          "output_type": "display_data",
          "data": {
            "text/plain": [
              "<Figure size 432x288 with 2 Axes>"
            ],
            "image/png": "[encoded data removed]"
          },
          "metadata": {
            "needs_background": "light"
          }
        }
      ]
    }
  ],
  "metadata": {
    "kernelspec": {
      "display_name": "Python 3 (ipykernel)",
      "language": "python",
      "name": "python3"
    },
    "language_info": {
      "codemirror_mode": {
        "name": "ipython",
        "version": 3
      },
      "file_extension": ".py",
      "mimetype": "text/x-python",
      "name": "python",
      "nbconvert_exporter": "python",
      "pygments_lexer": "ipython3",
      "version": "3.9.7"
    },
    "colab": {
      "provenance": [],
      "include_colab_link": true
    }
  },
  "nbformat": 4,
  "nbformat_minor": 5
}